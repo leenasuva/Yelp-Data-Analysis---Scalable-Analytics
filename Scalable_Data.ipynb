{
  "cells": [
    {
      "cell_type": "code",
      "execution_count": null,
      "metadata": {
        "colab": {
          "base_uri": "https://localhost:8080/"
        },
        "id": "3H8aCJLCqYZT",
        "outputId": "653839c6-d67f-4887-b48d-f6992537823c"
      },
      "outputs": [
        {
          "name": "stdout",
          "output_type": "stream",
          "text": [
            "Mounted at /content/gdrive\n"
          ]
        }
      ],
      "source": [
        "from google.colab import drive\n",
        "\n",
        "drive.mount('/content/gdrive', force_remount=True)"
      ]
    },
    {
      "cell_type": "code",
      "execution_count": null,
      "metadata": {
        "id": "fT3FEpiat1pR"
      },
      "outputs": [],
      "source": [
        "!apt-get install openjdk-8-jdk-headless -qq > /dev/null"
      ]
    },
    {
      "cell_type": "code",
      "execution_count": null,
      "metadata": {
        "id": "8zD-E9pduA_x"
      },
      "outputs": [],
      "source": [
        "!wget -q https://archive.apache.org/dist/spark/spark-3.2.1/spark-3.2.1-bin-hadoop3.2.tgz"
      ]
    },
    {
      "cell_type": "code",
      "execution_count": null,
      "metadata": {
        "colab": {
          "base_uri": "https://localhost:8080/"
        },
        "id": "lmLUw-a4uE8K",
        "outputId": "716aa15d-5d03-4f3e-f64a-522b18da80ae"
      },
      "outputs": [
        {
          "name": "stdout",
          "output_type": "stream",
          "text": [
            "spark-3.2.1-bin-hadoop3.2/\n",
            "spark-3.2.1-bin-hadoop3.2/LICENSE\n",
            "spark-3.2.1-bin-hadoop3.2/NOTICE\n",
            "spark-3.2.1-bin-hadoop3.2/R/\n",
            "spark-3.2.1-bin-hadoop3.2/R/lib/\n",
            "spark-3.2.1-bin-hadoop3.2/R/lib/SparkR/\n",
            "spark-3.2.1-bin-hadoop3.2/R/lib/SparkR/DESCRIPTION\n",
            "spark-3.2.1-bin-hadoop3.2/R/lib/SparkR/INDEX\n",
            "spark-3.2.1-bin-hadoop3.2/R/lib/SparkR/Meta/\n",
            "spark-3.2.1-bin-hadoop3.2/R/lib/SparkR/Meta/Rd.rds\n",
            "spark-3.2.1-bin-hadoop3.2/R/lib/SparkR/Meta/features.rds\n",
            "spark-3.2.1-bin-hadoop3.2/R/lib/SparkR/Meta/hsearch.rds\n",
            "spark-3.2.1-bin-hadoop3.2/R/lib/SparkR/Meta/links.rds\n",
            "spark-3.2.1-bin-hadoop3.2/R/lib/SparkR/Meta/nsInfo.rds\n",
            "spark-3.2.1-bin-hadoop3.2/R/lib/SparkR/Meta/package.rds\n",
            "spark-3.2.1-bin-hadoop3.2/R/lib/SparkR/Meta/vignette.rds\n",
            "spark-3.2.1-bin-hadoop3.2/R/lib/SparkR/NAMESPACE\n",
            "spark-3.2.1-bin-hadoop3.2/R/lib/SparkR/R/\n",
            "spark-3.2.1-bin-hadoop3.2/R/lib/SparkR/R/SparkR\n",
            "spark-3.2.1-bin-hadoop3.2/R/lib/SparkR/R/SparkR.rdb\n",
            "spark-3.2.1-bin-hadoop3.2/R/lib/SparkR/R/SparkR.rdx\n",
            "spark-3.2.1-bin-hadoop3.2/R/lib/SparkR/doc/\n",
            "spark-3.2.1-bin-hadoop3.2/R/lib/SparkR/doc/index.html\n",
            "spark-3.2.1-bin-hadoop3.2/R/lib/SparkR/doc/sparkr-vignettes.R\n",
            "spark-3.2.1-bin-hadoop3.2/R/lib/SparkR/doc/sparkr-vignettes.Rmd\n",
            "spark-3.2.1-bin-hadoop3.2/R/lib/SparkR/doc/sparkr-vignettes.html\n",
            "spark-3.2.1-bin-hadoop3.2/R/lib/SparkR/help/\n",
            "spark-3.2.1-bin-hadoop3.2/R/lib/SparkR/help/AnIndex\n",
            "spark-3.2.1-bin-hadoop3.2/R/lib/SparkR/help/SparkR.rdb\n",
            "spark-3.2.1-bin-hadoop3.2/R/lib/SparkR/help/SparkR.rdx\n",
            "spark-3.2.1-bin-hadoop3.2/R/lib/SparkR/help/aliases.rds\n",
            "spark-3.2.1-bin-hadoop3.2/R/lib/SparkR/help/paths.rds\n",
            "spark-3.2.1-bin-hadoop3.2/R/lib/SparkR/html/\n",
            "spark-3.2.1-bin-hadoop3.2/R/lib/SparkR/html/00Index.html\n",
            "spark-3.2.1-bin-hadoop3.2/R/lib/SparkR/html/R.css\n",
            "spark-3.2.1-bin-hadoop3.2/R/lib/SparkR/profile/\n",
            "spark-3.2.1-bin-hadoop3.2/R/lib/SparkR/profile/general.R\n",
            "spark-3.2.1-bin-hadoop3.2/R/lib/SparkR/profile/shell.R\n",
            "spark-3.2.1-bin-hadoop3.2/R/lib/SparkR/tests/\n",
            "spark-3.2.1-bin-hadoop3.2/R/lib/SparkR/tests/testthat/\n",
            "spark-3.2.1-bin-hadoop3.2/R/lib/SparkR/tests/testthat/test_basic.R\n",
            "spark-3.2.1-bin-hadoop3.2/R/lib/SparkR/worker/\n",
            "spark-3.2.1-bin-hadoop3.2/R/lib/SparkR/worker/daemon.R\n",
            "spark-3.2.1-bin-hadoop3.2/R/lib/SparkR/worker/worker.R\n",
            "spark-3.2.1-bin-hadoop3.2/R/lib/sparkr.zip\n",
            "spark-3.2.1-bin-hadoop3.2/README.md\n",
            "spark-3.2.1-bin-hadoop3.2/RELEASE\n",
            "spark-3.2.1-bin-hadoop3.2/bin/\n",
            "spark-3.2.1-bin-hadoop3.2/bin/beeline\n",
            "spark-3.2.1-bin-hadoop3.2/bin/beeline.cmd\n",
            "spark-3.2.1-bin-hadoop3.2/bin/docker-image-tool.sh\n",
            "spark-3.2.1-bin-hadoop3.2/bin/find-spark-home\n",
            "spark-3.2.1-bin-hadoop3.2/bin/find-spark-home.cmd\n",
            "spark-3.2.1-bin-hadoop3.2/bin/load-spark-env.cmd\n",
            "spark-3.2.1-bin-hadoop3.2/bin/load-spark-env.sh\n",
            "spark-3.2.1-bin-hadoop3.2/bin/pyspark\n",
            "spark-3.2.1-bin-hadoop3.2/bin/pyspark.cmd\n",
            "spark-3.2.1-bin-hadoop3.2/bin/pyspark2.cmd\n",
            "spark-3.2.1-bin-hadoop3.2/bin/run-example\n",
            "spark-3.2.1-bin-hadoop3.2/bin/run-example.cmd\n",
            "spark-3.2.1-bin-hadoop3.2/bin/spark-class\n",
            "spark-3.2.1-bin-hadoop3.2/bin/spark-class.cmd\n",
            "spark-3.2.1-bin-hadoop3.2/bin/spark-class2.cmd\n",
            "spark-3.2.1-bin-hadoop3.2/bin/spark-shell\n",
            "spark-3.2.1-bin-hadoop3.2/bin/spark-shell.cmd\n",
            "spark-3.2.1-bin-hadoop3.2/bin/spark-shell2.cmd\n",
            "spark-3.2.1-bin-hadoop3.2/bin/spark-sql\n",
            "spark-3.2.1-bin-hadoop3.2/bin/spark-sql.cmd\n",
            "spark-3.2.1-bin-hadoop3.2/bin/spark-sql2.cmd\n",
            "spark-3.2.1-bin-hadoop3.2/bin/spark-submit\n",
            "spark-3.2.1-bin-hadoop3.2/bin/spark-submit.cmd\n",
            "spark-3.2.1-bin-hadoop3.2/bin/spark-submit2.cmd\n",
            "spark-3.2.1-bin-hadoop3.2/bin/sparkR\n",
            "spark-3.2.1-bin-hadoop3.2/bin/sparkR.cmd\n",
            "spark-3.2.1-bin-hadoop3.2/bin/sparkR2.cmd\n",
            "spark-3.2.1-bin-hadoop3.2/conf/\n",
            "spark-3.2.1-bin-hadoop3.2/conf/fairscheduler.xml.template\n",
            "spark-3.2.1-bin-hadoop3.2/conf/log4j.properties.template\n",
            "spark-3.2.1-bin-hadoop3.2/conf/metrics.properties.template\n",
            "spark-3.2.1-bin-hadoop3.2/conf/spark-defaults.conf.template\n",
            "spark-3.2.1-bin-hadoop3.2/conf/spark-env.sh.template\n",
            "spark-3.2.1-bin-hadoop3.2/conf/workers.template\n",
            "spark-3.2.1-bin-hadoop3.2/data/\n",
            "spark-3.2.1-bin-hadoop3.2/data/graphx/\n",
            "spark-3.2.1-bin-hadoop3.2/data/graphx/followers.txt\n",
            "spark-3.2.1-bin-hadoop3.2/data/graphx/users.txt\n",
            "spark-3.2.1-bin-hadoop3.2/data/mllib/\n",
            "spark-3.2.1-bin-hadoop3.2/data/mllib/als/\n",
            "spark-3.2.1-bin-hadoop3.2/data/mllib/als/sample_movielens_ratings.txt\n",
            "spark-3.2.1-bin-hadoop3.2/data/mllib/als/test.data\n",
            "spark-3.2.1-bin-hadoop3.2/data/mllib/gmm_data.txt\n",
            "spark-3.2.1-bin-hadoop3.2/data/mllib/images/\n",
            "spark-3.2.1-bin-hadoop3.2/data/mllib/images/license.txt\n",
            "spark-3.2.1-bin-hadoop3.2/data/mllib/images/origin/\n",
            "spark-3.2.1-bin-hadoop3.2/data/mllib/images/origin/kittens/\n",
            "spark-3.2.1-bin-hadoop3.2/data/mllib/images/origin/kittens/29.5.a_b_EGDP022204.jpg\n",
            "spark-3.2.1-bin-hadoop3.2/data/mllib/images/origin/kittens/54893.jpg\n",
            "spark-3.2.1-bin-hadoop3.2/data/mllib/images/origin/kittens/DP153539.jpg\n",
            "spark-3.2.1-bin-hadoop3.2/data/mllib/images/origin/kittens/DP802813.jpg\n",
            "spark-3.2.1-bin-hadoop3.2/data/mllib/images/origin/kittens/not-image.txt\n",
            "spark-3.2.1-bin-hadoop3.2/data/mllib/images/origin/license.txt\n",
            "spark-3.2.1-bin-hadoop3.2/data/mllib/images/origin/multi-channel/\n",
            "spark-3.2.1-bin-hadoop3.2/data/mllib/images/origin/multi-channel/BGRA.png\n",
            "spark-3.2.1-bin-hadoop3.2/data/mllib/images/origin/multi-channel/BGRA_alpha_60.png\n",
            "spark-3.2.1-bin-hadoop3.2/data/mllib/images/origin/multi-channel/chr30.4.184.jpg\n",
            "spark-3.2.1-bin-hadoop3.2/data/mllib/images/origin/multi-channel/grayscale.jpg\n",
            "spark-3.2.1-bin-hadoop3.2/data/mllib/images/partitioned/\n",
            "spark-3.2.1-bin-hadoop3.2/data/mllib/images/partitioned/cls=kittens/\n",
            "spark-3.2.1-bin-hadoop3.2/data/mllib/images/partitioned/cls=kittens/date=2018-01/\n",
            "spark-3.2.1-bin-hadoop3.2/data/mllib/images/partitioned/cls=kittens/date=2018-01/29.5.a_b_EGDP022204.jpg\n",
            "spark-3.2.1-bin-hadoop3.2/data/mllib/images/partitioned/cls=kittens/date=2018-01/not-image.txt\n",
            "spark-3.2.1-bin-hadoop3.2/data/mllib/images/partitioned/cls=kittens/date=2018-02/\n",
            "spark-3.2.1-bin-hadoop3.2/data/mllib/images/partitioned/cls=kittens/date=2018-02/54893.jpg\n",
            "spark-3.2.1-bin-hadoop3.2/data/mllib/images/partitioned/cls=kittens/date=2018-02/DP153539.jpg\n",
            "spark-3.2.1-bin-hadoop3.2/data/mllib/images/partitioned/cls=kittens/date=2018-02/DP802813.jpg\n",
            "spark-3.2.1-bin-hadoop3.2/data/mllib/images/partitioned/cls=multichannel/\n",
            "spark-3.2.1-bin-hadoop3.2/data/mllib/images/partitioned/cls=multichannel/date=2018-01/\n",
            "spark-3.2.1-bin-hadoop3.2/data/mllib/images/partitioned/cls=multichannel/date=2018-01/BGRA.png\n",
            "spark-3.2.1-bin-hadoop3.2/data/mllib/images/partitioned/cls=multichannel/date=2018-01/BGRA_alpha_60.png\n",
            "spark-3.2.1-bin-hadoop3.2/data/mllib/images/partitioned/cls=multichannel/date=2018-02/\n",
            "spark-3.2.1-bin-hadoop3.2/data/mllib/images/partitioned/cls=multichannel/date=2018-02/chr30.4.184.jpg\n",
            "spark-3.2.1-bin-hadoop3.2/data/mllib/images/partitioned/cls=multichannel/date=2018-02/grayscale.jpg\n",
            "spark-3.2.1-bin-hadoop3.2/data/mllib/iris_libsvm.txt\n",
            "spark-3.2.1-bin-hadoop3.2/data/mllib/kmeans_data.txt\n",
            "spark-3.2.1-bin-hadoop3.2/data/mllib/pagerank_data.txt\n",
            "spark-3.2.1-bin-hadoop3.2/data/mllib/pic_data.txt\n",
            "spark-3.2.1-bin-hadoop3.2/data/mllib/ridge-data/\n",
            "spark-3.2.1-bin-hadoop3.2/data/mllib/ridge-data/lpsa.data\n",
            "spark-3.2.1-bin-hadoop3.2/data/mllib/sample_binary_classification_data.txt\n",
            "spark-3.2.1-bin-hadoop3.2/data/mllib/sample_fpgrowth.txt\n",
            "spark-3.2.1-bin-hadoop3.2/data/mllib/sample_isotonic_regression_libsvm_data.txt\n",
            "spark-3.2.1-bin-hadoop3.2/data/mllib/sample_kmeans_data.txt\n",
            "spark-3.2.1-bin-hadoop3.2/data/mllib/sample_lda_data.txt\n",
            "spark-3.2.1-bin-hadoop3.2/data/mllib/sample_lda_libsvm_data.txt\n",
            "spark-3.2.1-bin-hadoop3.2/data/mllib/sample_libsvm_data.txt\n",
            "spark-3.2.1-bin-hadoop3.2/data/mllib/sample_linear_regression_data.txt\n",
            "spark-3.2.1-bin-hadoop3.2/data/mllib/sample_movielens_data.txt\n",
            "spark-3.2.1-bin-hadoop3.2/data/mllib/sample_multiclass_classification_data.txt\n",
            "spark-3.2.1-bin-hadoop3.2/data/mllib/sample_svm_data.txt\n",
            "spark-3.2.1-bin-hadoop3.2/data/mllib/streaming_kmeans_data_test.txt\n",
            "spark-3.2.1-bin-hadoop3.2/data/streaming/\n",
            "spark-3.2.1-bin-hadoop3.2/data/streaming/AFINN-111.txt\n",
            "spark-3.2.1-bin-hadoop3.2/examples/\n",
            "spark-3.2.1-bin-hadoop3.2/examples/jars/\n",
            "spark-3.2.1-bin-hadoop3.2/examples/jars/scopt_2.12-3.7.1.jar\n",
            "spark-3.2.1-bin-hadoop3.2/examples/jars/spark-examples_2.12-3.2.1.jar\n",
            "spark-3.2.1-bin-hadoop3.2/examples/src/\n",
            "spark-3.2.1-bin-hadoop3.2/examples/src/main/\n",
            "spark-3.2.1-bin-hadoop3.2/examples/src/main/java/\n",
            "spark-3.2.1-bin-hadoop3.2/examples/src/main/java/org/\n",
            "spark-3.2.1-bin-hadoop3.2/examples/src/main/java/org/apache/\n",
            "spark-3.2.1-bin-hadoop3.2/examples/src/main/java/org/apache/spark/\n",
            "spark-3.2.1-bin-hadoop3.2/examples/src/main/java/org/apache/spark/examples/\n",
            "spark-3.2.1-bin-hadoop3.2/examples/src/main/java/org/apache/spark/examples/JavaHdfsLR.java\n",
            "spark-3.2.1-bin-hadoop3.2/examples/src/main/java/org/apache/spark/examples/JavaLogQuery.java\n",
            "spark-3.2.1-bin-hadoop3.2/examples/src/main/java/org/apache/spark/examples/JavaPageRank.java\n",
            "spark-3.2.1-bin-hadoop3.2/examples/src/main/java/org/apache/spark/examples/JavaSparkPi.java\n",
            "spark-3.2.1-bin-hadoop3.2/examples/src/main/java/org/apache/spark/examples/JavaStatusTrackerDemo.java\n",
            "spark-3.2.1-bin-hadoop3.2/examples/src/main/java/org/apache/spark/examples/JavaTC.java\n",
            "spark-3.2.1-bin-hadoop3.2/examples/src/main/java/org/apache/spark/examples/JavaWordCount.java\n",
            "spark-3.2.1-bin-hadoop3.2/examples/src/main/java/org/apache/spark/examples/ml/\n",
            "spark-3.2.1-bin-hadoop3.2/examples/src/main/java/org/apache/spark/examples/ml/JavaAFTSurvivalRegressionExample.java\n",
            "spark-3.2.1-bin-hadoop3.2/examples/src/main/java/org/apache/spark/examples/ml/JavaALSExample.java\n",
            "spark-3.2.1-bin-hadoop3.2/examples/src/main/java/org/apache/spark/examples/ml/JavaBinarizerExample.java\n",
            "spark-3.2.1-bin-hadoop3.2/examples/src/main/java/org/apache/spark/examples/ml/JavaBisectingKMeansExample.java\n",
            "spark-3.2.1-bin-hadoop3.2/examples/src/main/java/org/apache/spark/examples/ml/JavaBucketedRandomProjectionLSHExample.java\n",
            "spark-3.2.1-bin-hadoop3.2/examples/src/main/java/org/apache/spark/examples/ml/JavaBucketizerExample.java\n",
            "spark-3.2.1-bin-hadoop3.2/examples/src/main/java/org/apache/spark/examples/ml/JavaChiSqSelectorExample.java\n",
            "spark-3.2.1-bin-hadoop3.2/examples/src/main/java/org/apache/spark/examples/ml/JavaChiSquareTestExample.java\n",
            "spark-3.2.1-bin-hadoop3.2/examples/src/main/java/org/apache/spark/examples/ml/JavaCorrelationExample.java\n",
            "spark-3.2.1-bin-hadoop3.2/examples/src/main/java/org/apache/spark/examples/ml/JavaCountVectorizerExample.java\n",
            "spark-3.2.1-bin-hadoop3.2/examples/src/main/java/org/apache/spark/examples/ml/JavaDCTExample.java\n",
            "spark-3.2.1-bin-hadoop3.2/examples/src/main/java/org/apache/spark/examples/ml/JavaDecisionTreeClassificationExample.java\n",
            "spark-3.2.1-bin-hadoop3.2/examples/src/main/java/org/apache/spark/examples/ml/JavaDecisionTreeRegressionExample.java\n",
            "spark-3.2.1-bin-hadoop3.2/examples/src/main/java/org/apache/spark/examples/ml/JavaDocument.java\n",
            "spark-3.2.1-bin-hadoop3.2/examples/src/main/java/org/apache/spark/examples/ml/JavaElementwiseProductExample.java\n",
            "spark-3.2.1-bin-hadoop3.2/examples/src/main/java/org/apache/spark/examples/ml/JavaEstimatorTransformerParamExample.java\n",
            "spark-3.2.1-bin-hadoop3.2/examples/src/main/java/org/apache/spark/examples/ml/JavaFMClassifierExample.java\n",
            "spark-3.2.1-bin-hadoop3.2/examples/src/main/java/org/apache/spark/examples/ml/JavaFMRegressorExample.java\n",
            "spark-3.2.1-bin-hadoop3.2/examples/src/main/java/org/apache/spark/examples/ml/JavaFPGrowthExample.java\n",
            "spark-3.2.1-bin-hadoop3.2/examples/src/main/java/org/apache/spark/examples/ml/JavaFeatureHasherExample.java\n",
            "spark-3.2.1-bin-hadoop3.2/examples/src/main/java/org/apache/spark/examples/ml/JavaGaussianMixtureExample.java\n",
            "spark-3.2.1-bin-hadoop3.2/examples/src/main/java/org/apache/spark/examples/ml/JavaGeneralizedLinearRegressionExample.java\n",
            "spark-3.2.1-bin-hadoop3.2/examples/src/main/java/org/apache/spark/examples/ml/JavaGradientBoostedTreeClassifierExample.java\n",
            "spark-3.2.1-bin-hadoop3.2/examples/src/main/java/org/apache/spark/examples/ml/JavaGradientBoostedTreeRegressorExample.java\n",
            "spark-3.2.1-bin-hadoop3.2/examples/src/main/java/org/apache/spark/examples/ml/JavaImputerExample.java\n",
            "spark-3.2.1-bin-hadoop3.2/examples/src/main/java/org/apache/spark/examples/ml/JavaIndexToStringExample.java\n",
            "spark-3.2.1-bin-hadoop3.2/examples/src/main/java/org/apache/spark/examples/ml/JavaInteractionExample.java\n",
            "spark-3.2.1-bin-hadoop3.2/examples/src/main/java/org/apache/spark/examples/ml/JavaIsotonicRegressionExample.java\n",
            "spark-3.2.1-bin-hadoop3.2/examples/src/main/java/org/apache/spark/examples/ml/JavaKMeansExample.java\n",
            "spark-3.2.1-bin-hadoop3.2/examples/src/main/java/org/apache/spark/examples/ml/JavaLDAExample.java\n",
            "spark-3.2.1-bin-hadoop3.2/examples/src/main/java/org/apache/spark/examples/ml/JavaLabeledDocument.java\n",
            "spark-3.2.1-bin-hadoop3.2/examples/src/main/java/org/apache/spark/examples/ml/JavaLinearRegressionWithElasticNetExample.java\n",
            "spark-3.2.1-bin-hadoop3.2/examples/src/main/java/org/apache/spark/examples/ml/JavaLinearSVCExample.java\n",
            "spark-3.2.1-bin-hadoop3.2/examples/src/main/java/org/apache/spark/examples/ml/JavaLogisticRegressionSummaryExample.java\n",
            "spark-3.2.1-bin-hadoop3.2/examples/src/main/java/org/apache/spark/examples/ml/JavaLogisticRegressionWithElasticNetExample.java\n",
            "spark-3.2.1-bin-hadoop3.2/examples/src/main/java/org/apache/spark/examples/ml/JavaMaxAbsScalerExample.java\n",
            "spark-3.2.1-bin-hadoop3.2/examples/src/main/java/org/apache/spark/examples/ml/JavaMinHashLSHExample.java\n",
            "spark-3.2.1-bin-hadoop3.2/examples/src/main/java/org/apache/spark/examples/ml/JavaMinMaxScalerExample.java\n",
            "spark-3.2.1-bin-hadoop3.2/examples/src/main/java/org/apache/spark/examples/ml/JavaModelSelectionViaCrossValidationExample.java\n",
            "spark-3.2.1-bin-hadoop3.2/examples/src/main/java/org/apache/spark/examples/ml/JavaModelSelectionViaTrainValidationSplitExample.java\n",
            "spark-3.2.1-bin-hadoop3.2/examples/src/main/java/org/apache/spark/examples/ml/JavaMulticlassLogisticRegressionWithElasticNetExample.java\n",
            "spark-3.2.1-bin-hadoop3.2/examples/src/main/java/org/apache/spark/examples/ml/JavaMultilayerPerceptronClassifierExample.java\n",
            "spark-3.2.1-bin-hadoop3.2/examples/src/main/java/org/apache/spark/examples/ml/JavaNGramExample.java\n",
            "spark-3.2.1-bin-hadoop3.2/examples/src/main/java/org/apache/spark/examples/ml/JavaNaiveBayesExample.java\n",
            "spark-3.2.1-bin-hadoop3.2/examples/src/main/java/org/apache/spark/examples/ml/JavaNormalizerExample.java\n",
            "spark-3.2.1-bin-hadoop3.2/examples/src/main/java/org/apache/spark/examples/ml/JavaOneHotEncoderExample.java\n",
            "spark-3.2.1-bin-hadoop3.2/examples/src/main/java/org/apache/spark/examples/ml/JavaOneVsRestExample.java\n",
            "spark-3.2.1-bin-hadoop3.2/examples/src/main/java/org/apache/spark/examples/ml/JavaPCAExample.java\n",
            "spark-3.2.1-bin-hadoop3.2/examples/src/main/java/org/apache/spark/examples/ml/JavaPipelineExample.java\n",
            "spark-3.2.1-bin-hadoop3.2/examples/src/main/java/org/apache/spark/examples/ml/JavaPolynomialExpansionExample.java\n",
            "spark-3.2.1-bin-hadoop3.2/examples/src/main/java/org/apache/spark/examples/ml/JavaPowerIterationClusteringExample.java\n",
            "spark-3.2.1-bin-hadoop3.2/examples/src/main/java/org/apache/spark/examples/ml/JavaPrefixSpanExample.java\n",
            "spark-3.2.1-bin-hadoop3.2/examples/src/main/java/org/apache/spark/examples/ml/JavaQuantileDiscretizerExample.java\n",
            "spark-3.2.1-bin-hadoop3.2/examples/src/main/java/org/apache/spark/examples/ml/JavaRFormulaExample.java\n",
            "spark-3.2.1-bin-hadoop3.2/examples/src/main/java/org/apache/spark/examples/ml/JavaRandomForestClassifierExample.java\n",
            "spark-3.2.1-bin-hadoop3.2/examples/src/main/java/org/apache/spark/examples/ml/JavaRandomForestRegressorExample.java\n",
            "spark-3.2.1-bin-hadoop3.2/examples/src/main/java/org/apache/spark/examples/ml/JavaRobustScalerExample.java\n",
            "spark-3.2.1-bin-hadoop3.2/examples/src/main/java/org/apache/spark/examples/ml/JavaSQLTransformerExample.java\n",
            "spark-3.2.1-bin-hadoop3.2/examples/src/main/java/org/apache/spark/examples/ml/JavaStandardScalerExample.java\n",
            "spark-3.2.1-bin-hadoop3.2/examples/src/main/java/org/apache/spark/examples/ml/JavaStopWordsRemoverExample.java\n",
            "spark-3.2.1-bin-hadoop3.2/examples/src/main/java/org/apache/spark/examples/ml/JavaStringIndexerExample.java\n",
            "spark-3.2.1-bin-hadoop3.2/examples/src/main/java/org/apache/spark/examples/ml/JavaSummarizerExample.java\n",
            "spark-3.2.1-bin-hadoop3.2/examples/src/main/java/org/apache/spark/examples/ml/JavaTfIdfExample.java\n",
            "spark-3.2.1-bin-hadoop3.2/examples/src/main/java/org/apache/spark/examples/ml/JavaTokenizerExample.java\n",
            "spark-3.2.1-bin-hadoop3.2/examples/src/main/java/org/apache/spark/examples/ml/JavaUnivariateFeatureSelectorExample.java\n",
            "spark-3.2.1-bin-hadoop3.2/examples/src/main/java/org/apache/spark/examples/ml/JavaVarianceThresholdSelectorExample.java\n",
            "spark-3.2.1-bin-hadoop3.2/examples/src/main/java/org/apache/spark/examples/ml/JavaVectorAssemblerExample.java\n",
            "spark-3.2.1-bin-hadoop3.2/examples/src/main/java/org/apache/spark/examples/ml/JavaVectorIndexerExample.java\n",
            "spark-3.2.1-bin-hadoop3.2/examples/src/main/java/org/apache/spark/examples/ml/JavaVectorSizeHintExample.java\n",
            "spark-3.2.1-bin-hadoop3.2/examples/src/main/java/org/apache/spark/examples/ml/JavaVectorSlicerExample.java\n",
            "spark-3.2.1-bin-hadoop3.2/examples/src/main/java/org/apache/spark/examples/ml/JavaWord2VecExample.java\n",
            "spark-3.2.1-bin-hadoop3.2/examples/src/main/java/org/apache/spark/examples/mllib/\n",
            "spark-3.2.1-bin-hadoop3.2/examples/src/main/java/org/apache/spark/examples/mllib/JavaALS.java\n",
            "spark-3.2.1-bin-hadoop3.2/examples/src/main/java/org/apache/spark/examples/mllib/JavaAssociationRulesExample.java\n",
            "spark-3.2.1-bin-hadoop3.2/examples/src/main/java/org/apache/spark/examples/mllib/JavaBinaryClassificationMetricsExample.java\n",
            "spark-3.2.1-bin-hadoop3.2/examples/src/main/java/org/apache/spark/examples/mllib/JavaBisectingKMeansExample.java\n",
            "spark-3.2.1-bin-hadoop3.2/examples/src/main/java/org/apache/spark/examples/mllib/JavaChiSqSelectorExample.java\n",
            "spark-3.2.1-bin-hadoop3.2/examples/src/main/java/org/apache/spark/examples/mllib/JavaCorrelationsExample.java\n",
            "spark-3.2.1-bin-hadoop3.2/examples/src/main/java/org/apache/spark/examples/mllib/JavaDecisionTreeClassificationExample.java\n",
            "spark-3.2.1-bin-hadoop3.2/examples/src/main/java/org/apache/spark/examples/mllib/JavaDecisionTreeRegressionExample.java\n",
            "spark-3.2.1-bin-hadoop3.2/examples/src/main/java/org/apache/spark/examples/mllib/JavaElementwiseProductExample.java\n",
            "spark-3.2.1-bin-hadoop3.2/examples/src/main/java/org/apache/spark/examples/mllib/JavaGaussianMixtureExample.java\n",
            "spark-3.2.1-bin-hadoop3.2/examples/src/main/java/org/apache/spark/examples/mllib/JavaGradientBoostingClassificationExample.java\n",
            "spark-3.2.1-bin-hadoop3.2/examples/src/main/java/org/apache/spark/examples/mllib/JavaGradientBoostingRegressionExample.java\n",
            "spark-3.2.1-bin-hadoop3.2/examples/src/main/java/org/apache/spark/examples/mllib/JavaHypothesisTestingExample.java\n",
            "spark-3.2.1-bin-hadoop3.2/examples/src/main/java/org/apache/spark/examples/mllib/JavaHypothesisTestingKolmogorovSmirnovTestExample.java\n",
            "spark-3.2.1-bin-hadoop3.2/examples/src/main/java/org/apache/spark/examples/mllib/JavaIsotonicRegressionExample.java\n",
            "spark-3.2.1-bin-hadoop3.2/examples/src/main/java/org/apache/spark/examples/mllib/JavaKMeansExample.java\n",
            "spark-3.2.1-bin-hadoop3.2/examples/src/main/java/org/apache/spark/examples/mllib/JavaKernelDensityEstimationExample.java\n",
            "spark-3.2.1-bin-hadoop3.2/examples/src/main/java/org/apache/spark/examples/mllib/JavaLBFGSExample.java\n",
            "spark-3.2.1-bin-hadoop3.2/examples/src/main/java/org/apache/spark/examples/mllib/JavaLatentDirichletAllocationExample.java\n",
            "spark-3.2.1-bin-hadoop3.2/examples/src/main/java/org/apache/spark/examples/mllib/JavaLogisticRegressionWithLBFGSExample.java\n",
            "spark-3.2.1-bin-hadoop3.2/examples/src/main/java/org/apache/spark/examples/mllib/JavaMultiLabelClassificationMetricsExample.java\n",
            "spark-3.2.1-bin-hadoop3.2/examples/src/main/java/org/apache/spark/examples/mllib/JavaMulticlassClassificationMetricsExample.java\n",
            "spark-3.2.1-bin-hadoop3.2/examples/src/main/java/org/apache/spark/examples/mllib/JavaNaiveBayesExample.java\n",
            "spark-3.2.1-bin-hadoop3.2/examples/src/main/java/org/apache/spark/examples/mllib/JavaPCAExample.java\n",
            "spark-3.2.1-bin-hadoop3.2/examples/src/main/java/org/apache/spark/examples/mllib/JavaPowerIterationClusteringExample.java\n",
            "spark-3.2.1-bin-hadoop3.2/examples/src/main/java/org/apache/spark/examples/mllib/JavaPrefixSpanExample.java\n",
            "spark-3.2.1-bin-hadoop3.2/examples/src/main/java/org/apache/spark/examples/mllib/JavaRandomForestClassificationExample.java\n",
            "spark-3.2.1-bin-hadoop3.2/examples/src/main/java/org/apache/spark/examples/mllib/JavaRandomForestRegressionExample.java\n",
            "spark-3.2.1-bin-hadoop3.2/examples/src/main/java/org/apache/spark/examples/mllib/JavaRankingMetricsExample.java\n",
            "spark-3.2.1-bin-hadoop3.2/examples/src/main/java/org/apache/spark/examples/mllib/JavaRecommendationExample.java\n",
            "spark-3.2.1-bin-hadoop3.2/examples/src/main/java/org/apache/spark/examples/mllib/JavaSVDExample.java\n",
            "spark-3.2.1-bin-hadoop3.2/examples/src/main/java/org/apache/spark/examples/mllib/JavaSVMWithSGDExample.java\n",
            "spark-3.2.1-bin-hadoop3.2/examples/src/main/java/org/apache/spark/examples/mllib/JavaSimpleFPGrowth.java\n",
            "spark-3.2.1-bin-hadoop3.2/examples/src/main/java/org/apache/spark/examples/mllib/JavaStratifiedSamplingExample.java\n",
            "spark-3.2.1-bin-hadoop3.2/examples/src/main/java/org/apache/spark/examples/mllib/JavaStreamingTestExample.java\n",
            "spark-3.2.1-bin-hadoop3.2/examples/src/main/java/org/apache/spark/examples/mllib/JavaSummaryStatisticsExample.java\n",
            "spark-3.2.1-bin-hadoop3.2/examples/src/main/java/org/apache/spark/examples/sql/\n",
            "spark-3.2.1-bin-hadoop3.2/examples/src/main/java/org/apache/spark/examples/sql/JavaSQLDataSourceExample.java\n",
            "spark-3.2.1-bin-hadoop3.2/examples/src/main/java/org/apache/spark/examples/sql/JavaSparkSQLExample.java\n",
            "spark-3.2.1-bin-hadoop3.2/examples/src/main/java/org/apache/spark/examples/sql/JavaUserDefinedScalar.java\n",
            "spark-3.2.1-bin-hadoop3.2/examples/src/main/java/org/apache/spark/examples/sql/JavaUserDefinedTypedAggregation.java\n",
            "spark-3.2.1-bin-hadoop3.2/examples/src/main/java/org/apache/spark/examples/sql/JavaUserDefinedUntypedAggregation.java\n",
            "spark-3.2.1-bin-hadoop3.2/examples/src/main/java/org/apache/spark/examples/sql/hive/\n",
            "spark-3.2.1-bin-hadoop3.2/examples/src/main/java/org/apache/spark/examples/sql/hive/JavaSparkHiveExample.java\n",
            "spark-3.2.1-bin-hadoop3.2/examples/src/main/java/org/apache/spark/examples/sql/streaming/\n",
            "spark-3.2.1-bin-hadoop3.2/examples/src/main/java/org/apache/spark/examples/sql/streaming/JavaStructuredComplexSessionization.java\n",
            "spark-3.2.1-bin-hadoop3.2/examples/src/main/java/org/apache/spark/examples/sql/streaming/JavaStructuredKafkaWordCount.java\n",
            "spark-3.2.1-bin-hadoop3.2/examples/src/main/java/org/apache/spark/examples/sql/streaming/JavaStructuredKerberizedKafkaWordCount.java\n",
            "spark-3.2.1-bin-hadoop3.2/examples/src/main/java/org/apache/spark/examples/sql/streaming/JavaStructuredNetworkWordCount.java\n",
            "spark-3.2.1-bin-hadoop3.2/examples/src/main/java/org/apache/spark/examples/sql/streaming/JavaStructuredNetworkWordCountWindowed.java\n",
            "spark-3.2.1-bin-hadoop3.2/examples/src/main/java/org/apache/spark/examples/sql/streaming/JavaStructuredSessionization.java\n",
            "spark-3.2.1-bin-hadoop3.2/examples/src/main/java/org/apache/spark/examples/streaming/\n",
            "spark-3.2.1-bin-hadoop3.2/examples/src/main/java/org/apache/spark/examples/streaming/JavaCustomReceiver.java\n",
            "spark-3.2.1-bin-hadoop3.2/examples/src/main/java/org/apache/spark/examples/streaming/JavaDirectKafkaWordCount.java\n",
            "spark-3.2.1-bin-hadoop3.2/examples/src/main/java/org/apache/spark/examples/streaming/JavaDirectKerberizedKafkaWordCount.java\n",
            "spark-3.2.1-bin-hadoop3.2/examples/src/main/java/org/apache/spark/examples/streaming/JavaNetworkWordCount.java\n",
            "spark-3.2.1-bin-hadoop3.2/examples/src/main/java/org/apache/spark/examples/streaming/JavaQueueStream.java\n",
            "spark-3.2.1-bin-hadoop3.2/examples/src/main/java/org/apache/spark/examples/streaming/JavaRecord.java\n",
            "spark-3.2.1-bin-hadoop3.2/examples/src/main/java/org/apache/spark/examples/streaming/JavaRecoverableNetworkWordCount.java\n",
            "spark-3.2.1-bin-hadoop3.2/examples/src/main/java/org/apache/spark/examples/streaming/JavaSqlNetworkWordCount.java\n",
            "spark-3.2.1-bin-hadoop3.2/examples/src/main/java/org/apache/spark/examples/streaming/JavaStatefulNetworkWordCount.java\n",
            "spark-3.2.1-bin-hadoop3.2/examples/src/main/python/\n",
            "spark-3.2.1-bin-hadoop3.2/examples/src/main/python/als.py\n",
            "spark-3.2.1-bin-hadoop3.2/examples/src/main/python/avro_inputformat.py\n",
            "spark-3.2.1-bin-hadoop3.2/examples/src/main/python/kmeans.py\n",
            "spark-3.2.1-bin-hadoop3.2/examples/src/main/python/logistic_regression.py\n",
            "spark-3.2.1-bin-hadoop3.2/examples/src/main/python/ml/\n",
            "spark-3.2.1-bin-hadoop3.2/examples/src/main/python/ml/aft_survival_regression.py\n",
            "spark-3.2.1-bin-hadoop3.2/examples/src/main/python/ml/als_example.py\n",
            "spark-3.2.1-bin-hadoop3.2/examples/src/main/python/ml/binarizer_example.py\n",
            "spark-3.2.1-bin-hadoop3.2/examples/src/main/python/ml/bisecting_k_means_example.py\n",
            "spark-3.2.1-bin-hadoop3.2/examples/src/main/python/ml/bucketed_random_projection_lsh_example.py\n",
            "spark-3.2.1-bin-hadoop3.2/examples/src/main/python/ml/bucketizer_example.py\n",
            "spark-3.2.1-bin-hadoop3.2/examples/src/main/python/ml/chi_square_test_example.py\n",
            "spark-3.2.1-bin-hadoop3.2/examples/src/main/python/ml/chisq_selector_example.py\n",
            "spark-3.2.1-bin-hadoop3.2/examples/src/main/python/ml/correlation_example.py\n",
            "spark-3.2.1-bin-hadoop3.2/examples/src/main/python/ml/count_vectorizer_example.py\n",
            "spark-3.2.1-bin-hadoop3.2/examples/src/main/python/ml/cross_validator.py\n",
            "spark-3.2.1-bin-hadoop3.2/examples/src/main/python/ml/dataframe_example.py\n",
            "spark-3.2.1-bin-hadoop3.2/examples/src/main/python/ml/dct_example.py\n",
            "spark-3.2.1-bin-hadoop3.2/examples/src/main/python/ml/decision_tree_classification_example.py\n",
            "spark-3.2.1-bin-hadoop3.2/examples/src/main/python/ml/decision_tree_regression_example.py\n",
            "spark-3.2.1-bin-hadoop3.2/examples/src/main/python/ml/elementwise_product_example.py\n",
            "spark-3.2.1-bin-hadoop3.2/examples/src/main/python/ml/estimator_transformer_param_example.py\n",
            "spark-3.2.1-bin-hadoop3.2/examples/src/main/python/ml/feature_hasher_example.py\n",
            "spark-3.2.1-bin-hadoop3.2/examples/src/main/python/ml/fm_classifier_example.py\n",
            "spark-3.2.1-bin-hadoop3.2/examples/src/main/python/ml/fm_regressor_example.py\n",
            "spark-3.2.1-bin-hadoop3.2/examples/src/main/python/ml/fpgrowth_example.py\n",
            "spark-3.2.1-bin-hadoop3.2/examples/src/main/python/ml/gaussian_mixture_example.py\n",
            "spark-3.2.1-bin-hadoop3.2/examples/src/main/python/ml/generalized_linear_regression_example.py\n",
            "spark-3.2.1-bin-hadoop3.2/examples/src/main/python/ml/gradient_boosted_tree_classifier_example.py\n",
            "spark-3.2.1-bin-hadoop3.2/examples/src/main/python/ml/gradient_boosted_tree_regressor_example.py\n",
            "spark-3.2.1-bin-hadoop3.2/examples/src/main/python/ml/imputer_example.py\n",
            "spark-3.2.1-bin-hadoop3.2/examples/src/main/python/ml/index_to_string_example.py\n",
            "spark-3.2.1-bin-hadoop3.2/examples/src/main/python/ml/interaction_example.py\n",
            "spark-3.2.1-bin-hadoop3.2/examples/src/main/python/ml/isotonic_regression_example.py\n",
            "spark-3.2.1-bin-hadoop3.2/examples/src/main/python/ml/kmeans_example.py\n",
            "spark-3.2.1-bin-hadoop3.2/examples/src/main/python/ml/lda_example.py\n",
            "spark-3.2.1-bin-hadoop3.2/examples/src/main/python/ml/linear_regression_with_elastic_net.py\n",
            "spark-3.2.1-bin-hadoop3.2/examples/src/main/python/ml/linearsvc.py\n",
            "spark-3.2.1-bin-hadoop3.2/examples/src/main/python/ml/logistic_regression_summary_example.py\n",
            "spark-3.2.1-bin-hadoop3.2/examples/src/main/python/ml/logistic_regression_with_elastic_net.py\n",
            "spark-3.2.1-bin-hadoop3.2/examples/src/main/python/ml/max_abs_scaler_example.py\n",
            "spark-3.2.1-bin-hadoop3.2/examples/src/main/python/ml/min_hash_lsh_example.py\n",
            "spark-3.2.1-bin-hadoop3.2/examples/src/main/python/ml/min_max_scaler_example.py\n",
            "spark-3.2.1-bin-hadoop3.2/examples/src/main/python/ml/multiclass_logistic_regression_with_elastic_net.py\n",
            "spark-3.2.1-bin-hadoop3.2/examples/src/main/python/ml/multilayer_perceptron_classification.py\n",
            "spark-3.2.1-bin-hadoop3.2/examples/src/main/python/ml/n_gram_example.py\n",
            "spark-3.2.1-bin-hadoop3.2/examples/src/main/python/ml/naive_bayes_example.py\n",
            "spark-3.2.1-bin-hadoop3.2/examples/src/main/python/ml/normalizer_example.py\n",
            "spark-3.2.1-bin-hadoop3.2/examples/src/main/python/ml/one_vs_rest_example.py\n",
            "spark-3.2.1-bin-hadoop3.2/examples/src/main/python/ml/onehot_encoder_example.py\n",
            "spark-3.2.1-bin-hadoop3.2/examples/src/main/python/ml/pca_example.py\n",
            "spark-3.2.1-bin-hadoop3.2/examples/src/main/python/ml/pipeline_example.py\n",
            "spark-3.2.1-bin-hadoop3.2/examples/src/main/python/ml/polynomial_expansion_example.py\n",
            "spark-3.2.1-bin-hadoop3.2/examples/src/main/python/ml/power_iteration_clustering_example.py\n",
            "spark-3.2.1-bin-hadoop3.2/examples/src/main/python/ml/prefixspan_example.py\n",
            "spark-3.2.1-bin-hadoop3.2/examples/src/main/python/ml/quantile_discretizer_example.py\n",
            "spark-3.2.1-bin-hadoop3.2/examples/src/main/python/ml/random_forest_classifier_example.py\n",
            "spark-3.2.1-bin-hadoop3.2/examples/src/main/python/ml/random_forest_regressor_example.py\n",
            "spark-3.2.1-bin-hadoop3.2/examples/src/main/python/ml/rformula_example.py\n",
            "spark-3.2.1-bin-hadoop3.2/examples/src/main/python/ml/robust_scaler_example.py\n",
            "spark-3.2.1-bin-hadoop3.2/examples/src/main/python/ml/sql_transformer.py\n",
            "spark-3.2.1-bin-hadoop3.2/examples/src/main/python/ml/standard_scaler_example.py\n",
            "spark-3.2.1-bin-hadoop3.2/examples/src/main/python/ml/stopwords_remover_example.py\n",
            "spark-3.2.1-bin-hadoop3.2/examples/src/main/python/ml/string_indexer_example.py\n",
            "spark-3.2.1-bin-hadoop3.2/examples/src/main/python/ml/summarizer_example.py\n",
            "spark-3.2.1-bin-hadoop3.2/examples/src/main/python/ml/tf_idf_example.py\n",
            "spark-3.2.1-bin-hadoop3.2/examples/src/main/python/ml/tokenizer_example.py\n",
            "spark-3.2.1-bin-hadoop3.2/examples/src/main/python/ml/train_validation_split.py\n",
            "spark-3.2.1-bin-hadoop3.2/examples/src/main/python/ml/univariate_feature_selector_example.py\n",
            "spark-3.2.1-bin-hadoop3.2/examples/src/main/python/ml/variance_threshold_selector_example.py\n",
            "spark-3.2.1-bin-hadoop3.2/examples/src/main/python/ml/vector_assembler_example.py\n",
            "spark-3.2.1-bin-hadoop3.2/examples/src/main/python/ml/vector_indexer_example.py\n",
            "spark-3.2.1-bin-hadoop3.2/examples/src/main/python/ml/vector_size_hint_example.py\n",
            "spark-3.2.1-bin-hadoop3.2/examples/src/main/python/ml/vector_slicer_example.py\n",
            "spark-3.2.1-bin-hadoop3.2/examples/src/main/python/ml/word2vec_example.py\n",
            "spark-3.2.1-bin-hadoop3.2/examples/src/main/python/mllib/\n",
            "spark-3.2.1-bin-hadoop3.2/examples/src/main/python/mllib/binary_classification_metrics_example.py\n",
            "spark-3.2.1-bin-hadoop3.2/examples/src/main/python/mllib/bisecting_k_means_example.py\n",
            "spark-3.2.1-bin-hadoop3.2/examples/src/main/python/mllib/correlations.py\n",
            "spark-3.2.1-bin-hadoop3.2/examples/src/main/python/mllib/correlations_example.py\n",
            "spark-3.2.1-bin-hadoop3.2/examples/src/main/python/mllib/decision_tree_classification_example.py\n",
            "spark-3.2.1-bin-hadoop3.2/examples/src/main/python/mllib/decision_tree_regression_example.py\n",
            "spark-3.2.1-bin-hadoop3.2/examples/src/main/python/mllib/elementwise_product_example.py\n",
            "spark-3.2.1-bin-hadoop3.2/examples/src/main/python/mllib/fpgrowth_example.py\n",
            "spark-3.2.1-bin-hadoop3.2/examples/src/main/python/mllib/gaussian_mixture_example.py\n",
            "spark-3.2.1-bin-hadoop3.2/examples/src/main/python/mllib/gaussian_mixture_model.py\n",
            "spark-3.2.1-bin-hadoop3.2/examples/src/main/python/mllib/gradient_boosting_classification_example.py\n",
            "spark-3.2.1-bin-hadoop3.2/examples/src/main/python/mllib/gradient_boosting_regression_example.py\n",
            "spark-3.2.1-bin-hadoop3.2/examples/src/main/python/mllib/hypothesis_testing_example.py\n",
            "spark-3.2.1-bin-hadoop3.2/examples/src/main/python/mllib/hypothesis_testing_kolmogorov_smirnov_test_example.py\n",
            "spark-3.2.1-bin-hadoop3.2/examples/src/main/python/mllib/isotonic_regression_example.py\n",
            "spark-3.2.1-bin-hadoop3.2/examples/src/main/python/mllib/k_means_example.py\n",
            "spark-3.2.1-bin-hadoop3.2/examples/src/main/python/mllib/kernel_density_estimation_example.py\n",
            "spark-3.2.1-bin-hadoop3.2/examples/src/main/python/mllib/kmeans.py\n",
            "spark-3.2.1-bin-hadoop3.2/examples/src/main/python/mllib/latent_dirichlet_allocation_example.py\n",
            "spark-3.2.1-bin-hadoop3.2/examples/src/main/python/mllib/linear_regression_with_sgd_example.py\n",
            "spark-3.2.1-bin-hadoop3.2/examples/src/main/python/mllib/logistic_regression.py\n",
            "spark-3.2.1-bin-hadoop3.2/examples/src/main/python/mllib/logistic_regression_with_lbfgs_example.py\n",
            "spark-3.2.1-bin-hadoop3.2/examples/src/main/python/mllib/multi_class_metrics_example.py\n",
            "spark-3.2.1-bin-hadoop3.2/examples/src/main/python/mllib/multi_label_metrics_example.py\n",
            "spark-3.2.1-bin-hadoop3.2/examples/src/main/python/mllib/naive_bayes_example.py\n",
            "spark-3.2.1-bin-hadoop3.2/examples/src/main/python/mllib/normalizer_example.py\n",
            "spark-3.2.1-bin-hadoop3.2/examples/src/main/python/mllib/pca_rowmatrix_example.py\n",
            "spark-3.2.1-bin-hadoop3.2/examples/src/main/python/mllib/power_iteration_clustering_example.py\n",
            "spark-3.2.1-bin-hadoop3.2/examples/src/main/python/mllib/random_forest_classification_example.py\n",
            "spark-3.2.1-bin-hadoop3.2/examples/src/main/python/mllib/random_forest_regression_example.py\n",
            "spark-3.2.1-bin-hadoop3.2/examples/src/main/python/mllib/random_rdd_generation.py\n",
            "spark-3.2.1-bin-hadoop3.2/examples/src/main/python/mllib/ranking_metrics_example.py\n",
            "spark-3.2.1-bin-hadoop3.2/examples/src/main/python/mllib/recommendation_example.py\n",
            "spark-3.2.1-bin-hadoop3.2/examples/src/main/python/mllib/regression_metrics_example.py\n",
            "spark-3.2.1-bin-hadoop3.2/examples/src/main/python/mllib/sampled_rdds.py\n",
            "spark-3.2.1-bin-hadoop3.2/examples/src/main/python/mllib/standard_scaler_example.py\n",
            "spark-3.2.1-bin-hadoop3.2/examples/src/main/python/mllib/stratified_sampling_example.py\n",
            "spark-3.2.1-bin-hadoop3.2/examples/src/main/python/mllib/streaming_k_means_example.py\n",
            "spark-3.2.1-bin-hadoop3.2/examples/src/main/python/mllib/streaming_linear_regression_example.py\n",
            "spark-3.2.1-bin-hadoop3.2/examples/src/main/python/mllib/summary_statistics_example.py\n",
            "spark-3.2.1-bin-hadoop3.2/examples/src/main/python/mllib/svd_example.py\n",
            "spark-3.2.1-bin-hadoop3.2/examples/src/main/python/mllib/svm_with_sgd_example.py\n",
            "spark-3.2.1-bin-hadoop3.2/examples/src/main/python/mllib/tf_idf_example.py\n",
            "spark-3.2.1-bin-hadoop3.2/examples/src/main/python/mllib/word2vec.py\n",
            "spark-3.2.1-bin-hadoop3.2/examples/src/main/python/mllib/word2vec_example.py\n",
            "spark-3.2.1-bin-hadoop3.2/examples/src/main/python/pagerank.py\n",
            "spark-3.2.1-bin-hadoop3.2/examples/src/main/python/parquet_inputformat.py\n",
            "spark-3.2.1-bin-hadoop3.2/examples/src/main/python/pi.py\n",
            "spark-3.2.1-bin-hadoop3.2/examples/src/main/python/sort.py\n",
            "spark-3.2.1-bin-hadoop3.2/examples/src/main/python/sql/\n",
            "spark-3.2.1-bin-hadoop3.2/examples/src/main/python/sql/arrow.py\n",
            "spark-3.2.1-bin-hadoop3.2/examples/src/main/python/sql/basic.py\n",
            "spark-3.2.1-bin-hadoop3.2/examples/src/main/python/sql/datasource.py\n",
            "spark-3.2.1-bin-hadoop3.2/examples/src/main/python/sql/hive.py\n",
            "spark-3.2.1-bin-hadoop3.2/examples/src/main/python/sql/streaming/\n",
            "spark-3.2.1-bin-hadoop3.2/examples/src/main/python/sql/streaming/structured_kafka_wordcount.py\n",
            "spark-3.2.1-bin-hadoop3.2/examples/src/main/python/sql/streaming/structured_network_wordcount.py\n",
            "spark-3.2.1-bin-hadoop3.2/examples/src/main/python/sql/streaming/structured_network_wordcount_windowed.py\n",
            "spark-3.2.1-bin-hadoop3.2/examples/src/main/python/sql/streaming/structured_sessionization.py\n",
            "spark-3.2.1-bin-hadoop3.2/examples/src/main/python/status_api_demo.py\n",
            "spark-3.2.1-bin-hadoop3.2/examples/src/main/python/streaming/\n",
            "spark-3.2.1-bin-hadoop3.2/examples/src/main/python/streaming/hdfs_wordcount.py\n",
            "spark-3.2.1-bin-hadoop3.2/examples/src/main/python/streaming/network_wordcount.py\n",
            "spark-3.2.1-bin-hadoop3.2/examples/src/main/python/streaming/network_wordjoinsentiments.py\n",
            "spark-3.2.1-bin-hadoop3.2/examples/src/main/python/streaming/queue_stream.py\n",
            "spark-3.2.1-bin-hadoop3.2/examples/src/main/python/streaming/recoverable_network_wordcount.py\n",
            "spark-3.2.1-bin-hadoop3.2/examples/src/main/python/streaming/sql_network_wordcount.py\n",
            "spark-3.2.1-bin-hadoop3.2/examples/src/main/python/streaming/stateful_network_wordcount.py\n",
            "spark-3.2.1-bin-hadoop3.2/examples/src/main/python/transitive_closure.py\n",
            "spark-3.2.1-bin-hadoop3.2/examples/src/main/python/wordcount.py\n",
            "spark-3.2.1-bin-hadoop3.2/examples/src/main/r/\n",
            "spark-3.2.1-bin-hadoop3.2/examples/src/main/r/RSparkSQLExample.R\n",
            "spark-3.2.1-bin-hadoop3.2/examples/src/main/r/data-manipulation.R\n",
            "spark-3.2.1-bin-hadoop3.2/examples/src/main/r/dataframe.R\n",
            "spark-3.2.1-bin-hadoop3.2/examples/src/main/r/ml/\n",
            "spark-3.2.1-bin-hadoop3.2/examples/src/main/r/ml/als.R\n",
            "spark-3.2.1-bin-hadoop3.2/examples/src/main/r/ml/bisectingKmeans.R\n",
            "spark-3.2.1-bin-hadoop3.2/examples/src/main/r/ml/decisionTree.R\n",
            "spark-3.2.1-bin-hadoop3.2/examples/src/main/r/ml/fmClassifier.R\n",
            "spark-3.2.1-bin-hadoop3.2/examples/src/main/r/ml/fmRegressor.R\n",
            "spark-3.2.1-bin-hadoop3.2/examples/src/main/r/ml/fpm.R\n",
            "spark-3.2.1-bin-hadoop3.2/examples/src/main/r/ml/gaussianMixture.R\n",
            "spark-3.2.1-bin-hadoop3.2/examples/src/main/r/ml/gbt.R\n",
            "spark-3.2.1-bin-hadoop3.2/examples/src/main/r/ml/glm.R\n",
            "spark-3.2.1-bin-hadoop3.2/examples/src/main/r/ml/isoreg.R\n",
            "spark-3.2.1-bin-hadoop3.2/examples/src/main/r/ml/kmeans.R\n",
            "spark-3.2.1-bin-hadoop3.2/examples/src/main/r/ml/kstest.R\n",
            "spark-3.2.1-bin-hadoop3.2/examples/src/main/r/ml/lda.R\n",
            "spark-3.2.1-bin-hadoop3.2/examples/src/main/r/ml/lm_with_elastic_net.R\n",
            "spark-3.2.1-bin-hadoop3.2/examples/src/main/r/ml/logit.R\n",
            "spark-3.2.1-bin-hadoop3.2/examples/src/main/r/ml/ml.R\n",
            "spark-3.2.1-bin-hadoop3.2/examples/src/main/r/ml/mlp.R\n",
            "spark-3.2.1-bin-hadoop3.2/examples/src/main/r/ml/naiveBayes.R\n",
            "spark-3.2.1-bin-hadoop3.2/examples/src/main/r/ml/powerIterationClustering.R\n",
            "spark-3.2.1-bin-hadoop3.2/examples/src/main/r/ml/prefixSpan.R\n",
            "spark-3.2.1-bin-hadoop3.2/examples/src/main/r/ml/randomForest.R\n",
            "spark-3.2.1-bin-hadoop3.2/examples/src/main/r/ml/survreg.R\n",
            "spark-3.2.1-bin-hadoop3.2/examples/src/main/r/ml/svmLinear.R\n",
            "spark-3.2.1-bin-hadoop3.2/examples/src/main/r/streaming/\n",
            "spark-3.2.1-bin-hadoop3.2/examples/src/main/r/streaming/structured_network_wordcount.R\n",
            "spark-3.2.1-bin-hadoop3.2/examples/src/main/resources/\n",
            "spark-3.2.1-bin-hadoop3.2/examples/src/main/resources/META-INF/\n",
            "spark-3.2.1-bin-hadoop3.2/examples/src/main/resources/META-INF/services/\n",
            "spark-3.2.1-bin-hadoop3.2/examples/src/main/resources/META-INF/services/org.apache.spark.sql.SparkSessionExtensionsProvider\n",
            "spark-3.2.1-bin-hadoop3.2/examples/src/main/resources/META-INF/services/org.apache.spark.sql.jdbc.JdbcConnectionProvider\n",
            "spark-3.2.1-bin-hadoop3.2/examples/src/main/resources/dir1/\n",
            "spark-3.2.1-bin-hadoop3.2/examples/src/main/resources/dir1/dir2/\n",
            "spark-3.2.1-bin-hadoop3.2/examples/src/main/resources/dir1/dir2/file2.parquet\n",
            "spark-3.2.1-bin-hadoop3.2/examples/src/main/resources/dir1/file1.parquet\n",
            "spark-3.2.1-bin-hadoop3.2/examples/src/main/resources/dir1/file3.json\n",
            "spark-3.2.1-bin-hadoop3.2/examples/src/main/resources/employees.json\n",
            "spark-3.2.1-bin-hadoop3.2/examples/src/main/resources/full_user.avsc\n",
            "spark-3.2.1-bin-hadoop3.2/examples/src/main/resources/kv1.txt\n",
            "spark-3.2.1-bin-hadoop3.2/examples/src/main/resources/people.csv\n",
            "spark-3.2.1-bin-hadoop3.2/examples/src/main/resources/people.json\n",
            "spark-3.2.1-bin-hadoop3.2/examples/src/main/resources/people.txt\n",
            "spark-3.2.1-bin-hadoop3.2/examples/src/main/resources/user.avsc\n",
            "spark-3.2.1-bin-hadoop3.2/examples/src/main/resources/users.avro\n",
            "spark-3.2.1-bin-hadoop3.2/examples/src/main/resources/users.orc\n",
            "spark-3.2.1-bin-hadoop3.2/examples/src/main/resources/users.parquet\n",
            "spark-3.2.1-bin-hadoop3.2/examples/src/main/scala/\n",
            "spark-3.2.1-bin-hadoop3.2/examples/src/main/scala/org/\n",
            "spark-3.2.1-bin-hadoop3.2/examples/src/main/scala/org/apache/\n",
            "spark-3.2.1-bin-hadoop3.2/examples/src/main/scala/org/apache/spark/\n",
            "spark-3.2.1-bin-hadoop3.2/examples/src/main/scala/org/apache/spark/examples/\n",
            "spark-3.2.1-bin-hadoop3.2/examples/src/main/scala/org/apache/spark/examples/AccumulatorMetricsTest.scala\n",
            "spark-3.2.1-bin-hadoop3.2/examples/src/main/scala/org/apache/spark/examples/BroadcastTest.scala\n",
            "spark-3.2.1-bin-hadoop3.2/examples/src/main/scala/org/apache/spark/examples/DFSReadWriteTest.scala\n",
            "spark-3.2.1-bin-hadoop3.2/examples/src/main/scala/org/apache/spark/examples/DriverSubmissionTest.scala\n",
            "spark-3.2.1-bin-hadoop3.2/examples/src/main/scala/org/apache/spark/examples/ExceptionHandlingTest.scala\n",
            "spark-3.2.1-bin-hadoop3.2/examples/src/main/scala/org/apache/spark/examples/GroupByTest.scala\n",
            "spark-3.2.1-bin-hadoop3.2/examples/src/main/scala/org/apache/spark/examples/HdfsTest.scala\n",
            "spark-3.2.1-bin-hadoop3.2/examples/src/main/scala/org/apache/spark/examples/LocalALS.scala\n",
            "spark-3.2.1-bin-hadoop3.2/examples/src/main/scala/org/apache/spark/examples/LocalFileLR.scala\n",
            "spark-3.2.1-bin-hadoop3.2/examples/src/main/scala/org/apache/spark/examples/LocalKMeans.scala\n",
            "spark-3.2.1-bin-hadoop3.2/examples/src/main/scala/org/apache/spark/examples/LocalLR.scala\n",
            "spark-3.2.1-bin-hadoop3.2/examples/src/main/scala/org/apache/spark/examples/LocalPi.scala\n",
            "spark-3.2.1-bin-hadoop3.2/examples/src/main/scala/org/apache/spark/examples/LogQuery.scala\n",
            "spark-3.2.1-bin-hadoop3.2/examples/src/main/scala/org/apache/spark/examples/MultiBroadcastTest.scala\n",
            "spark-3.2.1-bin-hadoop3.2/examples/src/main/scala/org/apache/spark/examples/SimpleSkewedGroupByTest.scala\n",
            "spark-3.2.1-bin-hadoop3.2/examples/src/main/scala/org/apache/spark/examples/SkewedGroupByTest.scala\n",
            "spark-3.2.1-bin-hadoop3.2/examples/src/main/scala/org/apache/spark/examples/SparkALS.scala\n",
            "spark-3.2.1-bin-hadoop3.2/examples/src/main/scala/org/apache/spark/examples/SparkHdfsLR.scala\n",
            "spark-3.2.1-bin-hadoop3.2/examples/src/main/scala/org/apache/spark/examples/SparkKMeans.scala\n",
            "spark-3.2.1-bin-hadoop3.2/examples/src/main/scala/org/apache/spark/examples/SparkLR.scala\n",
            "spark-3.2.1-bin-hadoop3.2/examples/src/main/scala/org/apache/spark/examples/SparkPageRank.scala\n",
            "spark-3.2.1-bin-hadoop3.2/examples/src/main/scala/org/apache/spark/examples/SparkPi.scala\n",
            "spark-3.2.1-bin-hadoop3.2/examples/src/main/scala/org/apache/spark/examples/SparkRemoteFileTest.scala\n",
            "spark-3.2.1-bin-hadoop3.2/examples/src/main/scala/org/apache/spark/examples/SparkTC.scala\n",
            "spark-3.2.1-bin-hadoop3.2/examples/src/main/scala/org/apache/spark/examples/extensions/\n",
            "spark-3.2.1-bin-hadoop3.2/examples/src/main/scala/org/apache/spark/examples/extensions/AgeExample.scala\n",
            "spark-3.2.1-bin-hadoop3.2/examples/src/main/scala/org/apache/spark/examples/extensions/SessionExtensionsWithLoader.scala\n",
            "spark-3.2.1-bin-hadoop3.2/examples/src/main/scala/org/apache/spark/examples/extensions/SessionExtensionsWithoutLoader.scala\n",
            "spark-3.2.1-bin-hadoop3.2/examples/src/main/scala/org/apache/spark/examples/extensions/SparkSessionExtensionsTest.scala\n",
            "spark-3.2.1-bin-hadoop3.2/examples/src/main/scala/org/apache/spark/examples/graphx/\n",
            "spark-3.2.1-bin-hadoop3.2/examples/src/main/scala/org/apache/spark/examples/graphx/AggregateMessagesExample.scala\n",
            "spark-3.2.1-bin-hadoop3.2/examples/src/main/scala/org/apache/spark/examples/graphx/Analytics.scala\n",
            "spark-3.2.1-bin-hadoop3.2/examples/src/main/scala/org/apache/spark/examples/graphx/ComprehensiveExample.scala\n",
            "spark-3.2.1-bin-hadoop3.2/examples/src/main/scala/org/apache/spark/examples/graphx/ConnectedComponentsExample.scala\n",
            "spark-3.2.1-bin-hadoop3.2/examples/src/main/scala/org/apache/spark/examples/graphx/LiveJournalPageRank.scala\n",
            "spark-3.2.1-bin-hadoop3.2/examples/src/main/scala/org/apache/spark/examples/graphx/PageRankExample.scala\n",
            "spark-3.2.1-bin-hadoop3.2/examples/src/main/scala/org/apache/spark/examples/graphx/SSSPExample.scala\n",
            "spark-3.2.1-bin-hadoop3.2/examples/src/main/scala/org/apache/spark/examples/graphx/SynthBenchmark.scala\n",
            "spark-3.2.1-bin-hadoop3.2/examples/src/main/scala/org/apache/spark/examples/graphx/TriangleCountingExample.scala\n",
            "spark-3.2.1-bin-hadoop3.2/examples/src/main/scala/org/apache/spark/examples/ml/\n",
            "spark-3.2.1-bin-hadoop3.2/examples/src/main/scala/org/apache/spark/examples/ml/AFTSurvivalRegressionExample.scala\n",
            "spark-3.2.1-bin-hadoop3.2/examples/src/main/scala/org/apache/spark/examples/ml/ALSExample.scala\n",
            "spark-3.2.1-bin-hadoop3.2/examples/src/main/scala/org/apache/spark/examples/ml/BinarizerExample.scala\n",
            "spark-3.2.1-bin-hadoop3.2/examples/src/main/scala/org/apache/spark/examples/ml/BisectingKMeansExample.scala\n",
            "spark-3.2.1-bin-hadoop3.2/examples/src/main/scala/org/apache/spark/examples/ml/BucketedRandomProjectionLSHExample.scala\n",
            "spark-3.2.1-bin-hadoop3.2/examples/src/main/scala/org/apache/spark/examples/ml/BucketizerExample.scala\n",
            "spark-3.2.1-bin-hadoop3.2/examples/src/main/scala/org/apache/spark/examples/ml/ChiSqSelectorExample.scala\n",
            "spark-3.2.1-bin-hadoop3.2/examples/src/main/scala/org/apache/spark/examples/ml/ChiSquareTestExample.scala\n",
            "spark-3.2.1-bin-hadoop3.2/examples/src/main/scala/org/apache/spark/examples/ml/CorrelationExample.scala\n",
            "spark-3.2.1-bin-hadoop3.2/examples/src/main/scala/org/apache/spark/examples/ml/CountVectorizerExample.scala\n",
            "spark-3.2.1-bin-hadoop3.2/examples/src/main/scala/org/apache/spark/examples/ml/DCTExample.scala\n",
            "spark-3.2.1-bin-hadoop3.2/examples/src/main/scala/org/apache/spark/examples/ml/DataFrameExample.scala\n",
            "spark-3.2.1-bin-hadoop3.2/examples/src/main/scala/org/apache/spark/examples/ml/DecisionTreeClassificationExample.scala\n",
            "spark-3.2.1-bin-hadoop3.2/examples/src/main/scala/org/apache/spark/examples/ml/DecisionTreeExample.scala\n",
            "spark-3.2.1-bin-hadoop3.2/examples/src/main/scala/org/apache/spark/examples/ml/DecisionTreeRegressionExample.scala\n",
            "spark-3.2.1-bin-hadoop3.2/examples/src/main/scala/org/apache/spark/examples/ml/DeveloperApiExample.scala\n",
            "spark-3.2.1-bin-hadoop3.2/examples/src/main/scala/org/apache/spark/examples/ml/ElementwiseProductExample.scala\n",
            "spark-3.2.1-bin-hadoop3.2/examples/src/main/scala/org/apache/spark/examples/ml/EstimatorTransformerParamExample.scala\n",
            "spark-3.2.1-bin-hadoop3.2/examples/src/main/scala/org/apache/spark/examples/ml/FMClassifierExample.scala\n",
            "spark-3.2.1-bin-hadoop3.2/examples/src/main/scala/org/apache/spark/examples/ml/FMRegressorExample.scala\n",
            "spark-3.2.1-bin-hadoop3.2/examples/src/main/scala/org/apache/spark/examples/ml/FPGrowthExample.scala\n",
            "spark-3.2.1-bin-hadoop3.2/examples/src/main/scala/org/apache/spark/examples/ml/FeatureHasherExample.scala\n",
            "spark-3.2.1-bin-hadoop3.2/examples/src/main/scala/org/apache/spark/examples/ml/GBTExample.scala\n",
            "spark-3.2.1-bin-hadoop3.2/examples/src/main/scala/org/apache/spark/examples/ml/GaussianMixtureExample.scala\n",
            "spark-3.2.1-bin-hadoop3.2/examples/src/main/scala/org/apache/spark/examples/ml/GeneralizedLinearRegressionExample.scala\n",
            "spark-3.2.1-bin-hadoop3.2/examples/src/main/scala/org/apache/spark/examples/ml/GradientBoostedTreeClassifierExample.scala\n",
            "spark-3.2.1-bin-hadoop3.2/examples/src/main/scala/org/apache/spark/examples/ml/GradientBoostedTreeRegressorExample.scala\n",
            "spark-3.2.1-bin-hadoop3.2/examples/src/main/scala/org/apache/spark/examples/ml/ImputerExample.scala\n",
            "spark-3.2.1-bin-hadoop3.2/examples/src/main/scala/org/apache/spark/examples/ml/IndexToStringExample.scala\n",
            "spark-3.2.1-bin-hadoop3.2/examples/src/main/scala/org/apache/spark/examples/ml/InteractionExample.scala\n",
            "spark-3.2.1-bin-hadoop3.2/examples/src/main/scala/org/apache/spark/examples/ml/IsotonicRegressionExample.scala\n",
            "spark-3.2.1-bin-hadoop3.2/examples/src/main/scala/org/apache/spark/examples/ml/KMeansExample.scala\n",
            "spark-3.2.1-bin-hadoop3.2/examples/src/main/scala/org/apache/spark/examples/ml/LDAExample.scala\n",
            "spark-3.2.1-bin-hadoop3.2/examples/src/main/scala/org/apache/spark/examples/ml/LinearRegressionExample.scala\n",
            "spark-3.2.1-bin-hadoop3.2/examples/src/main/scala/org/apache/spark/examples/ml/LinearRegressionWithElasticNetExample.scala\n",
            "spark-3.2.1-bin-hadoop3.2/examples/src/main/scala/org/apache/spark/examples/ml/LinearSVCExample.scala\n",
            "spark-3.2.1-bin-hadoop3.2/examples/src/main/scala/org/apache/spark/examples/ml/LogisticRegressionExample.scala\n",
            "spark-3.2.1-bin-hadoop3.2/examples/src/main/scala/org/apache/spark/examples/ml/LogisticRegressionSummaryExample.scala\n",
            "spark-3.2.1-bin-hadoop3.2/examples/src/main/scala/org/apache/spark/examples/ml/LogisticRegressionWithElasticNetExample.scala\n",
            "spark-3.2.1-bin-hadoop3.2/examples/src/main/scala/org/apache/spark/examples/ml/MaxAbsScalerExample.scala\n",
            "spark-3.2.1-bin-hadoop3.2/examples/src/main/scala/org/apache/spark/examples/ml/MinHashLSHExample.scala\n",
            "spark-3.2.1-bin-hadoop3.2/examples/src/main/scala/org/apache/spark/examples/ml/MinMaxScalerExample.scala\n",
            "spark-3.2.1-bin-hadoop3.2/examples/src/main/scala/org/apache/spark/examples/ml/ModelSelectionViaCrossValidationExample.scala\n",
            "spark-3.2.1-bin-hadoop3.2/examples/src/main/scala/org/apache/spark/examples/ml/ModelSelectionViaTrainValidationSplitExample.scala\n",
            "spark-3.2.1-bin-hadoop3.2/examples/src/main/scala/org/apache/spark/examples/ml/MulticlassLogisticRegressionWithElasticNetExample.scala\n",
            "spark-3.2.1-bin-hadoop3.2/examples/src/main/scala/org/apache/spark/examples/ml/MultilayerPerceptronClassifierExample.scala\n",
            "spark-3.2.1-bin-hadoop3.2/examples/src/main/scala/org/apache/spark/examples/ml/NGramExample.scala\n",
            "spark-3.2.1-bin-hadoop3.2/examples/src/main/scala/org/apache/spark/examples/ml/NaiveBayesExample.scala\n",
            "spark-3.2.1-bin-hadoop3.2/examples/src/main/scala/org/apache/spark/examples/ml/NormalizerExample.scala\n",
            "spark-3.2.1-bin-hadoop3.2/examples/src/main/scala/org/apache/spark/examples/ml/OneHotEncoderExample.scala\n",
            "spark-3.2.1-bin-hadoop3.2/examples/src/main/scala/org/apache/spark/examples/ml/OneVsRestExample.scala\n",
            "spark-3.2.1-bin-hadoop3.2/examples/src/main/scala/org/apache/spark/examples/ml/PCAExample.scala\n",
            "spark-3.2.1-bin-hadoop3.2/examples/src/main/scala/org/apache/spark/examples/ml/PipelineExample.scala\n",
            "spark-3.2.1-bin-hadoop3.2/examples/src/main/scala/org/apache/spark/examples/ml/PolynomialExpansionExample.scala\n",
            "spark-3.2.1-bin-hadoop3.2/examples/src/main/scala/org/apache/spark/examples/ml/PowerIterationClusteringExample.scala\n",
            "spark-3.2.1-bin-hadoop3.2/examples/src/main/scala/org/apache/spark/examples/ml/PrefixSpanExample.scala\n",
            "spark-3.2.1-bin-hadoop3.2/examples/src/main/scala/org/apache/spark/examples/ml/QuantileDiscretizerExample.scala\n",
            "spark-3.2.1-bin-hadoop3.2/examples/src/main/scala/org/apache/spark/examples/ml/RFormulaExample.scala\n",
            "spark-3.2.1-bin-hadoop3.2/examples/src/main/scala/org/apache/spark/examples/ml/RandomForestClassifierExample.scala\n",
            "spark-3.2.1-bin-hadoop3.2/examples/src/main/scala/org/apache/spark/examples/ml/RandomForestExample.scala\n",
            "spark-3.2.1-bin-hadoop3.2/examples/src/main/scala/org/apache/spark/examples/ml/RandomForestRegressorExample.scala\n",
            "spark-3.2.1-bin-hadoop3.2/examples/src/main/scala/org/apache/spark/examples/ml/RobustScalerExample.scala\n",
            "spark-3.2.1-bin-hadoop3.2/examples/src/main/scala/org/apache/spark/examples/ml/SQLTransformerExample.scala\n",
            "spark-3.2.1-bin-hadoop3.2/examples/src/main/scala/org/apache/spark/examples/ml/StandardScalerExample.scala\n",
            "spark-3.2.1-bin-hadoop3.2/examples/src/main/scala/org/apache/spark/examples/ml/StopWordsRemoverExample.scala\n",
            "spark-3.2.1-bin-hadoop3.2/examples/src/main/scala/org/apache/spark/examples/ml/StringIndexerExample.scala\n",
            "spark-3.2.1-bin-hadoop3.2/examples/src/main/scala/org/apache/spark/examples/ml/SummarizerExample.scala\n",
            "spark-3.2.1-bin-hadoop3.2/examples/src/main/scala/org/apache/spark/examples/ml/TfIdfExample.scala\n",
            "spark-3.2.1-bin-hadoop3.2/examples/src/main/scala/org/apache/spark/examples/ml/TokenizerExample.scala\n",
            "spark-3.2.1-bin-hadoop3.2/examples/src/main/scala/org/apache/spark/examples/ml/UnaryTransformerExample.scala\n",
            "spark-3.2.1-bin-hadoop3.2/examples/src/main/scala/org/apache/spark/examples/ml/UnivariateFeatureSelectorExample.scala\n",
            "spark-3.2.1-bin-hadoop3.2/examples/src/main/scala/org/apache/spark/examples/ml/VarianceThresholdSelectorExample.scala\n",
            "spark-3.2.1-bin-hadoop3.2/examples/src/main/scala/org/apache/spark/examples/ml/VectorAssemblerExample.scala\n",
            "spark-3.2.1-bin-hadoop3.2/examples/src/main/scala/org/apache/spark/examples/ml/VectorIndexerExample.scala\n",
            "spark-3.2.1-bin-hadoop3.2/examples/src/main/scala/org/apache/spark/examples/ml/VectorSizeHintExample.scala\n",
            "spark-3.2.1-bin-hadoop3.2/examples/src/main/scala/org/apache/spark/examples/ml/VectorSlicerExample.scala\n",
            "spark-3.2.1-bin-hadoop3.2/examples/src/main/scala/org/apache/spark/examples/ml/Word2VecExample.scala\n",
            "spark-3.2.1-bin-hadoop3.2/examples/src/main/scala/org/apache/spark/examples/mllib/\n",
            "spark-3.2.1-bin-hadoop3.2/examples/src/main/scala/org/apache/spark/examples/mllib/AbstractParams.scala\n",
            "spark-3.2.1-bin-hadoop3.2/examples/src/main/scala/org/apache/spark/examples/mllib/AssociationRulesExample.scala\n",
            "spark-3.2.1-bin-hadoop3.2/examples/src/main/scala/org/apache/spark/examples/mllib/BinaryClassification.scala\n",
            "spark-3.2.1-bin-hadoop3.2/examples/src/main/scala/org/apache/spark/examples/mllib/BinaryClassificationMetricsExample.scala\n",
            "spark-3.2.1-bin-hadoop3.2/examples/src/main/scala/org/apache/spark/examples/mllib/BisectingKMeansExample.scala\n",
            "spark-3.2.1-bin-hadoop3.2/examples/src/main/scala/org/apache/spark/examples/mllib/ChiSqSelectorExample.scala\n",
            "spark-3.2.1-bin-hadoop3.2/examples/src/main/scala/org/apache/spark/examples/mllib/Correlations.scala\n",
            "spark-3.2.1-bin-hadoop3.2/examples/src/main/scala/org/apache/spark/examples/mllib/CorrelationsExample.scala\n",
            "spark-3.2.1-bin-hadoop3.2/examples/src/main/scala/org/apache/spark/examples/mllib/CosineSimilarity.scala\n",
            "spark-3.2.1-bin-hadoop3.2/examples/src/main/scala/org/apache/spark/examples/mllib/DecisionTreeClassificationExample.scala\n",
            "spark-3.2.1-bin-hadoop3.2/examples/src/main/scala/org/apache/spark/examples/mllib/DecisionTreeRegressionExample.scala\n",
            "spark-3.2.1-bin-hadoop3.2/examples/src/main/scala/org/apache/spark/examples/mllib/DecisionTreeRunner.scala\n",
            "spark-3.2.1-bin-hadoop3.2/examples/src/main/scala/org/apache/spark/examples/mllib/DenseKMeans.scala\n",
            "spark-3.2.1-bin-hadoop3.2/examples/src/main/scala/org/apache/spark/examples/mllib/ElementwiseProductExample.scala\n",
            "spark-3.2.1-bin-hadoop3.2/examples/src/main/scala/org/apache/spark/examples/mllib/FPGrowthExample.scala\n",
            "spark-3.2.1-bin-hadoop3.2/examples/src/main/scala/org/apache/spark/examples/mllib/GaussianMixtureExample.scala\n",
            "spark-3.2.1-bin-hadoop3.2/examples/src/main/scala/org/apache/spark/examples/mllib/GradientBoostedTreesRunner.scala\n",
            "spark-3.2.1-bin-hadoop3.2/examples/src/main/scala/org/apache/spark/examples/mllib/GradientBoostingClassificationExample.scala\n",
            "spark-3.2.1-bin-hadoop3.2/examples/src/main/scala/org/apache/spark/examples/mllib/GradientBoostingRegressionExample.scala\n",
            "spark-3.2.1-bin-hadoop3.2/examples/src/main/scala/org/apache/spark/examples/mllib/HypothesisTestingExample.scala\n",
            "spark-3.2.1-bin-hadoop3.2/examples/src/main/scala/org/apache/spark/examples/mllib/HypothesisTestingKolmogorovSmirnovTestExample.scala\n",
            "spark-3.2.1-bin-hadoop3.2/examples/src/main/scala/org/apache/spark/examples/mllib/IsotonicRegressionExample.scala\n",
            "spark-3.2.1-bin-hadoop3.2/examples/src/main/scala/org/apache/spark/examples/mllib/KMeansExample.scala\n",
            "spark-3.2.1-bin-hadoop3.2/examples/src/main/scala/org/apache/spark/examples/mllib/KernelDensityEstimationExample.scala\n",
            "spark-3.2.1-bin-hadoop3.2/examples/src/main/scala/org/apache/spark/examples/mllib/LBFGSExample.scala\n",
            "spark-3.2.1-bin-hadoop3.2/examples/src/main/scala/org/apache/spark/examples/mllib/LDAExample.scala\n",
            "spark-3.2.1-bin-hadoop3.2/examples/src/main/scala/org/apache/spark/examples/mllib/LatentDirichletAllocationExample.scala\n",
            "spark-3.2.1-bin-hadoop3.2/examples/src/main/scala/org/apache/spark/examples/mllib/LogisticRegressionWithLBFGSExample.scala\n",
            "spark-3.2.1-bin-hadoop3.2/examples/src/main/scala/org/apache/spark/examples/mllib/MovieLensALS.scala\n",
            "spark-3.2.1-bin-hadoop3.2/examples/src/main/scala/org/apache/spark/examples/mllib/MultiLabelMetricsExample.scala\n",
            "spark-3.2.1-bin-hadoop3.2/examples/src/main/scala/org/apache/spark/examples/mllib/MulticlassMetricsExample.scala\n",
            "spark-3.2.1-bin-hadoop3.2/examples/src/main/scala/org/apache/spark/examples/mllib/MultivariateSummarizer.scala\n",
            "spark-3.2.1-bin-hadoop3.2/examples/src/main/scala/org/apache/spark/examples/mllib/NaiveBayesExample.scala\n",
            "spark-3.2.1-bin-hadoop3.2/examples/src/main/scala/org/apache/spark/examples/mllib/NormalizerExample.scala\n",
            "spark-3.2.1-bin-hadoop3.2/examples/src/main/scala/org/apache/spark/examples/mllib/PCAOnRowMatrixExample.scala\n",
            "spark-3.2.1-bin-hadoop3.2/examples/src/main/scala/org/apache/spark/examples/mllib/PCAOnSourceVectorExample.scala\n",
            "spark-3.2.1-bin-hadoop3.2/examples/src/main/scala/org/apache/spark/examples/mllib/PMMLModelExportExample.scala\n",
            "spark-3.2.1-bin-hadoop3.2/examples/src/main/scala/org/apache/spark/examples/mllib/PowerIterationClusteringExample.scala\n",
            "spark-3.2.1-bin-hadoop3.2/examples/src/main/scala/org/apache/spark/examples/mllib/PrefixSpanExample.scala\n",
            "spark-3.2.1-bin-hadoop3.2/examples/src/main/scala/org/apache/spark/examples/mllib/RandomForestClassificationExample.scala\n",
            "spark-3.2.1-bin-hadoop3.2/examples/src/main/scala/org/apache/spark/examples/mllib/RandomForestRegressionExample.scala\n",
            "spark-3.2.1-bin-hadoop3.2/examples/src/main/scala/org/apache/spark/examples/mllib/RandomRDDGeneration.scala\n",
            "spark-3.2.1-bin-hadoop3.2/examples/src/main/scala/org/apache/spark/examples/mllib/RankingMetricsExample.scala\n",
            "spark-3.2.1-bin-hadoop3.2/examples/src/main/scala/org/apache/spark/examples/mllib/RecommendationExample.scala\n",
            "spark-3.2.1-bin-hadoop3.2/examples/src/main/scala/org/apache/spark/examples/mllib/SVDExample.scala\n",
            "spark-3.2.1-bin-hadoop3.2/examples/src/main/scala/org/apache/spark/examples/mllib/SVMWithSGDExample.scala\n",
            "spark-3.2.1-bin-hadoop3.2/examples/src/main/scala/org/apache/spark/examples/mllib/SampledRDDs.scala\n",
            "spark-3.2.1-bin-hadoop3.2/examples/src/main/scala/org/apache/spark/examples/mllib/SimpleFPGrowth.scala\n",
            "spark-3.2.1-bin-hadoop3.2/examples/src/main/scala/org/apache/spark/examples/mllib/SparseNaiveBayes.scala\n",
            "spark-3.2.1-bin-hadoop3.2/examples/src/main/scala/org/apache/spark/examples/mllib/StandardScalerExample.scala\n",
            "spark-3.2.1-bin-hadoop3.2/examples/src/main/scala/org/apache/spark/examples/mllib/StratifiedSamplingExample.scala\n",
            "spark-3.2.1-bin-hadoop3.2/examples/src/main/scala/org/apache/spark/examples/mllib/StreamingKMeansExample.scala\n",
            "spark-3.2.1-bin-hadoop3.2/examples/src/main/scala/org/apache/spark/examples/mllib/StreamingLinearRegressionExample.scala\n",
            "spark-3.2.1-bin-hadoop3.2/examples/src/main/scala/org/apache/spark/examples/mllib/StreamingLogisticRegression.scala\n",
            "spark-3.2.1-bin-hadoop3.2/examples/src/main/scala/org/apache/spark/examples/mllib/StreamingTestExample.scala\n",
            "spark-3.2.1-bin-hadoop3.2/examples/src/main/scala/org/apache/spark/examples/mllib/SummaryStatisticsExample.scala\n",
            "spark-3.2.1-bin-hadoop3.2/examples/src/main/scala/org/apache/spark/examples/mllib/TFIDFExample.scala\n",
            "spark-3.2.1-bin-hadoop3.2/examples/src/main/scala/org/apache/spark/examples/mllib/TallSkinnyPCA.scala\n",
            "spark-3.2.1-bin-hadoop3.2/examples/src/main/scala/org/apache/spark/examples/mllib/TallSkinnySVD.scala\n",
            "spark-3.2.1-bin-hadoop3.2/examples/src/main/scala/org/apache/spark/examples/mllib/Word2VecExample.scala\n",
            "spark-3.2.1-bin-hadoop3.2/examples/src/main/scala/org/apache/spark/examples/pythonconverters/\n",
            "spark-3.2.1-bin-hadoop3.2/examples/src/main/scala/org/apache/spark/examples/pythonconverters/AvroConverters.scala\n",
            "spark-3.2.1-bin-hadoop3.2/examples/src/main/scala/org/apache/spark/examples/sql/\n",
            "spark-3.2.1-bin-hadoop3.2/examples/src/main/scala/org/apache/spark/examples/sql/RDDRelation.scala\n",
            "spark-3.2.1-bin-hadoop3.2/examples/src/main/scala/org/apache/spark/examples/sql/SQLDataSourceExample.scala\n",
            "spark-3.2.1-bin-hadoop3.2/examples/src/main/scala/org/apache/spark/examples/sql/SimpleTypedAggregator.scala\n",
            "spark-3.2.1-bin-hadoop3.2/examples/src/main/scala/org/apache/spark/examples/sql/SparkSQLExample.scala\n",
            "spark-3.2.1-bin-hadoop3.2/examples/src/main/scala/org/apache/spark/examples/sql/UserDefinedScalar.scala\n",
            "spark-3.2.1-bin-hadoop3.2/examples/src/main/scala/org/apache/spark/examples/sql/UserDefinedTypedAggregation.scala\n",
            "spark-3.2.1-bin-hadoop3.2/examples/src/main/scala/org/apache/spark/examples/sql/UserDefinedUntypedAggregation.scala\n",
            "spark-3.2.1-bin-hadoop3.2/examples/src/main/scala/org/apache/spark/examples/sql/hive/\n",
            "spark-3.2.1-bin-hadoop3.2/examples/src/main/scala/org/apache/spark/examples/sql/hive/SparkHiveExample.scala\n",
            "spark-3.2.1-bin-hadoop3.2/examples/src/main/scala/org/apache/spark/examples/sql/jdbc/\n",
            "spark-3.2.1-bin-hadoop3.2/examples/src/main/scala/org/apache/spark/examples/sql/jdbc/ExampleJdbcConnectionProvider.scala\n",
            "spark-3.2.1-bin-hadoop3.2/examples/src/main/scala/org/apache/spark/examples/sql/streaming/\n",
            "spark-3.2.1-bin-hadoop3.2/examples/src/main/scala/org/apache/spark/examples/sql/streaming/StructuredComplexSessionization.scala\n",
            "spark-3.2.1-bin-hadoop3.2/examples/src/main/scala/org/apache/spark/examples/sql/streaming/StructuredKafkaWordCount.scala\n",
            "spark-3.2.1-bin-hadoop3.2/examples/src/main/scala/org/apache/spark/examples/sql/streaming/StructuredKerberizedKafkaWordCount.scala\n",
            "spark-3.2.1-bin-hadoop3.2/examples/src/main/scala/org/apache/spark/examples/sql/streaming/StructuredNetworkWordCount.scala\n",
            "spark-3.2.1-bin-hadoop3.2/examples/src/main/scala/org/apache/spark/examples/sql/streaming/StructuredNetworkWordCountWindowed.scala\n",
            "spark-3.2.1-bin-hadoop3.2/examples/src/main/scala/org/apache/spark/examples/sql/streaming/StructuredSessionization.scala\n",
            "spark-3.2.1-bin-hadoop3.2/examples/src/main/scala/org/apache/spark/examples/streaming/\n",
            "spark-3.2.1-bin-hadoop3.2/examples/src/main/scala/org/apache/spark/examples/streaming/CustomReceiver.scala\n",
            "spark-3.2.1-bin-hadoop3.2/examples/src/main/scala/org/apache/spark/examples/streaming/DirectKafkaWordCount.scala\n",
            "spark-3.2.1-bin-hadoop3.2/examples/src/main/scala/org/apache/spark/examples/streaming/DirectKerberizedKafkaWordCount.scala\n",
            "spark-3.2.1-bin-hadoop3.2/examples/src/main/scala/org/apache/spark/examples/streaming/HdfsWordCount.scala\n",
            "spark-3.2.1-bin-hadoop3.2/examples/src/main/scala/org/apache/spark/examples/streaming/NetworkWordCount.scala\n",
            "spark-3.2.1-bin-hadoop3.2/examples/src/main/scala/org/apache/spark/examples/streaming/QueueStream.scala\n",
            "spark-3.2.1-bin-hadoop3.2/examples/src/main/scala/org/apache/spark/examples/streaming/RawNetworkGrep.scala\n",
            "spark-3.2.1-bin-hadoop3.2/examples/src/main/scala/org/apache/spark/examples/streaming/RecoverableNetworkWordCount.scala\n",
            "spark-3.2.1-bin-hadoop3.2/examples/src/main/scala/org/apache/spark/examples/streaming/SqlNetworkWordCount.scala\n",
            "spark-3.2.1-bin-hadoop3.2/examples/src/main/scala/org/apache/spark/examples/streaming/StatefulNetworkWordCount.scala\n",
            "spark-3.2.1-bin-hadoop3.2/examples/src/main/scala/org/apache/spark/examples/streaming/StreamingExamples.scala\n",
            "spark-3.2.1-bin-hadoop3.2/examples/src/main/scala/org/apache/spark/examples/streaming/clickstream/\n",
            "spark-3.2.1-bin-hadoop3.2/examples/src/main/scala/org/apache/spark/examples/streaming/clickstream/PageViewGenerator.scala\n",
            "spark-3.2.1-bin-hadoop3.2/examples/src/main/scala/org/apache/spark/examples/streaming/clickstream/PageViewStream.scala\n",
            "spark-3.2.1-bin-hadoop3.2/examples/src/main/scripts/\n",
            "spark-3.2.1-bin-hadoop3.2/examples/src/main/scripts/getGpusResources.sh\n",
            "spark-3.2.1-bin-hadoop3.2/jars/\n",
            "spark-3.2.1-bin-hadoop3.2/jars/HikariCP-2.5.1.jar\n",
            "spark-3.2.1-bin-hadoop3.2/jars/JLargeArrays-1.5.jar\n",
            "spark-3.2.1-bin-hadoop3.2/jars/JTransforms-3.1.jar\n",
            "spark-3.2.1-bin-hadoop3.2/jars/RoaringBitmap-0.9.0.jar\n",
            "spark-3.2.1-bin-hadoop3.2/jars/ST4-4.0.4.jar\n",
            "spark-3.2.1-bin-hadoop3.2/jars/activation-1.1.1.jar\n",
            "spark-3.2.1-bin-hadoop3.2/jars/aircompressor-0.21.jar\n",
            "spark-3.2.1-bin-hadoop3.2/jars/algebra_2.12-2.0.1.jar\n",
            "spark-3.2.1-bin-hadoop3.2/jars/annotations-17.0.0.jar\n",
            "spark-3.2.1-bin-hadoop3.2/jars/antlr-runtime-3.5.2.jar\n",
            "spark-3.2.1-bin-hadoop3.2/jars/antlr4-runtime-4.8.jar\n",
            "spark-3.2.1-bin-hadoop3.2/jars/aopalliance-repackaged-2.6.1.jar\n",
            "spark-3.2.1-bin-hadoop3.2/jars/arpack-2.2.1.jar\n",
            "spark-3.2.1-bin-hadoop3.2/jars/arpack_combined_all-0.1.jar\n",
            "spark-3.2.1-bin-hadoop3.2/jars/arrow-format-2.0.0.jar\n",
            "spark-3.2.1-bin-hadoop3.2/jars/arrow-memory-core-2.0.0.jar\n",
            "spark-3.2.1-bin-hadoop3.2/jars/arrow-memory-netty-2.0.0.jar\n",
            "spark-3.2.1-bin-hadoop3.2/jars/arrow-vector-2.0.0.jar\n",
            "spark-3.2.1-bin-hadoop3.2/jars/audience-annotations-0.5.0.jar\n",
            "spark-3.2.1-bin-hadoop3.2/jars/automaton-1.11-8.jar\n",
            "spark-3.2.1-bin-hadoop3.2/jars/avro-1.10.2.jar\n",
            "spark-3.2.1-bin-hadoop3.2/jars/avro-ipc-1.10.2.jar\n",
            "spark-3.2.1-bin-hadoop3.2/jars/avro-mapred-1.10.2.jar\n",
            "spark-3.2.1-bin-hadoop3.2/jars/blas-2.2.1.jar\n",
            "spark-3.2.1-bin-hadoop3.2/jars/bonecp-0.8.0.RELEASE.jar\n",
            "spark-3.2.1-bin-hadoop3.2/jars/breeze-macros_2.12-1.2.jar\n",
            "spark-3.2.1-bin-hadoop3.2/jars/breeze_2.12-1.2.jar\n",
            "spark-3.2.1-bin-hadoop3.2/jars/cats-kernel_2.12-2.1.1.jar\n",
            "spark-3.2.1-bin-hadoop3.2/jars/chill-java-0.10.0.jar\n",
            "spark-3.2.1-bin-hadoop3.2/jars/chill_2.12-0.10.0.jar\n",
            "spark-3.2.1-bin-hadoop3.2/jars/commons-cli-1.2.jar\n",
            "spark-3.2.1-bin-hadoop3.2/jars/commons-codec-1.15.jar\n",
            "spark-3.2.1-bin-hadoop3.2/jars/commons-collections-3.2.2.jar\n",
            "spark-3.2.1-bin-hadoop3.2/jars/commons-compiler-3.0.16.jar\n",
            "spark-3.2.1-bin-hadoop3.2/jars/commons-compress-1.21.jar\n",
            "spark-3.2.1-bin-hadoop3.2/jars/commons-crypto-1.1.0.jar\n",
            "spark-3.2.1-bin-hadoop3.2/jars/commons-dbcp-1.4.jar\n",
            "spark-3.2.1-bin-hadoop3.2/jars/commons-io-2.8.0.jar\n",
            "spark-3.2.1-bin-hadoop3.2/jars/commons-lang-2.6.jar\n",
            "spark-3.2.1-bin-hadoop3.2/jars/commons-lang3-3.12.0.jar\n",
            "spark-3.2.1-bin-hadoop3.2/jars/commons-logging-1.1.3.jar\n",
            "spark-3.2.1-bin-hadoop3.2/jars/commons-math3-3.4.1.jar\n",
            "spark-3.2.1-bin-hadoop3.2/jars/commons-net-3.1.jar\n",
            "spark-3.2.1-bin-hadoop3.2/jars/commons-pool-1.5.4.jar\n",
            "spark-3.2.1-bin-hadoop3.2/jars/commons-text-1.6.jar\n",
            "spark-3.2.1-bin-hadoop3.2/jars/compress-lzf-1.0.3.jar\n",
            "spark-3.2.1-bin-hadoop3.2/jars/core-1.1.2.jar\n",
            "spark-3.2.1-bin-hadoop3.2/jars/curator-client-2.13.0.jar\n",
            "spark-3.2.1-bin-hadoop3.2/jars/curator-framework-2.13.0.jar\n",
            "spark-3.2.1-bin-hadoop3.2/jars/curator-recipes-2.13.0.jar\n",
            "spark-3.2.1-bin-hadoop3.2/jars/datanucleus-api-jdo-4.2.4.jar\n",
            "spark-3.2.1-bin-hadoop3.2/jars/datanucleus-core-4.1.17.jar\n",
            "spark-3.2.1-bin-hadoop3.2/jars/datanucleus-rdbms-4.1.19.jar\n",
            "spark-3.2.1-bin-hadoop3.2/jars/derby-10.14.2.0.jar\n",
            "spark-3.2.1-bin-hadoop3.2/jars/dropwizard-metrics-hadoop-metrics2-reporter-0.1.2.jar\n",
            "spark-3.2.1-bin-hadoop3.2/jars/flatbuffers-java-1.9.0.jar\n",
            "spark-3.2.1-bin-hadoop3.2/jars/generex-1.0.2.jar\n",
            "spark-3.2.1-bin-hadoop3.2/jars/gson-2.2.4.jar\n",
            "spark-3.2.1-bin-hadoop3.2/jars/guava-14.0.1.jar\n",
            "spark-3.2.1-bin-hadoop3.2/jars/hadoop-client-api-3.3.1.jar\n",
            "spark-3.2.1-bin-hadoop3.2/jars/hadoop-client-runtime-3.3.1.jar\n",
            "spark-3.2.1-bin-hadoop3.2/jars/hadoop-shaded-guava-1.1.1.jar\n",
            "spark-3.2.1-bin-hadoop3.2/jars/hadoop-yarn-server-web-proxy-3.3.1.jar\n",
            "spark-3.2.1-bin-hadoop3.2/jars/hive-beeline-2.3.9.jar\n",
            "spark-3.2.1-bin-hadoop3.2/jars/hive-cli-2.3.9.jar\n",
            "spark-3.2.1-bin-hadoop3.2/jars/hive-common-2.3.9.jar\n",
            "spark-3.2.1-bin-hadoop3.2/jars/hive-exec-2.3.9-core.jar\n",
            "spark-3.2.1-bin-hadoop3.2/jars/hive-jdbc-2.3.9.jar\n",
            "spark-3.2.1-bin-hadoop3.2/jars/hive-llap-common-2.3.9.jar\n",
            "spark-3.2.1-bin-hadoop3.2/jars/hive-metastore-2.3.9.jar\n",
            "spark-3.2.1-bin-hadoop3.2/jars/hive-serde-2.3.9.jar\n",
            "spark-3.2.1-bin-hadoop3.2/jars/hive-service-rpc-3.1.2.jar\n",
            "spark-3.2.1-bin-hadoop3.2/jars/hive-shims-0.23-2.3.9.jar\n",
            "spark-3.2.1-bin-hadoop3.2/jars/hive-shims-2.3.9.jar\n",
            "spark-3.2.1-bin-hadoop3.2/jars/hive-shims-common-2.3.9.jar\n",
            "spark-3.2.1-bin-hadoop3.2/jars/hive-shims-scheduler-2.3.9.jar\n",
            "spark-3.2.1-bin-hadoop3.2/jars/hive-storage-api-2.7.2.jar\n",
            "spark-3.2.1-bin-hadoop3.2/jars/hive-vector-code-gen-2.3.9.jar\n",
            "spark-3.2.1-bin-hadoop3.2/jars/hk2-api-2.6.1.jar\n",
            "spark-3.2.1-bin-hadoop3.2/jars/hk2-locator-2.6.1.jar\n",
            "spark-3.2.1-bin-hadoop3.2/jars/hk2-utils-2.6.1.jar\n",
            "spark-3.2.1-bin-hadoop3.2/jars/htrace-core4-4.1.0-incubating.jar\n",
            "spark-3.2.1-bin-hadoop3.2/jars/httpclient-4.5.13.jar\n",
            "spark-3.2.1-bin-hadoop3.2/jars/httpcore-4.4.14.jar\n",
            "spark-3.2.1-bin-hadoop3.2/jars/istack-commons-runtime-3.0.8.jar\n",
            "spark-3.2.1-bin-hadoop3.2/jars/ivy-2.5.0.jar\n",
            "spark-3.2.1-bin-hadoop3.2/jars/jackson-annotations-2.12.3.jar\n",
            "spark-3.2.1-bin-hadoop3.2/jars/jackson-core-2.12.3.jar\n",
            "spark-3.2.1-bin-hadoop3.2/jars/jackson-core-asl-1.9.13.jar\n",
            "spark-3.2.1-bin-hadoop3.2/jars/jackson-databind-2.12.3.jar\n",
            "spark-3.2.1-bin-hadoop3.2/jars/jackson-dataformat-yaml-2.12.3.jar\n",
            "spark-3.2.1-bin-hadoop3.2/jars/jackson-datatype-jsr310-2.11.2.jar\n",
            "spark-3.2.1-bin-hadoop3.2/jars/jackson-mapper-asl-1.9.13.jar\n",
            "spark-3.2.1-bin-hadoop3.2/jars/jackson-module-scala_2.12-2.12.3.jar\n",
            "spark-3.2.1-bin-hadoop3.2/jars/jakarta.annotation-api-1.3.5.jar\n",
            "spark-3.2.1-bin-hadoop3.2/jars/jakarta.inject-2.6.1.jar\n",
            "spark-3.2.1-bin-hadoop3.2/jars/jakarta.servlet-api-4.0.3.jar\n",
            "spark-3.2.1-bin-hadoop3.2/jars/jakarta.validation-api-2.0.2.jar\n",
            "spark-3.2.1-bin-hadoop3.2/jars/jakarta.ws.rs-api-2.1.6.jar\n",
            "spark-3.2.1-bin-hadoop3.2/jars/jakarta.xml.bind-api-2.3.2.jar\n",
            "spark-3.2.1-bin-hadoop3.2/jars/janino-3.0.16.jar\n",
            "spark-3.2.1-bin-hadoop3.2/jars/javassist-3.25.0-GA.jar\n",
            "spark-3.2.1-bin-hadoop3.2/jars/javax.jdo-3.2.0-m3.jar\n",
            "spark-3.2.1-bin-hadoop3.2/jars/javolution-5.5.1.jar\n",
            "spark-3.2.1-bin-hadoop3.2/jars/jaxb-api-2.2.11.jar\n",
            "spark-3.2.1-bin-hadoop3.2/jars/jaxb-runtime-2.3.2.jar\n",
            "spark-3.2.1-bin-hadoop3.2/jars/jcl-over-slf4j-1.7.30.jar\n",
            "spark-3.2.1-bin-hadoop3.2/jars/jdo-api-3.0.1.jar\n",
            "spark-3.2.1-bin-hadoop3.2/jars/jersey-client-2.34.jar\n",
            "spark-3.2.1-bin-hadoop3.2/jars/jersey-common-2.34.jar\n",
            "spark-3.2.1-bin-hadoop3.2/jars/jersey-container-servlet-2.34.jar\n",
            "spark-3.2.1-bin-hadoop3.2/jars/jersey-container-servlet-core-2.34.jar\n",
            "spark-3.2.1-bin-hadoop3.2/jars/jersey-hk2-2.34.jar\n",
            "spark-3.2.1-bin-hadoop3.2/jars/jersey-server-2.34.jar\n",
            "spark-3.2.1-bin-hadoop3.2/jars/jline-2.14.6.jar\n",
            "spark-3.2.1-bin-hadoop3.2/jars/joda-time-2.10.10.jar\n",
            "spark-3.2.1-bin-hadoop3.2/jars/jodd-core-3.5.2.jar\n",
            "spark-3.2.1-bin-hadoop3.2/jars/jpam-1.1.jar\n",
            "spark-3.2.1-bin-hadoop3.2/jars/json-1.8.jar\n",
            "spark-3.2.1-bin-hadoop3.2/jars/json4s-ast_2.12-3.7.0-M11.jar\n",
            "spark-3.2.1-bin-hadoop3.2/jars/json4s-core_2.12-3.7.0-M11.jar\n",
            "spark-3.2.1-bin-hadoop3.2/jars/json4s-jackson_2.12-3.7.0-M11.jar\n",
            "spark-3.2.1-bin-hadoop3.2/jars/json4s-scalap_2.12-3.7.0-M11.jar\n",
            "spark-3.2.1-bin-hadoop3.2/jars/jsr305-3.0.0.jar\n",
            "spark-3.2.1-bin-hadoop3.2/jars/jta-1.1.jar\n",
            "spark-3.2.1-bin-hadoop3.2/jars/jul-to-slf4j-1.7.30.jar\n",
            "spark-3.2.1-bin-hadoop3.2/jars/kryo-shaded-4.0.2.jar\n",
            "spark-3.2.1-bin-hadoop3.2/jars/kubernetes-client-5.4.1.jar\n",
            "spark-3.2.1-bin-hadoop3.2/jars/kubernetes-model-admissionregistration-5.4.1.jar\n",
            "spark-3.2.1-bin-hadoop3.2/jars/kubernetes-model-apiextensions-5.4.1.jar\n",
            "spark-3.2.1-bin-hadoop3.2/jars/kubernetes-model-apps-5.4.1.jar\n",
            "spark-3.2.1-bin-hadoop3.2/jars/kubernetes-model-autoscaling-5.4.1.jar\n",
            "spark-3.2.1-bin-hadoop3.2/jars/kubernetes-model-batch-5.4.1.jar\n",
            "spark-3.2.1-bin-hadoop3.2/jars/kubernetes-model-certificates-5.4.1.jar\n",
            "spark-3.2.1-bin-hadoop3.2/jars/kubernetes-model-common-5.4.1.jar\n",
            "spark-3.2.1-bin-hadoop3.2/jars/kubernetes-model-coordination-5.4.1.jar\n",
            "spark-3.2.1-bin-hadoop3.2/jars/kubernetes-model-core-5.4.1.jar\n",
            "spark-3.2.1-bin-hadoop3.2/jars/kubernetes-model-discovery-5.4.1.jar\n",
            "spark-3.2.1-bin-hadoop3.2/jars/kubernetes-model-events-5.4.1.jar\n",
            "spark-3.2.1-bin-hadoop3.2/jars/kubernetes-model-extensions-5.4.1.jar\n",
            "spark-3.2.1-bin-hadoop3.2/jars/kubernetes-model-flowcontrol-5.4.1.jar\n",
            "spark-3.2.1-bin-hadoop3.2/jars/kubernetes-model-metrics-5.4.1.jar\n",
            "spark-3.2.1-bin-hadoop3.2/jars/kubernetes-model-networking-5.4.1.jar\n",
            "spark-3.2.1-bin-hadoop3.2/jars/kubernetes-model-node-5.4.1.jar\n",
            "spark-3.2.1-bin-hadoop3.2/jars/kubernetes-model-policy-5.4.1.jar\n",
            "spark-3.2.1-bin-hadoop3.2/jars/kubernetes-model-rbac-5.4.1.jar\n",
            "spark-3.2.1-bin-hadoop3.2/jars/kubernetes-model-scheduling-5.4.1.jar\n",
            "spark-3.2.1-bin-hadoop3.2/jars/kubernetes-model-storageclass-5.4.1.jar\n",
            "spark-3.2.1-bin-hadoop3.2/jars/lapack-2.2.1.jar\n",
            "spark-3.2.1-bin-hadoop3.2/jars/leveldbjni-all-1.8.jar\n",
            "spark-3.2.1-bin-hadoop3.2/jars/libfb303-0.9.3.jar\n",
            "spark-3.2.1-bin-hadoop3.2/jars/libthrift-0.12.0.jar\n",
            "spark-3.2.1-bin-hadoop3.2/jars/log4j-1.2.17.jar\n",
            "spark-3.2.1-bin-hadoop3.2/jars/logging-interceptor-3.12.12.jar\n",
            "spark-3.2.1-bin-hadoop3.2/jars/lz4-java-1.7.1.jar\n",
            "spark-3.2.1-bin-hadoop3.2/jars/macro-compat_2.12-1.1.1.jar\n",
            "spark-3.2.1-bin-hadoop3.2/jars/mesos-1.4.0-shaded-protobuf.jar\n",
            "spark-3.2.1-bin-hadoop3.2/jars/metrics-core-4.2.0.jar\n",
            "spark-3.2.1-bin-hadoop3.2/jars/metrics-graphite-4.2.0.jar\n",
            "spark-3.2.1-bin-hadoop3.2/jars/metrics-jmx-4.2.0.jar\n",
            "spark-3.2.1-bin-hadoop3.2/jars/metrics-json-4.2.0.jar\n",
            "spark-3.2.1-bin-hadoop3.2/jars/metrics-jvm-4.2.0.jar\n",
            "spark-3.2.1-bin-hadoop3.2/jars/minlog-1.3.0.jar\n",
            "spark-3.2.1-bin-hadoop3.2/jars/netty-all-4.1.68.Final.jar\n",
            "spark-3.2.1-bin-hadoop3.2/jars/objenesis-2.6.jar\n",
            "spark-3.2.1-bin-hadoop3.2/jars/okhttp-3.12.12.jar\n",
            "spark-3.2.1-bin-hadoop3.2/jars/okio-1.14.0.jar\n",
            "spark-3.2.1-bin-hadoop3.2/jars/opencsv-2.3.jar\n",
            "spark-3.2.1-bin-hadoop3.2/jars/orc-core-1.6.12.jar\n",
            "spark-3.2.1-bin-hadoop3.2/jars/orc-mapreduce-1.6.12.jar\n",
            "spark-3.2.1-bin-hadoop3.2/jars/orc-shims-1.6.12.jar\n",
            "spark-3.2.1-bin-hadoop3.2/jars/oro-2.0.8.jar\n",
            "spark-3.2.1-bin-hadoop3.2/jars/osgi-resource-locator-1.0.3.jar\n",
            "spark-3.2.1-bin-hadoop3.2/jars/paranamer-2.8.jar\n",
            "spark-3.2.1-bin-hadoop3.2/jars/parquet-column-1.12.2.jar\n",
            "spark-3.2.1-bin-hadoop3.2/jars/parquet-common-1.12.2.jar\n",
            "spark-3.2.1-bin-hadoop3.2/jars/parquet-encoding-1.12.2.jar\n",
            "spark-3.2.1-bin-hadoop3.2/jars/parquet-format-structures-1.12.2.jar\n",
            "spark-3.2.1-bin-hadoop3.2/jars/parquet-hadoop-1.12.2.jar\n",
            "spark-3.2.1-bin-hadoop3.2/jars/parquet-jackson-1.12.2.jar\n",
            "spark-3.2.1-bin-hadoop3.2/jars/protobuf-java-2.5.0.jar\n",
            "spark-3.2.1-bin-hadoop3.2/jars/py4j-0.10.9.3.jar\n",
            "spark-3.2.1-bin-hadoop3.2/jars/pyrolite-4.30.jar\n",
            "spark-3.2.1-bin-hadoop3.2/jars/rocksdbjni-6.20.3.jar\n",
            "spark-3.2.1-bin-hadoop3.2/jars/scala-collection-compat_2.12-2.1.1.jar\n",
            "spark-3.2.1-bin-hadoop3.2/jars/scala-compiler-2.12.15.jar\n",
            "spark-3.2.1-bin-hadoop3.2/jars/scala-library-2.12.15.jar\n",
            "spark-3.2.1-bin-hadoop3.2/jars/scala-parser-combinators_2.12-1.1.2.jar\n",
            "spark-3.2.1-bin-hadoop3.2/jars/scala-reflect-2.12.15.jar\n",
            "spark-3.2.1-bin-hadoop3.2/jars/scala-xml_2.12-1.2.0.jar\n",
            "spark-3.2.1-bin-hadoop3.2/jars/shapeless_2.12-2.3.3.jar\n",
            "spark-3.2.1-bin-hadoop3.2/jars/shims-0.9.0.jar\n",
            "spark-3.2.1-bin-hadoop3.2/jars/slf4j-api-1.7.30.jar\n",
            "spark-3.2.1-bin-hadoop3.2/jars/slf4j-log4j12-1.7.30.jar\n",
            "spark-3.2.1-bin-hadoop3.2/jars/snakeyaml-1.27.jar\n",
            "spark-3.2.1-bin-hadoop3.2/jars/snappy-java-1.1.8.4.jar\n",
            "spark-3.2.1-bin-hadoop3.2/jars/spark-catalyst_2.12-3.2.1.jar\n",
            "spark-3.2.1-bin-hadoop3.2/jars/spark-core_2.12-3.2.1.jar\n",
            "spark-3.2.1-bin-hadoop3.2/jars/spark-graphx_2.12-3.2.1.jar\n",
            "spark-3.2.1-bin-hadoop3.2/jars/spark-hive-thriftserver_2.12-3.2.1.jar\n",
            "spark-3.2.1-bin-hadoop3.2/jars/spark-hive_2.12-3.2.1.jar\n",
            "spark-3.2.1-bin-hadoop3.2/jars/spark-kubernetes_2.12-3.2.1.jar\n",
            "spark-3.2.1-bin-hadoop3.2/jars/spark-kvstore_2.12-3.2.1.jar\n",
            "spark-3.2.1-bin-hadoop3.2/jars/spark-launcher_2.12-3.2.1.jar\n",
            "spark-3.2.1-bin-hadoop3.2/jars/spark-mesos_2.12-3.2.1.jar\n",
            "spark-3.2.1-bin-hadoop3.2/jars/spark-mllib-local_2.12-3.2.1.jar\n",
            "spark-3.2.1-bin-hadoop3.2/jars/spark-mllib_2.12-3.2.1.jar\n",
            "spark-3.2.1-bin-hadoop3.2/jars/spark-network-common_2.12-3.2.1.jar\n",
            "spark-3.2.1-bin-hadoop3.2/jars/spark-network-shuffle_2.12-3.2.1.jar\n",
            "spark-3.2.1-bin-hadoop3.2/jars/spark-repl_2.12-3.2.1.jar\n",
            "spark-3.2.1-bin-hadoop3.2/jars/spark-sketch_2.12-3.2.1.jar\n",
            "spark-3.2.1-bin-hadoop3.2/jars/spark-sql_2.12-3.2.1.jar\n",
            "spark-3.2.1-bin-hadoop3.2/jars/spark-streaming_2.12-3.2.1.jar\n",
            "spark-3.2.1-bin-hadoop3.2/jars/spark-tags_2.12-3.2.1-tests.jar\n",
            "spark-3.2.1-bin-hadoop3.2/jars/spark-tags_2.12-3.2.1.jar\n",
            "spark-3.2.1-bin-hadoop3.2/jars/spark-unsafe_2.12-3.2.1.jar\n",
            "spark-3.2.1-bin-hadoop3.2/jars/spark-yarn_2.12-3.2.1.jar\n",
            "spark-3.2.1-bin-hadoop3.2/jars/spire-macros_2.12-0.17.0.jar\n",
            "spark-3.2.1-bin-hadoop3.2/jars/spire-platform_2.12-0.17.0.jar\n",
            "spark-3.2.1-bin-hadoop3.2/jars/spire-util_2.12-0.17.0.jar\n",
            "spark-3.2.1-bin-hadoop3.2/jars/spire_2.12-0.17.0.jar\n",
            "spark-3.2.1-bin-hadoop3.2/jars/stax-api-1.0.1.jar\n",
            "spark-3.2.1-bin-hadoop3.2/jars/stream-2.9.6.jar\n",
            "spark-3.2.1-bin-hadoop3.2/jars/super-csv-2.2.0.jar\n",
            "spark-3.2.1-bin-hadoop3.2/jars/threeten-extra-1.5.0.jar\n",
            "spark-3.2.1-bin-hadoop3.2/jars/tink-1.6.0.jar\n",
            "spark-3.2.1-bin-hadoop3.2/jars/transaction-api-1.1.jar\n",
            "spark-3.2.1-bin-hadoop3.2/jars/univocity-parsers-2.9.1.jar\n",
            "spark-3.2.1-bin-hadoop3.2/jars/velocity-1.5.jar\n",
            "spark-3.2.1-bin-hadoop3.2/jars/xbean-asm9-shaded-4.20.jar\n",
            "spark-3.2.1-bin-hadoop3.2/jars/xz-1.8.jar\n",
            "spark-3.2.1-bin-hadoop3.2/jars/zjsonpatch-0.3.0.jar\n",
            "spark-3.2.1-bin-hadoop3.2/jars/zookeeper-3.6.2.jar\n",
            "spark-3.2.1-bin-hadoop3.2/jars/zookeeper-jute-3.6.2.jar\n",
            "spark-3.2.1-bin-hadoop3.2/jars/zstd-jni-1.5.0-4.jar\n",
            "spark-3.2.1-bin-hadoop3.2/kubernetes/\n",
            "spark-3.2.1-bin-hadoop3.2/kubernetes/dockerfiles/\n",
            "spark-3.2.1-bin-hadoop3.2/kubernetes/dockerfiles/spark/\n",
            "spark-3.2.1-bin-hadoop3.2/kubernetes/dockerfiles/spark/Dockerfile\n",
            "spark-3.2.1-bin-hadoop3.2/kubernetes/dockerfiles/spark/bindings/\n",
            "spark-3.2.1-bin-hadoop3.2/kubernetes/dockerfiles/spark/bindings/R/\n",
            "spark-3.2.1-bin-hadoop3.2/kubernetes/dockerfiles/spark/bindings/R/Dockerfile\n",
            "spark-3.2.1-bin-hadoop3.2/kubernetes/dockerfiles/spark/bindings/python/\n",
            "spark-3.2.1-bin-hadoop3.2/kubernetes/dockerfiles/spark/bindings/python/Dockerfile\n",
            "spark-3.2.1-bin-hadoop3.2/kubernetes/dockerfiles/spark/decom.sh\n",
            "spark-3.2.1-bin-hadoop3.2/kubernetes/dockerfiles/spark/entrypoint.sh\n",
            "spark-3.2.1-bin-hadoop3.2/kubernetes/tests/\n",
            "spark-3.2.1-bin-hadoop3.2/kubernetes/tests/autoscale.py\n",
            "spark-3.2.1-bin-hadoop3.2/kubernetes/tests/decommissioning.py\n",
            "spark-3.2.1-bin-hadoop3.2/kubernetes/tests/decommissioning_cleanup.py\n",
            "spark-3.2.1-bin-hadoop3.2/kubernetes/tests/py_container_checks.py\n",
            "spark-3.2.1-bin-hadoop3.2/kubernetes/tests/pyfiles.py\n",
            "spark-3.2.1-bin-hadoop3.2/kubernetes/tests/python_executable_check.py\n",
            "spark-3.2.1-bin-hadoop3.2/kubernetes/tests/worker_memory_check.py\n",
            "spark-3.2.1-bin-hadoop3.2/licenses/\n",
            "spark-3.2.1-bin-hadoop3.2/licenses/LICENSE-AnchorJS.txt\n",
            "spark-3.2.1-bin-hadoop3.2/licenses/LICENSE-CC0.txt\n",
            "spark-3.2.1-bin-hadoop3.2/licenses/LICENSE-JLargeArrays.txt\n",
            "spark-3.2.1-bin-hadoop3.2/licenses/LICENSE-JTransforms.txt\n",
            "spark-3.2.1-bin-hadoop3.2/licenses/LICENSE-antlr.txt\n",
            "spark-3.2.1-bin-hadoop3.2/licenses/LICENSE-arpack.txt\n",
            "spark-3.2.1-bin-hadoop3.2/licenses/LICENSE-automaton.txt\n",
            "spark-3.2.1-bin-hadoop3.2/licenses/LICENSE-blas.txt\n",
            "spark-3.2.1-bin-hadoop3.2/licenses/LICENSE-bootstrap.txt\n",
            "spark-3.2.1-bin-hadoop3.2/licenses/LICENSE-cloudpickle.txt\n",
            "spark-3.2.1-bin-hadoop3.2/licenses/LICENSE-d3.min.js.txt\n",
            "spark-3.2.1-bin-hadoop3.2/licenses/LICENSE-dagre-d3.txt\n",
            "spark-3.2.1-bin-hadoop3.2/licenses/LICENSE-datatables.txt\n",
            "spark-3.2.1-bin-hadoop3.2/licenses/LICENSE-dnsjava.txt\n",
            "spark-3.2.1-bin-hadoop3.2/licenses/LICENSE-f2j.txt\n",
            "spark-3.2.1-bin-hadoop3.2/licenses/LICENSE-graphlib-dot.txt\n",
            "spark-3.2.1-bin-hadoop3.2/licenses/LICENSE-istack-commons-runtime.txt\n",
            "spark-3.2.1-bin-hadoop3.2/licenses/LICENSE-jakarta-annotation-api\n",
            "spark-3.2.1-bin-hadoop3.2/licenses/LICENSE-jakarta-ws-rs-api\n",
            "spark-3.2.1-bin-hadoop3.2/licenses/LICENSE-jakarta.activation-api.txt\n",
            "spark-3.2.1-bin-hadoop3.2/licenses/LICENSE-jakarta.xml.bind-api.txt\n",
            "spark-3.2.1-bin-hadoop3.2/licenses/LICENSE-janino.txt\n",
            "spark-3.2.1-bin-hadoop3.2/licenses/LICENSE-javassist.html\n",
            "spark-3.2.1-bin-hadoop3.2/licenses/LICENSE-javax-transaction-transaction-api.txt\n",
            "spark-3.2.1-bin-hadoop3.2/licenses/LICENSE-javolution.txt\n",
            "spark-3.2.1-bin-hadoop3.2/licenses/LICENSE-jaxb-runtime.txt\n",
            "spark-3.2.1-bin-hadoop3.2/licenses/LICENSE-jline.txt\n",
            "spark-3.2.1-bin-hadoop3.2/licenses/LICENSE-jodd.txt\n",
            "spark-3.2.1-bin-hadoop3.2/licenses/LICENSE-join.txt\n",
            "spark-3.2.1-bin-hadoop3.2/licenses/LICENSE-jquery.txt\n",
            "spark-3.2.1-bin-hadoop3.2/licenses/LICENSE-json-formatter.txt\n",
            "spark-3.2.1-bin-hadoop3.2/licenses/LICENSE-jsp-api.txt\n",
            "spark-3.2.1-bin-hadoop3.2/licenses/LICENSE-kryo.txt\n",
            "spark-3.2.1-bin-hadoop3.2/licenses/LICENSE-leveldbjni.txt\n",
            "spark-3.2.1-bin-hadoop3.2/licenses/LICENSE-machinist.txt\n",
            "spark-3.2.1-bin-hadoop3.2/licenses/LICENSE-matchMedia-polyfill.txt\n",
            "spark-3.2.1-bin-hadoop3.2/licenses/LICENSE-minlog.txt\n",
            "spark-3.2.1-bin-hadoop3.2/licenses/LICENSE-modernizr.txt\n",
            "spark-3.2.1-bin-hadoop3.2/licenses/LICENSE-mustache.txt\n",
            "spark-3.2.1-bin-hadoop3.2/licenses/LICENSE-netlib.txt\n",
            "spark-3.2.1-bin-hadoop3.2/licenses/LICENSE-paranamer.txt\n",
            "spark-3.2.1-bin-hadoop3.2/licenses/LICENSE-pmml-model.txt\n",
            "spark-3.2.1-bin-hadoop3.2/licenses/LICENSE-protobuf.txt\n",
            "spark-3.2.1-bin-hadoop3.2/licenses/LICENSE-py4j.txt\n",
            "spark-3.2.1-bin-hadoop3.2/licenses/LICENSE-pyrolite.txt\n",
            "spark-3.2.1-bin-hadoop3.2/licenses/LICENSE-re2j.txt\n",
            "spark-3.2.1-bin-hadoop3.2/licenses/LICENSE-reflectasm.txt\n",
            "spark-3.2.1-bin-hadoop3.2/licenses/LICENSE-respond.txt\n",
            "spark-3.2.1-bin-hadoop3.2/licenses/LICENSE-sbt-launch-lib.txt\n",
            "spark-3.2.1-bin-hadoop3.2/licenses/LICENSE-scala.txt\n",
            "spark-3.2.1-bin-hadoop3.2/licenses/LICENSE-scopt.txt\n",
            "spark-3.2.1-bin-hadoop3.2/licenses/LICENSE-slf4j.txt\n",
            "spark-3.2.1-bin-hadoop3.2/licenses/LICENSE-sorttable.js.txt\n",
            "spark-3.2.1-bin-hadoop3.2/licenses/LICENSE-spire.txt\n",
            "spark-3.2.1-bin-hadoop3.2/licenses/LICENSE-vis-timeline.txt\n",
            "spark-3.2.1-bin-hadoop3.2/licenses/LICENSE-xmlenc.txt\n",
            "spark-3.2.1-bin-hadoop3.2/licenses/LICENSE-zstd-jni.txt\n",
            "spark-3.2.1-bin-hadoop3.2/licenses/LICENSE-zstd.txt\n",
            "spark-3.2.1-bin-hadoop3.2/python/\n",
            "spark-3.2.1-bin-hadoop3.2/python/.coveragerc\n",
            "spark-3.2.1-bin-hadoop3.2/python/.gitignore\n",
            "spark-3.2.1-bin-hadoop3.2/python/MANIFEST.in\n",
            "spark-3.2.1-bin-hadoop3.2/python/README.md\n",
            "spark-3.2.1-bin-hadoop3.2/python/dist/\n",
            "spark-3.2.1-bin-hadoop3.2/python/docs/\n",
            "spark-3.2.1-bin-hadoop3.2/python/docs/Makefile\n",
            "spark-3.2.1-bin-hadoop3.2/python/docs/make.bat\n",
            "spark-3.2.1-bin-hadoop3.2/python/docs/make2.bat\n",
            "spark-3.2.1-bin-hadoop3.2/python/docs/source/\n",
            "spark-3.2.1-bin-hadoop3.2/python/docs/source/_static/\n",
            "spark-3.2.1-bin-hadoop3.2/python/docs/source/_static/copybutton.js\n",
            "spark-3.2.1-bin-hadoop3.2/python/docs/source/_static/css/\n",
            "spark-3.2.1-bin-hadoop3.2/python/docs/source/_static/css/pyspark.css\n",
            "spark-3.2.1-bin-hadoop3.2/python/docs/source/_templates/\n",
            "spark-3.2.1-bin-hadoop3.2/python/docs/source/_templates/autosummary/\n",
            "spark-3.2.1-bin-hadoop3.2/python/docs/source/_templates/autosummary/class.rst\n",
            "spark-3.2.1-bin-hadoop3.2/python/docs/source/_templates/autosummary/class_with_docs.rst\n",
            "spark-3.2.1-bin-hadoop3.2/python/docs/source/conf.py\n",
            "spark-3.2.1-bin-hadoop3.2/python/docs/source/development/\n",
            "spark-3.2.1-bin-hadoop3.2/python/docs/source/development/contributing.rst\n",
            "spark-3.2.1-bin-hadoop3.2/python/docs/source/development/debugging.rst\n",
            "spark-3.2.1-bin-hadoop3.2/python/docs/source/development/index.rst\n",
            "spark-3.2.1-bin-hadoop3.2/python/docs/source/development/setting_ide.rst\n",
            "spark-3.2.1-bin-hadoop3.2/python/docs/source/development/testing.rst\n",
            "spark-3.2.1-bin-hadoop3.2/python/docs/source/getting_started/\n",
            "spark-3.2.1-bin-hadoop3.2/python/docs/source/getting_started/index.rst\n",
            "spark-3.2.1-bin-hadoop3.2/python/docs/source/getting_started/install.rst\n",
            "spark-3.2.1-bin-hadoop3.2/python/docs/source/getting_started/quickstart_df.ipynb\n",
            "spark-3.2.1-bin-hadoop3.2/python/docs/source/getting_started/quickstart_ps.ipynb\n",
            "spark-3.2.1-bin-hadoop3.2/python/docs/source/index.rst\n",
            "spark-3.2.1-bin-hadoop3.2/python/docs/source/migration_guide/\n",
            "spark-3.2.1-bin-hadoop3.2/python/docs/source/migration_guide/index.rst\n",
            "spark-3.2.1-bin-hadoop3.2/python/docs/source/migration_guide/koalas_to_pyspark.rst\n",
            "spark-3.2.1-bin-hadoop3.2/python/docs/source/migration_guide/pyspark_1.0_1.2_to_1.3.rst\n",
            "spark-3.2.1-bin-hadoop3.2/python/docs/source/migration_guide/pyspark_1.4_to_1.5.rst\n",
            "spark-3.2.1-bin-hadoop3.2/python/docs/source/migration_guide/pyspark_2.2_to_2.3.rst\n",
            "spark-3.2.1-bin-hadoop3.2/python/docs/source/migration_guide/pyspark_2.3.0_to_2.3.1_above.rst\n",
            "spark-3.2.1-bin-hadoop3.2/python/docs/source/migration_guide/pyspark_2.3_to_2.4.rst\n",
            "spark-3.2.1-bin-hadoop3.2/python/docs/source/migration_guide/pyspark_2.4_to_3.0.rst\n",
            "spark-3.2.1-bin-hadoop3.2/python/docs/source/migration_guide/pyspark_3.1_to_3.2.rst\n",
            "spark-3.2.1-bin-hadoop3.2/python/docs/source/reference/\n",
            "spark-3.2.1-bin-hadoop3.2/python/docs/source/reference/index.rst\n",
            "spark-3.2.1-bin-hadoop3.2/python/docs/source/reference/pyspark.ml.rst\n",
            "spark-3.2.1-bin-hadoop3.2/python/docs/source/reference/pyspark.mllib.rst\n",
            "spark-3.2.1-bin-hadoop3.2/python/docs/source/reference/pyspark.pandas/\n",
            "spark-3.2.1-bin-hadoop3.2/python/docs/source/reference/pyspark.pandas/extensions.rst\n",
            "spark-3.2.1-bin-hadoop3.2/python/docs/source/reference/pyspark.pandas/frame.rst\n",
            "spark-3.2.1-bin-hadoop3.2/python/docs/source/reference/pyspark.pandas/general_functions.rst\n",
            "spark-3.2.1-bin-hadoop3.2/python/docs/source/reference/pyspark.pandas/groupby.rst\n",
            "spark-3.2.1-bin-hadoop3.2/python/docs/source/reference/pyspark.pandas/index.rst\n",
            "spark-3.2.1-bin-hadoop3.2/python/docs/source/reference/pyspark.pandas/indexing.rst\n",
            "spark-3.2.1-bin-hadoop3.2/python/docs/source/reference/pyspark.pandas/io.rst\n",
            "spark-3.2.1-bin-hadoop3.2/python/docs/source/reference/pyspark.pandas/ml.rst\n",
            "spark-3.2.1-bin-hadoop3.2/python/docs/source/reference/pyspark.pandas/series.rst\n",
            "spark-3.2.1-bin-hadoop3.2/python/docs/source/reference/pyspark.pandas/window.rst\n",
            "spark-3.2.1-bin-hadoop3.2/python/docs/source/reference/pyspark.resource.rst\n",
            "spark-3.2.1-bin-hadoop3.2/python/docs/source/reference/pyspark.rst\n",
            "spark-3.2.1-bin-hadoop3.2/python/docs/source/reference/pyspark.sql.rst\n",
            "spark-3.2.1-bin-hadoop3.2/python/docs/source/reference/pyspark.ss.rst\n",
            "spark-3.2.1-bin-hadoop3.2/python/docs/source/reference/pyspark.streaming.rst\n",
            "spark-3.2.1-bin-hadoop3.2/python/docs/source/user_guide/\n",
            "spark-3.2.1-bin-hadoop3.2/python/docs/source/user_guide/arrow_pandas.rst\n",
            "spark-3.2.1-bin-hadoop3.2/python/docs/source/user_guide/index.rst\n",
            "spark-3.2.1-bin-hadoop3.2/python/docs/source/user_guide/pandas_on_spark/\n",
            "spark-3.2.1-bin-hadoop3.2/python/docs/source/user_guide/pandas_on_spark/best_practices.rst\n",
            "spark-3.2.1-bin-hadoop3.2/python/docs/source/user_guide/pandas_on_spark/faq.rst\n",
            "spark-3.2.1-bin-hadoop3.2/python/docs/source/user_guide/pandas_on_spark/from_to_dbms.rst\n",
            "spark-3.2.1-bin-hadoop3.2/python/docs/source/user_guide/pandas_on_spark/index.rst\n",
            "spark-3.2.1-bin-hadoop3.2/python/docs/source/user_guide/pandas_on_spark/options.rst\n",
            "spark-3.2.1-bin-hadoop3.2/python/docs/source/user_guide/pandas_on_spark/pandas_pyspark.rst\n",
            "spark-3.2.1-bin-hadoop3.2/python/docs/source/user_guide/pandas_on_spark/transform_apply.rst\n",
            "spark-3.2.1-bin-hadoop3.2/python/docs/source/user_guide/pandas_on_spark/typehints.rst\n",
            "spark-3.2.1-bin-hadoop3.2/python/docs/source/user_guide/pandas_on_spark/types.rst\n",
            "spark-3.2.1-bin-hadoop3.2/python/docs/source/user_guide/python_packaging.rst\n",
            "spark-3.2.1-bin-hadoop3.2/python/docs/source/user_guide/sql/\n",
            "spark-3.2.1-bin-hadoop3.2/python/docs/source/user_guide/sql/arrow_pandas.rst\n",
            "spark-3.2.1-bin-hadoop3.2/python/docs/source/user_guide/sql/index.rst\n",
            "spark-3.2.1-bin-hadoop3.2/python/lib/\n",
            "spark-3.2.1-bin-hadoop3.2/python/lib/PY4J_LICENSE.txt\n",
            "spark-3.2.1-bin-hadoop3.2/python/lib/py4j-0.10.9.3-src.zip\n",
            "spark-3.2.1-bin-hadoop3.2/python/lib/pyspark.zip\n",
            "spark-3.2.1-bin-hadoop3.2/python/mypy.ini\n",
            "spark-3.2.1-bin-hadoop3.2/python/pylintrc\n",
            "spark-3.2.1-bin-hadoop3.2/python/pyspark/\n",
            "spark-3.2.1-bin-hadoop3.2/python/pyspark/__init__.py\n",
            "spark-3.2.1-bin-hadoop3.2/python/pyspark/__init__.pyi\n",
            "spark-3.2.1-bin-hadoop3.2/python/pyspark/__pycache__/\n",
            "spark-3.2.1-bin-hadoop3.2/python/pyspark/__pycache__/install.cpython-38.pyc\n",
            "spark-3.2.1-bin-hadoop3.2/python/pyspark/_globals.py\n",
            "spark-3.2.1-bin-hadoop3.2/python/pyspark/_typing.pyi\n",
            "spark-3.2.1-bin-hadoop3.2/python/pyspark/accumulators.py\n",
            "spark-3.2.1-bin-hadoop3.2/python/pyspark/accumulators.pyi\n",
            "spark-3.2.1-bin-hadoop3.2/python/pyspark/broadcast.py\n",
            "spark-3.2.1-bin-hadoop3.2/python/pyspark/broadcast.pyi\n",
            "spark-3.2.1-bin-hadoop3.2/python/pyspark/cloudpickle/\n",
            "spark-3.2.1-bin-hadoop3.2/python/pyspark/cloudpickle/__init__.py\n",
            "spark-3.2.1-bin-hadoop3.2/python/pyspark/cloudpickle/cloudpickle.py\n",
            "spark-3.2.1-bin-hadoop3.2/python/pyspark/cloudpickle/cloudpickle_fast.py\n",
            "spark-3.2.1-bin-hadoop3.2/python/pyspark/cloudpickle/compat.py\n",
            "spark-3.2.1-bin-hadoop3.2/python/pyspark/conf.py\n",
            "spark-3.2.1-bin-hadoop3.2/python/pyspark/conf.pyi\n",
            "spark-3.2.1-bin-hadoop3.2/python/pyspark/context.py\n",
            "spark-3.2.1-bin-hadoop3.2/python/pyspark/context.pyi\n",
            "spark-3.2.1-bin-hadoop3.2/python/pyspark/daemon.py\n",
            "spark-3.2.1-bin-hadoop3.2/python/pyspark/files.py\n",
            "spark-3.2.1-bin-hadoop3.2/python/pyspark/files.pyi\n",
            "spark-3.2.1-bin-hadoop3.2/python/pyspark/find_spark_home.py\n",
            "spark-3.2.1-bin-hadoop3.2/python/pyspark/install.py\n",
            "spark-3.2.1-bin-hadoop3.2/python/pyspark/java_gateway.py\n",
            "spark-3.2.1-bin-hadoop3.2/python/pyspark/join.py\n",
            "spark-3.2.1-bin-hadoop3.2/python/pyspark/ml/\n",
            "spark-3.2.1-bin-hadoop3.2/python/pyspark/ml/__init__.py\n",
            "spark-3.2.1-bin-hadoop3.2/python/pyspark/ml/_typing.pyi\n",
            "spark-3.2.1-bin-hadoop3.2/python/pyspark/ml/base.py\n",
            "spark-3.2.1-bin-hadoop3.2/python/pyspark/ml/base.pyi\n",
            "spark-3.2.1-bin-hadoop3.2/python/pyspark/ml/classification.py\n",
            "spark-3.2.1-bin-hadoop3.2/python/pyspark/ml/classification.pyi\n",
            "spark-3.2.1-bin-hadoop3.2/python/pyspark/ml/clustering.py\n",
            "spark-3.2.1-bin-hadoop3.2/python/pyspark/ml/clustering.pyi\n",
            "spark-3.2.1-bin-hadoop3.2/python/pyspark/ml/common.py\n",
            "spark-3.2.1-bin-hadoop3.2/python/pyspark/ml/common.pyi\n",
            "spark-3.2.1-bin-hadoop3.2/python/pyspark/ml/evaluation.py\n",
            "spark-3.2.1-bin-hadoop3.2/python/pyspark/ml/evaluation.pyi\n",
            "spark-3.2.1-bin-hadoop3.2/python/pyspark/ml/feature.py\n",
            "spark-3.2.1-bin-hadoop3.2/python/pyspark/ml/feature.pyi\n",
            "spark-3.2.1-bin-hadoop3.2/python/pyspark/ml/fpm.py\n",
            "spark-3.2.1-bin-hadoop3.2/python/pyspark/ml/fpm.pyi\n",
            "spark-3.2.1-bin-hadoop3.2/python/pyspark/ml/functions.py\n",
            "spark-3.2.1-bin-hadoop3.2/python/pyspark/ml/functions.pyi\n",
            "spark-3.2.1-bin-hadoop3.2/python/pyspark/ml/image.py\n",
            "spark-3.2.1-bin-hadoop3.2/python/pyspark/ml/image.pyi\n",
            "spark-3.2.1-bin-hadoop3.2/python/pyspark/ml/linalg/\n",
            "spark-3.2.1-bin-hadoop3.2/python/pyspark/ml/linalg/__init__.py\n",
            "spark-3.2.1-bin-hadoop3.2/python/pyspark/ml/linalg/__init__.pyi\n",
            "spark-3.2.1-bin-hadoop3.2/python/pyspark/ml/param/\n",
            "spark-3.2.1-bin-hadoop3.2/python/pyspark/ml/param/__init__.py\n",
            "spark-3.2.1-bin-hadoop3.2/python/pyspark/ml/param/__init__.pyi\n",
            "spark-3.2.1-bin-hadoop3.2/python/pyspark/ml/param/_shared_params_code_gen.py\n",
            "spark-3.2.1-bin-hadoop3.2/python/pyspark/ml/param/_shared_params_code_gen.pyi\n",
            "spark-3.2.1-bin-hadoop3.2/python/pyspark/ml/param/shared.py\n",
            "spark-3.2.1-bin-hadoop3.2/python/pyspark/ml/param/shared.pyi\n",
            "spark-3.2.1-bin-hadoop3.2/python/pyspark/ml/pipeline.py\n",
            "spark-3.2.1-bin-hadoop3.2/python/pyspark/ml/pipeline.pyi\n",
            "spark-3.2.1-bin-hadoop3.2/python/pyspark/ml/recommendation.py\n",
            "spark-3.2.1-bin-hadoop3.2/python/pyspark/ml/recommendation.pyi\n",
            "spark-3.2.1-bin-hadoop3.2/python/pyspark/ml/regression.py\n",
            "spark-3.2.1-bin-hadoop3.2/python/pyspark/ml/regression.pyi\n",
            "spark-3.2.1-bin-hadoop3.2/python/pyspark/ml/stat.py\n",
            "spark-3.2.1-bin-hadoop3.2/python/pyspark/ml/stat.pyi\n",
            "spark-3.2.1-bin-hadoop3.2/python/pyspark/ml/tests/\n",
            "spark-3.2.1-bin-hadoop3.2/python/pyspark/ml/tests/__init__.py\n",
            "spark-3.2.1-bin-hadoop3.2/python/pyspark/ml/tests/test_algorithms.py\n",
            "spark-3.2.1-bin-hadoop3.2/python/pyspark/ml/tests/test_base.py\n",
            "spark-3.2.1-bin-hadoop3.2/python/pyspark/ml/tests/test_evaluation.py\n",
            "spark-3.2.1-bin-hadoop3.2/python/pyspark/ml/tests/test_feature.py\n",
            "spark-3.2.1-bin-hadoop3.2/python/pyspark/ml/tests/test_image.py\n",
            "spark-3.2.1-bin-hadoop3.2/python/pyspark/ml/tests/test_linalg.py\n",
            "spark-3.2.1-bin-hadoop3.2/python/pyspark/ml/tests/test_param.py\n",
            "spark-3.2.1-bin-hadoop3.2/python/pyspark/ml/tests/test_persistence.py\n",
            "spark-3.2.1-bin-hadoop3.2/python/pyspark/ml/tests/test_pipeline.py\n",
            "spark-3.2.1-bin-hadoop3.2/python/pyspark/ml/tests/test_stat.py\n",
            "spark-3.2.1-bin-hadoop3.2/python/pyspark/ml/tests/test_training_summary.py\n",
            "spark-3.2.1-bin-hadoop3.2/python/pyspark/ml/tests/test_tuning.py\n",
            "spark-3.2.1-bin-hadoop3.2/python/pyspark/ml/tests/test_util.py\n",
            "spark-3.2.1-bin-hadoop3.2/python/pyspark/ml/tests/test_wrapper.py\n",
            "spark-3.2.1-bin-hadoop3.2/python/pyspark/ml/tree.py\n",
            "spark-3.2.1-bin-hadoop3.2/python/pyspark/ml/tree.pyi\n",
            "spark-3.2.1-bin-hadoop3.2/python/pyspark/ml/tuning.py\n",
            "spark-3.2.1-bin-hadoop3.2/python/pyspark/ml/tuning.pyi\n",
            "spark-3.2.1-bin-hadoop3.2/python/pyspark/ml/util.py\n",
            "spark-3.2.1-bin-hadoop3.2/python/pyspark/ml/util.pyi\n",
            "spark-3.2.1-bin-hadoop3.2/python/pyspark/ml/wrapper.py\n",
            "spark-3.2.1-bin-hadoop3.2/python/pyspark/ml/wrapper.pyi\n",
            "spark-3.2.1-bin-hadoop3.2/python/pyspark/mllib/\n",
            "spark-3.2.1-bin-hadoop3.2/python/pyspark/mllib/__init__.py\n",
            "spark-3.2.1-bin-hadoop3.2/python/pyspark/mllib/_typing.pyi\n",
            "spark-3.2.1-bin-hadoop3.2/python/pyspark/mllib/classification.py\n",
            "spark-3.2.1-bin-hadoop3.2/python/pyspark/mllib/classification.pyi\n",
            "spark-3.2.1-bin-hadoop3.2/python/pyspark/mllib/clustering.py\n",
            "spark-3.2.1-bin-hadoop3.2/python/pyspark/mllib/clustering.pyi\n",
            "spark-3.2.1-bin-hadoop3.2/python/pyspark/mllib/common.py\n",
            "spark-3.2.1-bin-hadoop3.2/python/pyspark/mllib/common.pyi\n",
            "spark-3.2.1-bin-hadoop3.2/python/pyspark/mllib/evaluation.py\n",
            "spark-3.2.1-bin-hadoop3.2/python/pyspark/mllib/evaluation.pyi\n",
            "spark-3.2.1-bin-hadoop3.2/python/pyspark/mllib/feature.py\n",
            "spark-3.2.1-bin-hadoop3.2/python/pyspark/mllib/feature.pyi\n",
            "spark-3.2.1-bin-hadoop3.2/python/pyspark/mllib/fpm.py\n",
            "spark-3.2.1-bin-hadoop3.2/python/pyspark/mllib/fpm.pyi\n",
            "spark-3.2.1-bin-hadoop3.2/python/pyspark/mllib/linalg/\n",
            "spark-3.2.1-bin-hadoop3.2/python/pyspark/mllib/linalg/__init__.py\n",
            "spark-3.2.1-bin-hadoop3.2/python/pyspark/mllib/linalg/__init__.pyi\n",
            "spark-3.2.1-bin-hadoop3.2/python/pyspark/mllib/linalg/distributed.py\n",
            "spark-3.2.1-bin-hadoop3.2/python/pyspark/mllib/linalg/distributed.pyi\n",
            "spark-3.2.1-bin-hadoop3.2/python/pyspark/mllib/random.py\n",
            "spark-3.2.1-bin-hadoop3.2/python/pyspark/mllib/random.pyi\n",
            "spark-3.2.1-bin-hadoop3.2/python/pyspark/mllib/recommendation.py\n",
            "spark-3.2.1-bin-hadoop3.2/python/pyspark/mllib/recommendation.pyi\n",
            "spark-3.2.1-bin-hadoop3.2/python/pyspark/mllib/regression.py\n",
            "spark-3.2.1-bin-hadoop3.2/python/pyspark/mllib/regression.pyi\n",
            "spark-3.2.1-bin-hadoop3.2/python/pyspark/mllib/stat/\n",
            "spark-3.2.1-bin-hadoop3.2/python/pyspark/mllib/stat/KernelDensity.py\n",
            "spark-3.2.1-bin-hadoop3.2/python/pyspark/mllib/stat/KernelDensity.pyi\n",
            "spark-3.2.1-bin-hadoop3.2/python/pyspark/mllib/stat/__init__.py\n",
            "spark-3.2.1-bin-hadoop3.2/python/pyspark/mllib/stat/__init__.pyi\n",
            "spark-3.2.1-bin-hadoop3.2/python/pyspark/mllib/stat/_statistics.py\n",
            "spark-3.2.1-bin-hadoop3.2/python/pyspark/mllib/stat/_statistics.pyi\n",
            "spark-3.2.1-bin-hadoop3.2/python/pyspark/mllib/stat/distribution.py\n",
            "spark-3.2.1-bin-hadoop3.2/python/pyspark/mllib/stat/distribution.pyi\n",
            "spark-3.2.1-bin-hadoop3.2/python/pyspark/mllib/stat/test.py\n",
            "spark-3.2.1-bin-hadoop3.2/python/pyspark/mllib/stat/test.pyi\n",
            "spark-3.2.1-bin-hadoop3.2/python/pyspark/mllib/tests/\n",
            "spark-3.2.1-bin-hadoop3.2/python/pyspark/mllib/tests/__init__.py\n",
            "spark-3.2.1-bin-hadoop3.2/python/pyspark/mllib/tests/test_algorithms.py\n",
            "spark-3.2.1-bin-hadoop3.2/python/pyspark/mllib/tests/test_feature.py\n",
            "spark-3.2.1-bin-hadoop3.2/python/pyspark/mllib/tests/test_linalg.py\n",
            "spark-3.2.1-bin-hadoop3.2/python/pyspark/mllib/tests/test_stat.py\n",
            "spark-3.2.1-bin-hadoop3.2/python/pyspark/mllib/tests/test_streaming_algorithms.py\n",
            "spark-3.2.1-bin-hadoop3.2/python/pyspark/mllib/tests/test_util.py\n",
            "spark-3.2.1-bin-hadoop3.2/python/pyspark/mllib/tree.py\n",
            "spark-3.2.1-bin-hadoop3.2/python/pyspark/mllib/tree.pyi\n",
            "spark-3.2.1-bin-hadoop3.2/python/pyspark/mllib/util.py\n",
            "spark-3.2.1-bin-hadoop3.2/python/pyspark/mllib/util.pyi\n",
            "spark-3.2.1-bin-hadoop3.2/python/pyspark/pandas/\n",
            "spark-3.2.1-bin-hadoop3.2/python/pyspark/pandas/__init__.py\n",
            "spark-3.2.1-bin-hadoop3.2/python/pyspark/pandas/_typing.py\n",
            "spark-3.2.1-bin-hadoop3.2/python/pyspark/pandas/accessors.py\n",
            "spark-3.2.1-bin-hadoop3.2/python/pyspark/pandas/base.py\n",
            "spark-3.2.1-bin-hadoop3.2/python/pyspark/pandas/categorical.py\n",
            "spark-3.2.1-bin-hadoop3.2/python/pyspark/pandas/config.py\n",
            "spark-3.2.1-bin-hadoop3.2/python/pyspark/pandas/data_type_ops/\n",
            "spark-3.2.1-bin-hadoop3.2/python/pyspark/pandas/data_type_ops/__init__.py\n",
            "spark-3.2.1-bin-hadoop3.2/python/pyspark/pandas/data_type_ops/base.py\n",
            "spark-3.2.1-bin-hadoop3.2/python/pyspark/pandas/data_type_ops/binary_ops.py\n",
            "spark-3.2.1-bin-hadoop3.2/python/pyspark/pandas/data_type_ops/boolean_ops.py\n",
            "spark-3.2.1-bin-hadoop3.2/python/pyspark/pandas/data_type_ops/categorical_ops.py\n",
            "spark-3.2.1-bin-hadoop3.2/python/pyspark/pandas/data_type_ops/complex_ops.py\n",
            "spark-3.2.1-bin-hadoop3.2/python/pyspark/pandas/data_type_ops/date_ops.py\n",
            "spark-3.2.1-bin-hadoop3.2/python/pyspark/pandas/data_type_ops/datetime_ops.py\n",
            "spark-3.2.1-bin-hadoop3.2/python/pyspark/pandas/data_type_ops/null_ops.py\n",
            "spark-3.2.1-bin-hadoop3.2/python/pyspark/pandas/data_type_ops/num_ops.py\n",
            "spark-3.2.1-bin-hadoop3.2/python/pyspark/pandas/data_type_ops/string_ops.py\n",
            "spark-3.2.1-bin-hadoop3.2/python/pyspark/pandas/data_type_ops/udt_ops.py\n",
            "spark-3.2.1-bin-hadoop3.2/python/pyspark/pandas/datetimes.py\n",
            "spark-3.2.1-bin-hadoop3.2/python/pyspark/pandas/exceptions.py\n",
            "spark-3.2.1-bin-hadoop3.2/python/pyspark/pandas/extensions.py\n",
            "spark-3.2.1-bin-hadoop3.2/python/pyspark/pandas/frame.py\n",
            "spark-3.2.1-bin-hadoop3.2/python/pyspark/pandas/generic.py\n",
            "spark-3.2.1-bin-hadoop3.2/python/pyspark/pandas/groupby.py\n",
            "spark-3.2.1-bin-hadoop3.2/python/pyspark/pandas/indexes/\n",
            "spark-3.2.1-bin-hadoop3.2/python/pyspark/pandas/indexes/__init__.py\n",
            "spark-3.2.1-bin-hadoop3.2/python/pyspark/pandas/indexes/base.py\n",
            "spark-3.2.1-bin-hadoop3.2/python/pyspark/pandas/indexes/category.py\n",
            "spark-3.2.1-bin-hadoop3.2/python/pyspark/pandas/indexes/datetimes.py\n",
            "spark-3.2.1-bin-hadoop3.2/python/pyspark/pandas/indexes/multi.py\n",
            "spark-3.2.1-bin-hadoop3.2/python/pyspark/pandas/indexes/numeric.py\n",
            "spark-3.2.1-bin-hadoop3.2/python/pyspark/pandas/indexing.py\n",
            "spark-3.2.1-bin-hadoop3.2/python/pyspark/pandas/internal.py\n",
            "spark-3.2.1-bin-hadoop3.2/python/pyspark/pandas/missing/\n",
            "spark-3.2.1-bin-hadoop3.2/python/pyspark/pandas/missing/__init__.py\n",
            "spark-3.2.1-bin-hadoop3.2/python/pyspark/pandas/missing/common.py\n",
            "spark-3.2.1-bin-hadoop3.2/python/pyspark/pandas/missing/frame.py\n",
            "spark-3.2.1-bin-hadoop3.2/python/pyspark/pandas/missing/groupby.py\n",
            "spark-3.2.1-bin-hadoop3.2/python/pyspark/pandas/missing/indexes.py\n",
            "spark-3.2.1-bin-hadoop3.2/python/pyspark/pandas/missing/series.py\n",
            "spark-3.2.1-bin-hadoop3.2/python/pyspark/pandas/missing/window.py\n",
            "spark-3.2.1-bin-hadoop3.2/python/pyspark/pandas/ml.py\n",
            "spark-3.2.1-bin-hadoop3.2/python/pyspark/pandas/mlflow.py\n",
            "spark-3.2.1-bin-hadoop3.2/python/pyspark/pandas/namespace.py\n",
            "spark-3.2.1-bin-hadoop3.2/python/pyspark/pandas/numpy_compat.py\n",
            "spark-3.2.1-bin-hadoop3.2/python/pyspark/pandas/plot/\n",
            "spark-3.2.1-bin-hadoop3.2/python/pyspark/pandas/plot/__init__.py\n",
            "spark-3.2.1-bin-hadoop3.2/python/pyspark/pandas/plot/core.py\n",
            "spark-3.2.1-bin-hadoop3.2/python/pyspark/pandas/plot/matplotlib.py\n",
            "spark-3.2.1-bin-hadoop3.2/python/pyspark/pandas/plot/plotly.py\n",
            "spark-3.2.1-bin-hadoop3.2/python/pyspark/pandas/series.py\n",
            "spark-3.2.1-bin-hadoop3.2/python/pyspark/pandas/spark/\n",
            "spark-3.2.1-bin-hadoop3.2/python/pyspark/pandas/spark/__init__.py\n",
            "spark-3.2.1-bin-hadoop3.2/python/pyspark/pandas/spark/accessors.py\n",
            "spark-3.2.1-bin-hadoop3.2/python/pyspark/pandas/spark/functions.py\n",
            "spark-3.2.1-bin-hadoop3.2/python/pyspark/pandas/spark/utils.py\n",
            "spark-3.2.1-bin-hadoop3.2/python/pyspark/pandas/sql_processor.py\n",
            "spark-3.2.1-bin-hadoop3.2/python/pyspark/pandas/strings.py\n",
            "spark-3.2.1-bin-hadoop3.2/python/pyspark/pandas/tests/\n",
            "spark-3.2.1-bin-hadoop3.2/python/pyspark/pandas/tests/__init__.py\n",
            "spark-3.2.1-bin-hadoop3.2/python/pyspark/pandas/tests/data_type_ops/\n",
            "spark-3.2.1-bin-hadoop3.2/python/pyspark/pandas/tests/data_type_ops/__init__.py\n",
            "spark-3.2.1-bin-hadoop3.2/python/pyspark/pandas/tests/data_type_ops/test_base.py\n",
            "spark-3.2.1-bin-hadoop3.2/python/pyspark/pandas/tests/data_type_ops/test_binary_ops.py\n",
            "spark-3.2.1-bin-hadoop3.2/python/pyspark/pandas/tests/data_type_ops/test_boolean_ops.py\n",
            "spark-3.2.1-bin-hadoop3.2/python/pyspark/pandas/tests/data_type_ops/test_categorical_ops.py\n",
            "spark-3.2.1-bin-hadoop3.2/python/pyspark/pandas/tests/data_type_ops/test_complex_ops.py\n",
            "spark-3.2.1-bin-hadoop3.2/python/pyspark/pandas/tests/data_type_ops/test_date_ops.py\n",
            "spark-3.2.1-bin-hadoop3.2/python/pyspark/pandas/tests/data_type_ops/test_datetime_ops.py\n",
            "spark-3.2.1-bin-hadoop3.2/python/pyspark/pandas/tests/data_type_ops/test_null_ops.py\n",
            "spark-3.2.1-bin-hadoop3.2/python/pyspark/pandas/tests/data_type_ops/test_num_ops.py\n",
            "spark-3.2.1-bin-hadoop3.2/python/pyspark/pandas/tests/data_type_ops/test_string_ops.py\n",
            "spark-3.2.1-bin-hadoop3.2/python/pyspark/pandas/tests/data_type_ops/test_udt_ops.py\n",
            "spark-3.2.1-bin-hadoop3.2/python/pyspark/pandas/tests/data_type_ops/testing_utils.py\n",
            "spark-3.2.1-bin-hadoop3.2/python/pyspark/pandas/tests/indexes/\n",
            "spark-3.2.1-bin-hadoop3.2/python/pyspark/pandas/tests/indexes/__init__.py\n",
            "spark-3.2.1-bin-hadoop3.2/python/pyspark/pandas/tests/indexes/test_base.py\n",
            "spark-3.2.1-bin-hadoop3.2/python/pyspark/pandas/tests/indexes/test_category.py\n",
            "spark-3.2.1-bin-hadoop3.2/python/pyspark/pandas/tests/indexes/test_datetime.py\n",
            "spark-3.2.1-bin-hadoop3.2/python/pyspark/pandas/tests/plot/\n",
            "spark-3.2.1-bin-hadoop3.2/python/pyspark/pandas/tests/plot/__init__.py\n",
            "spark-3.2.1-bin-hadoop3.2/python/pyspark/pandas/tests/plot/test_frame_plot.py\n",
            "spark-3.2.1-bin-hadoop3.2/python/pyspark/pandas/tests/plot/test_frame_plot_matplotlib.py\n",
            "spark-3.2.1-bin-hadoop3.2/python/pyspark/pandas/tests/plot/test_frame_plot_plotly.py\n",
            "spark-3.2.1-bin-hadoop3.2/python/pyspark/pandas/tests/plot/test_series_plot.py\n",
            "spark-3.2.1-bin-hadoop3.2/python/pyspark/pandas/tests/plot/test_series_plot_matplotlib.py\n",
            "spark-3.2.1-bin-hadoop3.2/python/pyspark/pandas/tests/plot/test_series_plot_plotly.py\n",
            "spark-3.2.1-bin-hadoop3.2/python/pyspark/pandas/tests/test_categorical.py\n",
            "spark-3.2.1-bin-hadoop3.2/python/pyspark/pandas/tests/test_config.py\n",
            "spark-3.2.1-bin-hadoop3.2/python/pyspark/pandas/tests/test_csv.py\n",
            "spark-3.2.1-bin-hadoop3.2/python/pyspark/pandas/tests/test_dataframe.py\n",
            "spark-3.2.1-bin-hadoop3.2/python/pyspark/pandas/tests/test_dataframe_conversion.py\n",
            "spark-3.2.1-bin-hadoop3.2/python/pyspark/pandas/tests/test_dataframe_spark_io.py\n",
            "spark-3.2.1-bin-hadoop3.2/python/pyspark/pandas/tests/test_default_index.py\n",
            "spark-3.2.1-bin-hadoop3.2/python/pyspark/pandas/tests/test_expanding.py\n",
            "spark-3.2.1-bin-hadoop3.2/python/pyspark/pandas/tests/test_extension.py\n",
            "spark-3.2.1-bin-hadoop3.2/python/pyspark/pandas/tests/test_frame_spark.py\n",
            "spark-3.2.1-bin-hadoop3.2/python/pyspark/pandas/tests/test_groupby.py\n",
            "spark-3.2.1-bin-hadoop3.2/python/pyspark/pandas/tests/test_indexing.py\n",
            "spark-3.2.1-bin-hadoop3.2/python/pyspark/pandas/tests/test_indexops_spark.py\n",
            "spark-3.2.1-bin-hadoop3.2/python/pyspark/pandas/tests/test_internal.py\n",
            "spark-3.2.1-bin-hadoop3.2/python/pyspark/pandas/tests/test_namespace.py\n",
            "spark-3.2.1-bin-hadoop3.2/python/pyspark/pandas/tests/test_numpy_compat.py\n",
            "spark-3.2.1-bin-hadoop3.2/python/pyspark/pandas/tests/test_ops_on_diff_frames.py\n",
            "spark-3.2.1-bin-hadoop3.2/python/pyspark/pandas/tests/test_ops_on_diff_frames_groupby.py\n",
            "spark-3.2.1-bin-hadoop3.2/python/pyspark/pandas/tests/test_ops_on_diff_frames_groupby_expanding.py\n",
            "spark-3.2.1-bin-hadoop3.2/python/pyspark/pandas/tests/test_ops_on_diff_frames_groupby_rolling.py\n",
            "spark-3.2.1-bin-hadoop3.2/python/pyspark/pandas/tests/test_repr.py\n",
            "spark-3.2.1-bin-hadoop3.2/python/pyspark/pandas/tests/test_reshape.py\n",
            "spark-3.2.1-bin-hadoop3.2/python/pyspark/pandas/tests/test_rolling.py\n",
            "spark-3.2.1-bin-hadoop3.2/python/pyspark/pandas/tests/test_series.py\n",
            "spark-3.2.1-bin-hadoop3.2/python/pyspark/pandas/tests/test_series_conversion.py\n",
            "spark-3.2.1-bin-hadoop3.2/python/pyspark/pandas/tests/test_series_datetime.py\n",
            "spark-3.2.1-bin-hadoop3.2/python/pyspark/pandas/tests/test_series_string.py\n",
            "spark-3.2.1-bin-hadoop3.2/python/pyspark/pandas/tests/test_spark_functions.py\n",
            "spark-3.2.1-bin-hadoop3.2/python/pyspark/pandas/tests/test_sql.py\n",
            "spark-3.2.1-bin-hadoop3.2/python/pyspark/pandas/tests/test_stats.py\n",
            "spark-3.2.1-bin-hadoop3.2/python/pyspark/pandas/tests/test_typedef.py\n",
            "spark-3.2.1-bin-hadoop3.2/python/pyspark/pandas/tests/test_utils.py\n",
            "spark-3.2.1-bin-hadoop3.2/python/pyspark/pandas/tests/test_window.py\n",
            "spark-3.2.1-bin-hadoop3.2/python/pyspark/pandas/typedef/\n",
            "spark-3.2.1-bin-hadoop3.2/python/pyspark/pandas/typedef/__init__.py\n",
            "spark-3.2.1-bin-hadoop3.2/python/pyspark/pandas/typedef/string_typehints.py\n",
            "spark-3.2.1-bin-hadoop3.2/python/pyspark/pandas/typedef/typehints.py\n",
            "spark-3.2.1-bin-hadoop3.2/python/pyspark/pandas/usage_logging/\n",
            "spark-3.2.1-bin-hadoop3.2/python/pyspark/pandas/usage_logging/__init__.py\n",
            "spark-3.2.1-bin-hadoop3.2/python/pyspark/pandas/usage_logging/usage_logger.py\n",
            "spark-3.2.1-bin-hadoop3.2/python/pyspark/pandas/utils.py\n",
            "spark-3.2.1-bin-hadoop3.2/python/pyspark/pandas/window.py\n",
            "spark-3.2.1-bin-hadoop3.2/python/pyspark/profiler.py\n",
            "spark-3.2.1-bin-hadoop3.2/python/pyspark/profiler.pyi\n",
            "spark-3.2.1-bin-hadoop3.2/python/pyspark/py.typed\n",
            "spark-3.2.1-bin-hadoop3.2/python/pyspark/python/\n",
            "spark-3.2.1-bin-hadoop3.2/python/pyspark/python/pyspark/\n",
            "spark-3.2.1-bin-hadoop3.2/python/pyspark/python/pyspark/shell.py\n",
            "spark-3.2.1-bin-hadoop3.2/python/pyspark/rdd.py\n",
            "spark-3.2.1-bin-hadoop3.2/python/pyspark/rdd.pyi\n",
            "spark-3.2.1-bin-hadoop3.2/python/pyspark/rddsampler.py\n",
            "spark-3.2.1-bin-hadoop3.2/python/pyspark/resource/\n",
            "spark-3.2.1-bin-hadoop3.2/python/pyspark/resource/__init__.py\n",
            "spark-3.2.1-bin-hadoop3.2/python/pyspark/resource/information.py\n",
            "spark-3.2.1-bin-hadoop3.2/python/pyspark/resource/information.pyi\n",
            "spark-3.2.1-bin-hadoop3.2/python/pyspark/resource/profile.py\n",
            "spark-3.2.1-bin-hadoop3.2/python/pyspark/resource/profile.pyi\n",
            "spark-3.2.1-bin-hadoop3.2/python/pyspark/resource/requests.py\n",
            "spark-3.2.1-bin-hadoop3.2/python/pyspark/resource/requests.pyi\n",
            "spark-3.2.1-bin-hadoop3.2/python/pyspark/resource/tests/\n",
            "spark-3.2.1-bin-hadoop3.2/python/pyspark/resource/tests/__init__.py\n",
            "spark-3.2.1-bin-hadoop3.2/python/pyspark/resource/tests/test_resources.py\n",
            "spark-3.2.1-bin-hadoop3.2/python/pyspark/resultiterable.py\n",
            "spark-3.2.1-bin-hadoop3.2/python/pyspark/resultiterable.pyi\n",
            "spark-3.2.1-bin-hadoop3.2/python/pyspark/serializers.py\n",
            "spark-3.2.1-bin-hadoop3.2/python/pyspark/shell.py\n",
            "spark-3.2.1-bin-hadoop3.2/python/pyspark/shuffle.py\n",
            "spark-3.2.1-bin-hadoop3.2/python/pyspark/sql/\n",
            "spark-3.2.1-bin-hadoop3.2/python/pyspark/sql/__init__.py\n",
            "spark-3.2.1-bin-hadoop3.2/python/pyspark/sql/__init__.pyi\n",
            "spark-3.2.1-bin-hadoop3.2/python/pyspark/sql/_typing.pyi\n",
            "spark-3.2.1-bin-hadoop3.2/python/pyspark/sql/avro/\n",
            "spark-3.2.1-bin-hadoop3.2/python/pyspark/sql/avro/__init__.py\n",
            "spark-3.2.1-bin-hadoop3.2/python/pyspark/sql/avro/functions.py\n",
            "spark-3.2.1-bin-hadoop3.2/python/pyspark/sql/avro/functions.pyi\n",
            "spark-3.2.1-bin-hadoop3.2/python/pyspark/sql/catalog.py\n",
            "spark-3.2.1-bin-hadoop3.2/python/pyspark/sql/catalog.pyi\n",
            "spark-3.2.1-bin-hadoop3.2/python/pyspark/sql/column.py\n",
            "spark-3.2.1-bin-hadoop3.2/python/pyspark/sql/column.pyi\n",
            "spark-3.2.1-bin-hadoop3.2/python/pyspark/sql/conf.py\n",
            "spark-3.2.1-bin-hadoop3.2/python/pyspark/sql/conf.pyi\n",
            "spark-3.2.1-bin-hadoop3.2/python/pyspark/sql/context.py\n",
            "spark-3.2.1-bin-hadoop3.2/python/pyspark/sql/context.pyi\n",
            "spark-3.2.1-bin-hadoop3.2/python/pyspark/sql/dataframe.py\n",
            "spark-3.2.1-bin-hadoop3.2/python/pyspark/sql/dataframe.pyi\n",
            "spark-3.2.1-bin-hadoop3.2/python/pyspark/sql/functions.py\n",
            "spark-3.2.1-bin-hadoop3.2/python/pyspark/sql/functions.pyi\n",
            "spark-3.2.1-bin-hadoop3.2/python/pyspark/sql/group.py\n",
            "spark-3.2.1-bin-hadoop3.2/python/pyspark/sql/group.pyi\n",
            "spark-3.2.1-bin-hadoop3.2/python/pyspark/sql/pandas/\n",
            "spark-3.2.1-bin-hadoop3.2/python/pyspark/sql/pandas/__init__.py\n",
            "spark-3.2.1-bin-hadoop3.2/python/pyspark/sql/pandas/_typing/\n",
            "spark-3.2.1-bin-hadoop3.2/python/pyspark/sql/pandas/_typing/__init__.pyi\n",
            "spark-3.2.1-bin-hadoop3.2/python/pyspark/sql/pandas/_typing/protocols/\n",
            "spark-3.2.1-bin-hadoop3.2/python/pyspark/sql/pandas/_typing/protocols/__init__.pyi\n",
            "spark-3.2.1-bin-hadoop3.2/python/pyspark/sql/pandas/_typing/protocols/frame.pyi\n",
            "spark-3.2.1-bin-hadoop3.2/python/pyspark/sql/pandas/_typing/protocols/series.pyi\n",
            "spark-3.2.1-bin-hadoop3.2/python/pyspark/sql/pandas/conversion.py\n",
            "spark-3.2.1-bin-hadoop3.2/python/pyspark/sql/pandas/conversion.pyi\n",
            "spark-3.2.1-bin-hadoop3.2/python/pyspark/sql/pandas/functions.py\n",
            "spark-3.2.1-bin-hadoop3.2/python/pyspark/sql/pandas/functions.pyi\n",
            "spark-3.2.1-bin-hadoop3.2/python/pyspark/sql/pandas/group_ops.py\n",
            "spark-3.2.1-bin-hadoop3.2/python/pyspark/sql/pandas/group_ops.pyi\n",
            "spark-3.2.1-bin-hadoop3.2/python/pyspark/sql/pandas/map_ops.py\n",
            "spark-3.2.1-bin-hadoop3.2/python/pyspark/sql/pandas/map_ops.pyi\n",
            "spark-3.2.1-bin-hadoop3.2/python/pyspark/sql/pandas/serializers.py\n",
            "spark-3.2.1-bin-hadoop3.2/python/pyspark/sql/pandas/typehints.py\n",
            "spark-3.2.1-bin-hadoop3.2/python/pyspark/sql/pandas/types.py\n",
            "spark-3.2.1-bin-hadoop3.2/python/pyspark/sql/pandas/utils.py\n",
            "spark-3.2.1-bin-hadoop3.2/python/pyspark/sql/readwriter.py\n",
            "spark-3.2.1-bin-hadoop3.2/python/pyspark/sql/readwriter.pyi\n",
            "spark-3.2.1-bin-hadoop3.2/python/pyspark/sql/session.py\n",
            "spark-3.2.1-bin-hadoop3.2/python/pyspark/sql/session.pyi\n",
            "spark-3.2.1-bin-hadoop3.2/python/pyspark/sql/streaming.py\n",
            "spark-3.2.1-bin-hadoop3.2/python/pyspark/sql/streaming.pyi\n",
            "spark-3.2.1-bin-hadoop3.2/python/pyspark/sql/tests/\n",
            "spark-3.2.1-bin-hadoop3.2/python/pyspark/sql/tests/__init__.py\n",
            "spark-3.2.1-bin-hadoop3.2/python/pyspark/sql/tests/test_arrow.py\n",
            "spark-3.2.1-bin-hadoop3.2/python/pyspark/sql/tests/test_catalog.py\n",
            "spark-3.2.1-bin-hadoop3.2/python/pyspark/sql/tests/test_column.py\n",
            "spark-3.2.1-bin-hadoop3.2/python/pyspark/sql/tests/test_conf.py\n",
            "spark-3.2.1-bin-hadoop3.2/python/pyspark/sql/tests/test_context.py\n",
            "spark-3.2.1-bin-hadoop3.2/python/pyspark/sql/tests/test_dataframe.py\n",
            "spark-3.2.1-bin-hadoop3.2/python/pyspark/sql/tests/test_datasources.py\n",
            "spark-3.2.1-bin-hadoop3.2/python/pyspark/sql/tests/test_functions.py\n",
            "spark-3.2.1-bin-hadoop3.2/python/pyspark/sql/tests/test_group.py\n",
            "spark-3.2.1-bin-hadoop3.2/python/pyspark/sql/tests/test_pandas_cogrouped_map.py\n",
            "spark-3.2.1-bin-hadoop3.2/python/pyspark/sql/tests/test_pandas_grouped_map.py\n",
            "spark-3.2.1-bin-hadoop3.2/python/pyspark/sql/tests/test_pandas_map.py\n",
            "spark-3.2.1-bin-hadoop3.2/python/pyspark/sql/tests/test_pandas_udf.py\n",
            "spark-3.2.1-bin-hadoop3.2/python/pyspark/sql/tests/test_pandas_udf_grouped_agg.py\n",
            "spark-3.2.1-bin-hadoop3.2/python/pyspark/sql/tests/test_pandas_udf_scalar.py\n",
            "spark-3.2.1-bin-hadoop3.2/python/pyspark/sql/tests/test_pandas_udf_typehints.py\n",
            "spark-3.2.1-bin-hadoop3.2/python/pyspark/sql/tests/test_pandas_udf_window.py\n",
            "spark-3.2.1-bin-hadoop3.2/python/pyspark/sql/tests/test_readwriter.py\n",
            "spark-3.2.1-bin-hadoop3.2/python/pyspark/sql/tests/test_serde.py\n",
            "spark-3.2.1-bin-hadoop3.2/python/pyspark/sql/tests/test_session.py\n",
            "spark-3.2.1-bin-hadoop3.2/python/pyspark/sql/tests/test_streaming.py\n",
            "spark-3.2.1-bin-hadoop3.2/python/pyspark/sql/tests/test_types.py\n",
            "spark-3.2.1-bin-hadoop3.2/python/pyspark/sql/tests/test_udf.py\n",
            "spark-3.2.1-bin-hadoop3.2/python/pyspark/sql/tests/test_utils.py\n",
            "spark-3.2.1-bin-hadoop3.2/python/pyspark/sql/types.py\n",
            "spark-3.2.1-bin-hadoop3.2/python/pyspark/sql/types.pyi\n",
            "spark-3.2.1-bin-hadoop3.2/python/pyspark/sql/udf.py\n",
            "spark-3.2.1-bin-hadoop3.2/python/pyspark/sql/udf.pyi\n",
            "spark-3.2.1-bin-hadoop3.2/python/pyspark/sql/utils.py\n",
            "spark-3.2.1-bin-hadoop3.2/python/pyspark/sql/window.py\n",
            "spark-3.2.1-bin-hadoop3.2/python/pyspark/sql/window.pyi\n",
            "spark-3.2.1-bin-hadoop3.2/python/pyspark/statcounter.py\n",
            "spark-3.2.1-bin-hadoop3.2/python/pyspark/statcounter.pyi\n",
            "spark-3.2.1-bin-hadoop3.2/python/pyspark/status.py\n",
            "spark-3.2.1-bin-hadoop3.2/python/pyspark/status.pyi\n",
            "spark-3.2.1-bin-hadoop3.2/python/pyspark/storagelevel.py\n",
            "spark-3.2.1-bin-hadoop3.2/python/pyspark/storagelevel.pyi\n",
            "spark-3.2.1-bin-hadoop3.2/python/pyspark/streaming/\n",
            "spark-3.2.1-bin-hadoop3.2/python/pyspark/streaming/__init__.py\n",
            "spark-3.2.1-bin-hadoop3.2/python/pyspark/streaming/context.py\n",
            "spark-3.2.1-bin-hadoop3.2/python/pyspark/streaming/context.pyi\n",
            "spark-3.2.1-bin-hadoop3.2/python/pyspark/streaming/dstream.py\n",
            "spark-3.2.1-bin-hadoop3.2/python/pyspark/streaming/dstream.pyi\n",
            "spark-3.2.1-bin-hadoop3.2/python/pyspark/streaming/kinesis.py\n",
            "spark-3.2.1-bin-hadoop3.2/python/pyspark/streaming/kinesis.pyi\n",
            "spark-3.2.1-bin-hadoop3.2/python/pyspark/streaming/listener.py\n",
            "spark-3.2.1-bin-hadoop3.2/python/pyspark/streaming/listener.pyi\n",
            "spark-3.2.1-bin-hadoop3.2/python/pyspark/streaming/tests/\n",
            "spark-3.2.1-bin-hadoop3.2/python/pyspark/streaming/tests/__init__.py\n",
            "spark-3.2.1-bin-hadoop3.2/python/pyspark/streaming/tests/test_context.py\n",
            "spark-3.2.1-bin-hadoop3.2/python/pyspark/streaming/tests/test_dstream.py\n",
            "spark-3.2.1-bin-hadoop3.2/python/pyspark/streaming/tests/test_kinesis.py\n",
            "spark-3.2.1-bin-hadoop3.2/python/pyspark/streaming/tests/test_listener.py\n",
            "spark-3.2.1-bin-hadoop3.2/python/pyspark/streaming/util.py\n",
            "spark-3.2.1-bin-hadoop3.2/python/pyspark/taskcontext.py\n",
            "spark-3.2.1-bin-hadoop3.2/python/pyspark/taskcontext.pyi\n",
            "spark-3.2.1-bin-hadoop3.2/python/pyspark/testing/\n",
            "spark-3.2.1-bin-hadoop3.2/python/pyspark/testing/__init__.py\n",
            "spark-3.2.1-bin-hadoop3.2/python/pyspark/testing/mllibutils.py\n",
            "spark-3.2.1-bin-hadoop3.2/python/pyspark/testing/mlutils.py\n",
            "spark-3.2.1-bin-hadoop3.2/python/pyspark/testing/pandasutils.py\n",
            "spark-3.2.1-bin-hadoop3.2/python/pyspark/testing/sqlutils.py\n",
            "spark-3.2.1-bin-hadoop3.2/python/pyspark/testing/streamingutils.py\n",
            "spark-3.2.1-bin-hadoop3.2/python/pyspark/testing/utils.py\n",
            "spark-3.2.1-bin-hadoop3.2/python/pyspark/tests/\n",
            "spark-3.2.1-bin-hadoop3.2/python/pyspark/tests/__init__.py\n",
            "spark-3.2.1-bin-hadoop3.2/python/pyspark/tests/test_appsubmit.py\n",
            "spark-3.2.1-bin-hadoop3.2/python/pyspark/tests/test_broadcast.py\n",
            "spark-3.2.1-bin-hadoop3.2/python/pyspark/tests/test_conf.py\n",
            "spark-3.2.1-bin-hadoop3.2/python/pyspark/tests/test_context.py\n",
            "spark-3.2.1-bin-hadoop3.2/python/pyspark/tests/test_daemon.py\n",
            "spark-3.2.1-bin-hadoop3.2/python/pyspark/tests/test_install_spark.py\n",
            "spark-3.2.1-bin-hadoop3.2/python/pyspark/tests/test_join.py\n",
            "spark-3.2.1-bin-hadoop3.2/python/pyspark/tests/test_pin_thread.py\n",
            "spark-3.2.1-bin-hadoop3.2/python/pyspark/tests/test_profiler.py\n",
            "spark-3.2.1-bin-hadoop3.2/python/pyspark/tests/test_rdd.py\n",
            "spark-3.2.1-bin-hadoop3.2/python/pyspark/tests/test_rddbarrier.py\n",
            "spark-3.2.1-bin-hadoop3.2/python/pyspark/tests/test_readwrite.py\n",
            "spark-3.2.1-bin-hadoop3.2/python/pyspark/tests/test_serializers.py\n",
            "spark-3.2.1-bin-hadoop3.2/python/pyspark/tests/test_shuffle.py\n",
            "spark-3.2.1-bin-hadoop3.2/python/pyspark/tests/test_taskcontext.py\n",
            "spark-3.2.1-bin-hadoop3.2/python/pyspark/tests/test_util.py\n",
            "spark-3.2.1-bin-hadoop3.2/python/pyspark/tests/test_worker.py\n",
            "spark-3.2.1-bin-hadoop3.2/python/pyspark/traceback_utils.py\n",
            "spark-3.2.1-bin-hadoop3.2/python/pyspark/util.py\n",
            "spark-3.2.1-bin-hadoop3.2/python/pyspark/util.pyi\n",
            "spark-3.2.1-bin-hadoop3.2/python/pyspark/version.py\n",
            "spark-3.2.1-bin-hadoop3.2/python/pyspark/version.pyi\n",
            "spark-3.2.1-bin-hadoop3.2/python/pyspark/worker.py\n",
            "spark-3.2.1-bin-hadoop3.2/python/pyspark.egg-info/\n",
            "spark-3.2.1-bin-hadoop3.2/python/pyspark.egg-info/PKG-INFO\n",
            "spark-3.2.1-bin-hadoop3.2/python/pyspark.egg-info/SOURCES.txt\n",
            "spark-3.2.1-bin-hadoop3.2/python/pyspark.egg-info/dependency_links.txt\n",
            "spark-3.2.1-bin-hadoop3.2/python/pyspark.egg-info/requires.txt\n",
            "spark-3.2.1-bin-hadoop3.2/python/pyspark.egg-info/top_level.txt\n",
            "spark-3.2.1-bin-hadoop3.2/python/run-tests\n",
            "spark-3.2.1-bin-hadoop3.2/python/run-tests-with-coverage\n",
            "spark-3.2.1-bin-hadoop3.2/python/run-tests.py\n",
            "spark-3.2.1-bin-hadoop3.2/python/setup.cfg\n",
            "spark-3.2.1-bin-hadoop3.2/python/setup.py\n",
            "spark-3.2.1-bin-hadoop3.2/python/test_coverage/\n",
            "spark-3.2.1-bin-hadoop3.2/python/test_coverage/conf/\n",
            "spark-3.2.1-bin-hadoop3.2/python/test_coverage/conf/spark-defaults.conf\n",
            "spark-3.2.1-bin-hadoop3.2/python/test_coverage/coverage_daemon.py\n",
            "spark-3.2.1-bin-hadoop3.2/python/test_coverage/sitecustomize.py\n",
            "spark-3.2.1-bin-hadoop3.2/python/test_support/\n",
            "spark-3.2.1-bin-hadoop3.2/python/test_support/SimpleHTTPServer.py\n",
            "spark-3.2.1-bin-hadoop3.2/python/test_support/hello/\n",
            "spark-3.2.1-bin-hadoop3.2/python/test_support/hello/hello.txt\n",
            "spark-3.2.1-bin-hadoop3.2/python/test_support/hello/sub_hello/\n",
            "spark-3.2.1-bin-hadoop3.2/python/test_support/hello/sub_hello/sub_hello.txt\n",
            "spark-3.2.1-bin-hadoop3.2/python/test_support/sql/\n",
            "spark-3.2.1-bin-hadoop3.2/python/test_support/sql/ages.csv\n",
            "spark-3.2.1-bin-hadoop3.2/python/test_support/sql/ages_newlines.csv\n",
            "spark-3.2.1-bin-hadoop3.2/python/test_support/sql/orc_partitioned/\n",
            "spark-3.2.1-bin-hadoop3.2/python/test_support/sql/orc_partitioned/_SUCCESS\n",
            "spark-3.2.1-bin-hadoop3.2/python/test_support/sql/orc_partitioned/b=0/\n",
            "spark-3.2.1-bin-hadoop3.2/python/test_support/sql/orc_partitioned/b=0/c=0/\n",
            "spark-3.2.1-bin-hadoop3.2/python/test_support/sql/orc_partitioned/b=0/c=0/.part-r-00000-829af031-b970-49d6-ad39-30460a0be2c8.orc.crc\n",
            "spark-3.2.1-bin-hadoop3.2/python/test_support/sql/orc_partitioned/b=0/c=0/part-r-00000-829af031-b970-49d6-ad39-30460a0be2c8.orc\n",
            "spark-3.2.1-bin-hadoop3.2/python/test_support/sql/orc_partitioned/b=1/\n",
            "spark-3.2.1-bin-hadoop3.2/python/test_support/sql/orc_partitioned/b=1/c=1/\n",
            "spark-3.2.1-bin-hadoop3.2/python/test_support/sql/orc_partitioned/b=1/c=1/.part-r-00000-829af031-b970-49d6-ad39-30460a0be2c8.orc.crc\n",
            "spark-3.2.1-bin-hadoop3.2/python/test_support/sql/orc_partitioned/b=1/c=1/part-r-00000-829af031-b970-49d6-ad39-30460a0be2c8.orc\n",
            "spark-3.2.1-bin-hadoop3.2/python/test_support/sql/parquet_partitioned/\n",
            "spark-3.2.1-bin-hadoop3.2/python/test_support/sql/parquet_partitioned/_SUCCESS\n",
            "spark-3.2.1-bin-hadoop3.2/python/test_support/sql/parquet_partitioned/_common_metadata\n",
            "spark-3.2.1-bin-hadoop3.2/python/test_support/sql/parquet_partitioned/_metadata\n",
            "spark-3.2.1-bin-hadoop3.2/python/test_support/sql/parquet_partitioned/year=2014/\n",
            "spark-3.2.1-bin-hadoop3.2/python/test_support/sql/parquet_partitioned/year=2014/month=9/\n",
            "spark-3.2.1-bin-hadoop3.2/python/test_support/sql/parquet_partitioned/year=2014/month=9/day=1/\n",
            "spark-3.2.1-bin-hadoop3.2/python/test_support/sql/parquet_partitioned/year=2014/month=9/day=1/.part-r-00008.gz.parquet.crc\n",
            "spark-3.2.1-bin-hadoop3.2/python/test_support/sql/parquet_partitioned/year=2014/month=9/day=1/part-r-00008.gz.parquet\n",
            "spark-3.2.1-bin-hadoop3.2/python/test_support/sql/parquet_partitioned/year=2015/\n",
            "spark-3.2.1-bin-hadoop3.2/python/test_support/sql/parquet_partitioned/year=2015/month=10/\n",
            "spark-3.2.1-bin-hadoop3.2/python/test_support/sql/parquet_partitioned/year=2015/month=10/day=25/\n",
            "spark-3.2.1-bin-hadoop3.2/python/test_support/sql/parquet_partitioned/year=2015/month=10/day=25/.part-r-00002.gz.parquet.crc\n",
            "spark-3.2.1-bin-hadoop3.2/python/test_support/sql/parquet_partitioned/year=2015/month=10/day=25/.part-r-00004.gz.parquet.crc\n",
            "spark-3.2.1-bin-hadoop3.2/python/test_support/sql/parquet_partitioned/year=2015/month=10/day=25/part-r-00002.gz.parquet\n",
            "spark-3.2.1-bin-hadoop3.2/python/test_support/sql/parquet_partitioned/year=2015/month=10/day=25/part-r-00004.gz.parquet\n",
            "spark-3.2.1-bin-hadoop3.2/python/test_support/sql/parquet_partitioned/year=2015/month=10/day=26/\n",
            "spark-3.2.1-bin-hadoop3.2/python/test_support/sql/parquet_partitioned/year=2015/month=10/day=26/.part-r-00005.gz.parquet.crc\n",
            "spark-3.2.1-bin-hadoop3.2/python/test_support/sql/parquet_partitioned/year=2015/month=10/day=26/part-r-00005.gz.parquet\n",
            "spark-3.2.1-bin-hadoop3.2/python/test_support/sql/parquet_partitioned/year=2015/month=9/\n",
            "spark-3.2.1-bin-hadoop3.2/python/test_support/sql/parquet_partitioned/year=2015/month=9/day=1/\n",
            "spark-3.2.1-bin-hadoop3.2/python/test_support/sql/parquet_partitioned/year=2015/month=9/day=1/.part-r-00007.gz.parquet.crc\n",
            "spark-3.2.1-bin-hadoop3.2/python/test_support/sql/parquet_partitioned/year=2015/month=9/day=1/part-r-00007.gz.parquet\n",
            "spark-3.2.1-bin-hadoop3.2/python/test_support/sql/people.json\n",
            "spark-3.2.1-bin-hadoop3.2/python/test_support/sql/people1.json\n",
            "spark-3.2.1-bin-hadoop3.2/python/test_support/sql/people_array.json\n",
            "spark-3.2.1-bin-hadoop3.2/python/test_support/sql/people_array_utf16le.json\n",
            "spark-3.2.1-bin-hadoop3.2/python/test_support/sql/streaming/\n",
            "spark-3.2.1-bin-hadoop3.2/python/test_support/sql/streaming/text-test.txt\n",
            "spark-3.2.1-bin-hadoop3.2/python/test_support/sql/text-test.txt\n",
            "spark-3.2.1-bin-hadoop3.2/python/test_support/userlib-0.1.zip\n",
            "spark-3.2.1-bin-hadoop3.2/python/test_support/userlibrary.py\n",
            "spark-3.2.1-bin-hadoop3.2/sbin/\n",
            "spark-3.2.1-bin-hadoop3.2/sbin/decommission-slave.sh\n",
            "spark-3.2.1-bin-hadoop3.2/sbin/decommission-worker.sh\n",
            "spark-3.2.1-bin-hadoop3.2/sbin/slaves.sh\n",
            "spark-3.2.1-bin-hadoop3.2/sbin/spark-config.sh\n",
            "spark-3.2.1-bin-hadoop3.2/sbin/spark-daemon.sh\n",
            "spark-3.2.1-bin-hadoop3.2/sbin/spark-daemons.sh\n",
            "spark-3.2.1-bin-hadoop3.2/sbin/start-all.sh\n",
            "spark-3.2.1-bin-hadoop3.2/sbin/start-history-server.sh\n",
            "spark-3.2.1-bin-hadoop3.2/sbin/start-master.sh\n",
            "spark-3.2.1-bin-hadoop3.2/sbin/start-mesos-dispatcher.sh\n",
            "spark-3.2.1-bin-hadoop3.2/sbin/start-mesos-shuffle-service.sh\n",
            "spark-3.2.1-bin-hadoop3.2/sbin/start-slave.sh\n",
            "spark-3.2.1-bin-hadoop3.2/sbin/start-slaves.sh\n",
            "spark-3.2.1-bin-hadoop3.2/sbin/start-thriftserver.sh\n",
            "spark-3.2.1-bin-hadoop3.2/sbin/start-worker.sh\n",
            "spark-3.2.1-bin-hadoop3.2/sbin/start-workers.sh\n",
            "spark-3.2.1-bin-hadoop3.2/sbin/stop-all.sh\n",
            "spark-3.2.1-bin-hadoop3.2/sbin/stop-history-server.sh\n",
            "spark-3.2.1-bin-hadoop3.2/sbin/stop-master.sh\n",
            "spark-3.2.1-bin-hadoop3.2/sbin/stop-mesos-dispatcher.sh\n",
            "spark-3.2.1-bin-hadoop3.2/sbin/stop-mesos-shuffle-service.sh\n",
            "spark-3.2.1-bin-hadoop3.2/sbin/stop-slave.sh\n",
            "spark-3.2.1-bin-hadoop3.2/sbin/stop-slaves.sh\n",
            "spark-3.2.1-bin-hadoop3.2/sbin/stop-thriftserver.sh\n",
            "spark-3.2.1-bin-hadoop3.2/sbin/stop-worker.sh\n",
            "spark-3.2.1-bin-hadoop3.2/sbin/stop-workers.sh\n",
            "spark-3.2.1-bin-hadoop3.2/sbin/workers.sh\n",
            "spark-3.2.1-bin-hadoop3.2/yarn/\n",
            "spark-3.2.1-bin-hadoop3.2/yarn/spark-3.2.1-yarn-shuffle.jar\n"
          ]
        }
      ],
      "source": [
        "!tar -xvf spark-3.2.1-bin-hadoop3.2.tgz"
      ]
    },
    {
      "cell_type": "code",
      "execution_count": null,
      "metadata": {
        "id": "rwIjW7gquK8N"
      },
      "outputs": [],
      "source": [
        "import os\n",
        "os.environ[\"JAVA_HOME\"] = \"/usr/lib/jvm/java-8-openjdk-amd64\"\n",
        "os.environ[\"SPARK_HOME\"] = \"/content/spark-3.2.1-bin-hadoop3.2\""
      ]
    },
    {
      "cell_type": "code",
      "execution_count": null,
      "metadata": {
        "colab": {
          "base_uri": "https://localhost:8080/"
        },
        "id": "a-sCgQbfuQfA",
        "outputId": "fe7bd13d-ac27-4a94-bf1b-99951d2e8b6d"
      },
      "outputs": [
        {
          "name": "stdout",
          "output_type": "stream",
          "text": [
            "Requirement already satisfied: pyspark in /usr/local/lib/python3.7/dist-packages (3.2.1)\n",
            "Requirement already satisfied: py4j==0.10.9.3 in /usr/local/lib/python3.7/dist-packages (from pyspark) (0.10.9.3)\n"
          ]
        }
      ],
      "source": [
        "!pip install pyspark"
      ]
    },
    {
      "cell_type": "code",
      "execution_count": null,
      "metadata": {
        "id": "QE3858r_u4MM"
      },
      "outputs": [],
      "source": [
        "!pip install -q findspark"
      ]
    },
    {
      "cell_type": "code",
      "execution_count": null,
      "metadata": {
        "id": "Fu-7eE_1yFQ6"
      },
      "outputs": [],
      "source": [
        "from pyspark.sql import SparkSession\n",
        "from pyspark.sql.functions import ltrim,rtrim,trim\n",
        "from pyspark.context import SparkContext\n",
        "from pyspark.sql.session import SparkSession\n",
        "from pyspark.sql.functions import round\n",
        "from pyspark.sql.functions import col, to_date\n",
        "import datetime\n",
        "from pyspark.sql.functions import year, month, dayofmonth"
      ]
    },
    {
      "cell_type": "code",
      "execution_count": null,
      "metadata": {
        "id": "DrqgjQjqPWq-"
      },
      "outputs": [],
      "source": [
        "sc = SparkContext(\"local\")\n",
        "spark = SparkSession(sc)"
      ]
    },
    {
      "cell_type": "code",
      "execution_count": null,
      "metadata": {
        "id": "zxdPiBPUh5DP"
      },
      "outputs": [],
      "source": [
        ""
      ]
    },
    {
      "cell_type": "code",
      "execution_count": null,
      "metadata": {
        "colab": {
          "base_uri": "https://localhost:8080/"
        },
        "id": "7u5nc-ftyPWc",
        "outputId": "1c2ddf91-7000-4656-cbd7-0ece2ec0ed09"
      },
      "outputs": [
        {
          "name": "stdout",
          "output_type": "stream",
          "text": [
            "[nltk_data] Downloading package stopwords to /root/nltk_data...\n",
            "[nltk_data]   Package stopwords is already up-to-date!\n",
            "[nltk_data] Downloading package punkt to /root/nltk_data...\n",
            "[nltk_data]   Package punkt is already up-to-date!\n"
          ]
        }
      ],
      "source": [
        "from pyspark.sql import SparkSession\n",
        "import pyspark.sql.functions as f\n",
        "from pyspark.sql.functions import explode, udf\n",
        "from pyspark.sql.types import *\n",
        "from pyspark.sql.functions import col\n",
        "from pyspark.ml.feature import * \n",
        "import re\n",
        "import string\n",
        "import pyspark.sql.functions as func\n",
        "import nltk\n",
        "nltk.download('stopwords')\n",
        "nltk.download('punkt')\n",
        "from nltk import word_tokenize\n",
        "from nltk.corpus import stopwords"
      ]
    },
    {
      "cell_type": "code",
      "execution_count": null,
      "metadata": {
        "id": "A9V4RSBqQDMn"
      },
      "outputs": [],
      "source": [
        "business = spark.read.format(\"csv\").option(\"header\",\"true\").option(\"delimiter\",\",\").option(\"quote\", \"\\\"\").option(\"escape\", \"\\\"\").load(\"/content/gdrive/MyDrive/Scalable/yelp-dataset/yelp_business.csv\")"
      ]
    },
    {
      "cell_type": "code",
      "execution_count": null,
      "metadata": {
        "colab": {
          "base_uri": "https://localhost:8080/"
        },
        "id": "s_A5--a6Q1E9",
        "outputId": "59218d6c-3b4b-4640-a850-60ee96b906e7"
      },
      "outputs": [
        {
          "name": "stdout",
          "output_type": "stream",
          "text": [
            "+--------------------+--------------------+------------------+--------------------+--------------+-----+-----------+-------------+--------------+-----+------------+-------+--------------------+\n",
            "|         business_id|                name|      neighborhood|             address|          city|state|postal_code|     latitude|     longitude|stars|review_count|is_open|          categories|\n",
            "+--------------------+--------------------+------------------+--------------------+--------------+-----+-----------+-------------+--------------+-----+------------+-------+--------------------+\n",
            "|FYWN1wneV18bWNgQj...|  \"Dental by Design\"|              null|\"4855 E Warner Rd...|     Ahwatukee|   AZ|      85044|   33.3306902|  -111.9785992|  4.0|          22|      1|Dentists;General ...|\n",
            "|He-G7vWjzVUysIKrf...|\"Stephen Szabo Sa...|              null|\"3101 Washington Rd\"|      McMurray|   PA|      15317|   40.2916853|   -80.1048999|  3.0|          11|      1|Hair Stylists;Hai...|\n",
            "|KQPW8lFf1y5BT2Mxi...|\"Western Motor Ve...|              null|\"6025 N 27th Ave,...|       Phoenix|   AZ|      85017|   33.5249025|  -112.1153098|  1.5|          18|      1|Departments of Mo...|\n",
            "|8DShNS-LuFqpEWIp0...|  \"Sports Authority\"|              null|\"5000 Arizona Mil...|         Tempe|   AZ|      85282|   33.3831468|  -111.9647254|  3.0|           9|      0|Sporting Goods;Sh...|\n",
            "|PfOCPjBrlQAnz__NX...|\"Brick House Tave...|              null|      \"581 Howe Ave\"|Cuyahoga Falls|   OH|      44221|   41.1195346|   -81.4756898|  3.5|         116|      1|American (New);Ni...|\n",
            "|o9eMRCWt5PkpLDE0g...|           \"Messina\"|              null|    \"Richterstr. 11\"|     Stuttgart|   BW|      70567|      48.7272|       9.14795|  4.0|           5|      1| Italian;Restaurants|\n",
            "|kCoE3jvEtg6UVz5SO...|        \"BDJ Realty\"|         Summerlin|\"2620 Regatta Dr,...|     Las Vegas|   NV|      89128|     36.20743|    -115.26846|  4.0|           5|      1|Real Estate Servi...|\n",
            "|OD2hnuuTJI9uotcKy...|       \"Soccer Zone\"|              null|\"7240 W Lake Mead...|     Las Vegas|   NV|      89128|   36.1974844|  -115.2496601|  1.5|           9|      1|Shopping;Sporting...|\n",
            "|EsMcGiZaQuG1OOvL9...|  \"Any Given Sundae\"|              null|\"2612 Brandt Scho...|       Wexford|   PA|      15090|40.6151022445|-80.0913487465|  5.0|          15|      1|Coffee & Tea;Ice ...|\n",
            "|TGWhGNusxyMaA4kQV...|\"Detailing Gone M...|              null|                  \"\"|     Henderson|   NV|      89014|36.0558252127| -115.04635039|  5.0|           7|      1|Automotive;Auto D...|\n",
            "|XOSRcvtaKc_Q5H1SA...| \"East Coast Coffee\"|              null|  \"737 West Pike St\"|       Houston|   PA|      15342|40.2415480142|-80.2128151059|  4.5|           3|      0|Breakfast & Brunc...|\n",
            "|Y0eMNa5C-YU1RQOZf...|\"CubeSmart Self S...|              null|\"2414 South Gilbe...|      Chandler|   AZ|      85286|   33.2717201|  -111.7912569|  5.0|          23|      1|Local Services;Se...|\n",
            "|xcgFnd-MwkZeO5G2H...|\"T & T Bakery and...|   Markham Village|  \"35 Main Street N\"|       Markham|   ON|    L3P 1X3|   43.8751774|   -79.2601532|  4.0|          38|      1|Bakeries;Bagels;Food|\n",
            "|NmZtoE3v8RdSJEczY...|\"Complete Dental ...|              null|  \"107 Whitaker Str\"|     Homestead|   PA|      15120|   40.4014882|   -79.8879161|  2.0|           5|      1|General Dentistry...|\n",
            "|fNMVV_ZX7CJSDWQGd...|\"Showmars Governm...|            Uptown|      \"600 E 4th St\"|     Charlotte|   NC|      28202|   35.2216474|   -80.8393449|  3.5|           7|      1|Restaurants;Ameri...|\n",
            "|l09JfMeQ6ynYs5MCJ...|    \"Alize Catering\"|Yonge and Eglinton|     \"2459 Yonge St\"|       Toronto|   ON|    M4P 2H6|   43.7113993|   -79.3993388|  3.0|          12|      0|Italian;French;Re...|\n",
            "|IQSlT5jGE6CCDhSG0...|    \"T & Y Nail Spa\"|              null|\"8411 W Thunderbi...|        Peoria|   AZ|      85381|   33.6086538|  -112.2400118|  3.0|          20|      1|Beauty & Spas;Nai...|\n",
            "|b2I2DXtZVnpUMCXp1...|\"Meineke Car Care...|              null|  \"2518 Ironwood Dr\"|   Sun Prairie|   WI|      53590|     43.18508|    -89.262047|  3.5|           9|      1|Tires;Oil Change ...|\n",
            "|0FMKDOU8TJT1x87OK...|\"Senior's Barber ...|              null|  \"13375 W McDowell\"|      Goodyear|   AZ|      85395|    33.463629|   -112.347038|  5.0|          65|      1|Barbers;Beauty & ...|\n",
            "|Gu-xs3NIQTj3Mj2xY...|\"Maxim Bakery & R...|              null|\"9665 Bayview Ave...| Richmond Hill|   ON|    L4C 9V4|   43.8675648|   -79.4126618|  3.5|          34|      1|French;Food;Baker...|\n",
            "+--------------------+--------------------+------------------+--------------------+--------------+-----+-----------+-------------+--------------+-----+------------+-------+--------------------+\n",
            "only showing top 20 rows\n",
            "\n"
          ]
        }
      ],
      "source": [
        "business.show()"
      ]
    },
    {
      "cell_type": "code",
      "execution_count": null,
      "metadata": {
        "colab": {
          "base_uri": "https://localhost:8080/"
        },
        "id": "SUELqGk73ElL",
        "outputId": "d1eadb98-b11f-4c5d-f111-759fadaffbd0"
      },
      "outputs": [
        {
          "name": "stdout",
          "output_type": "stream",
          "text": [
            "root\n",
            " |-- business_id: string (nullable = true)\n",
            " |-- name: string (nullable = true)\n",
            " |-- neighborhood: string (nullable = true)\n",
            " |-- address: string (nullable = true)\n",
            " |-- city: string (nullable = true)\n",
            " |-- state: string (nullable = true)\n",
            " |-- postal_code: string (nullable = true)\n",
            " |-- latitude: string (nullable = true)\n",
            " |-- longitude: string (nullable = true)\n",
            " |-- stars: string (nullable = true)\n",
            " |-- review_count: string (nullable = true)\n",
            " |-- is_open: string (nullable = true)\n",
            " |-- categories: string (nullable = true)\n",
            "\n"
          ]
        }
      ],
      "source": [
        "business.printSchema()"
      ]
    },
    {
      "cell_type": "code",
      "execution_count": null,
      "metadata": {
        "id": "an1lr1qZ3IRF"
      },
      "outputs": [],
      "source": [
        "business_filtered = business.select('business_id','name','city','state','stars','review_count','is_open','categories')"
      ]
    },
    {
      "cell_type": "code",
      "execution_count": null,
      "metadata": {
        "colab": {
          "base_uri": "https://localhost:8080/"
        },
        "id": "ISLbPPNtyQcD",
        "outputId": "c4477031-c67b-41e1-cbc9-1b9c56e61e9e"
      },
      "outputs": [
        {
          "name": "stdout",
          "output_type": "stream",
          "text": [
            "+--------------------+--------------------+--------------+-----+-----+------------+-------+--------------------+\n",
            "|         business_id|                name|          city|state|stars|review_count|is_open|          categories|\n",
            "+--------------------+--------------------+--------------+-----+-----+------------+-------+--------------------+\n",
            "|FYWN1wneV18bWNgQj...|  \"Dental by Design\"|     Ahwatukee|   AZ|  4.0|          22|      1|Dentists;General ...|\n",
            "|He-G7vWjzVUysIKrf...|\"Stephen Szabo Sa...|      McMurray|   PA|  3.0|          11|      1|Hair Stylists;Hai...|\n",
            "|KQPW8lFf1y5BT2Mxi...|\"Western Motor Ve...|       Phoenix|   AZ|  1.5|          18|      1|Departments of Mo...|\n",
            "|8DShNS-LuFqpEWIp0...|  \"Sports Authority\"|         Tempe|   AZ|  3.0|           9|      0|Sporting Goods;Sh...|\n",
            "|PfOCPjBrlQAnz__NX...|\"Brick House Tave...|Cuyahoga Falls|   OH|  3.5|         116|      1|American (New);Ni...|\n",
            "|o9eMRCWt5PkpLDE0g...|           \"Messina\"|     Stuttgart|   BW|  4.0|           5|      1| Italian;Restaurants|\n",
            "|kCoE3jvEtg6UVz5SO...|        \"BDJ Realty\"|     Las Vegas|   NV|  4.0|           5|      1|Real Estate Servi...|\n",
            "|OD2hnuuTJI9uotcKy...|       \"Soccer Zone\"|     Las Vegas|   NV|  1.5|           9|      1|Shopping;Sporting...|\n",
            "|EsMcGiZaQuG1OOvL9...|  \"Any Given Sundae\"|       Wexford|   PA|  5.0|          15|      1|Coffee & Tea;Ice ...|\n",
            "|TGWhGNusxyMaA4kQV...|\"Detailing Gone M...|     Henderson|   NV|  5.0|           7|      1|Automotive;Auto D...|\n",
            "|XOSRcvtaKc_Q5H1SA...| \"East Coast Coffee\"|       Houston|   PA|  4.5|           3|      0|Breakfast & Brunc...|\n",
            "|Y0eMNa5C-YU1RQOZf...|\"CubeSmart Self S...|      Chandler|   AZ|  5.0|          23|      1|Local Services;Se...|\n",
            "|xcgFnd-MwkZeO5G2H...|\"T & T Bakery and...|       Markham|   ON|  4.0|          38|      1|Bakeries;Bagels;Food|\n",
            "|NmZtoE3v8RdSJEczY...|\"Complete Dental ...|     Homestead|   PA|  2.0|           5|      1|General Dentistry...|\n",
            "|fNMVV_ZX7CJSDWQGd...|\"Showmars Governm...|     Charlotte|   NC|  3.5|           7|      1|Restaurants;Ameri...|\n",
            "|l09JfMeQ6ynYs5MCJ...|    \"Alize Catering\"|       Toronto|   ON|  3.0|          12|      0|Italian;French;Re...|\n",
            "|IQSlT5jGE6CCDhSG0...|    \"T & Y Nail Spa\"|        Peoria|   AZ|  3.0|          20|      1|Beauty & Spas;Nai...|\n",
            "|b2I2DXtZVnpUMCXp1...|\"Meineke Car Care...|   Sun Prairie|   WI|  3.5|           9|      1|Tires;Oil Change ...|\n",
            "|0FMKDOU8TJT1x87OK...|\"Senior's Barber ...|      Goodyear|   AZ|  5.0|          65|      1|Barbers;Beauty & ...|\n",
            "|Gu-xs3NIQTj3Mj2xY...|\"Maxim Bakery & R...| Richmond Hill|   ON|  3.5|          34|      1|French;Food;Baker...|\n",
            "+--------------------+--------------------+--------------+-----+-----+------------+-------+--------------------+\n",
            "only showing top 20 rows\n",
            "\n"
          ]
        }
      ],
      "source": [
        "business_filtered.show()"
      ]
    },
    {
      "cell_type": "code",
      "execution_count": null,
      "metadata": {
        "id": "zOpymQuiYaJs"
      },
      "outputs": [],
      "source": [
        "locations = business.select('business_id','city')\n",
        "most_reviewed_city = locations.groupby('city').count()\n",
        "cities = most_reviewed_city.sort('count',ascending=False)"
      ]
    },
    {
      "cell_type": "code",
      "execution_count": null,
      "metadata": {
        "id": "o3UCPwbzYaMn"
      },
      "outputs": [],
      "source": [
        "pdf = cities.toPandas()"
      ]
    },
    {
      "cell_type": "code",
      "execution_count": null,
      "metadata": {
        "id": "EU4iGQk1d1Bq"
      },
      "outputs": [],
      "source": [
        "pdf_top10 = pdf.head(10)"
      ]
    },
    {
      "cell_type": "code",
      "execution_count": null,
      "metadata": {
        "id": "xCFdwTell_kv"
      },
      "outputs": [],
      "source": [
        "import matplotlib.pyplot as plt\n",
        "import numpy as np\n",
        "import pandas as pd\n",
        "import seaborn as sns\n",
        "sns.set_style(\"dark\")"
      ]
    },
    {
      "cell_type": "code",
      "execution_count": null,
      "metadata": {
        "colab": {
          "base_uri": "https://localhost:8080/",
          "height": 363
        },
        "id": "SR--rtPMm9MR",
        "outputId": "9e25108b-53d6-4d09-fb19-4b7c8b7e12d3"
      },
      "outputs": [
        {
          "data": {
            "text/html": [
              "\n",
              "  <div id=\"df-cbc02630-20cc-4ad3-896b-1ecc84815559\">\n",
              "    <div class=\"colab-df-container\">\n",
              "      <div>\n",
              "<style scoped>\n",
              "    .dataframe tbody tr th:only-of-type {\n",
              "        vertical-align: middle;\n",
              "    }\n",
              "\n",
              "    .dataframe tbody tr th {\n",
              "        vertical-align: top;\n",
              "    }\n",
              "\n",
              "    .dataframe thead th {\n",
              "        text-align: right;\n",
              "    }\n",
              "</style>\n",
              "<table border=\"1\" class=\"dataframe\">\n",
              "  <thead>\n",
              "    <tr style=\"text-align: right;\">\n",
              "      <th></th>\n",
              "      <th>city</th>\n",
              "      <th>count</th>\n",
              "    </tr>\n",
              "  </thead>\n",
              "  <tbody>\n",
              "    <tr>\n",
              "      <th>0</th>\n",
              "      <td>Las Vegas</td>\n",
              "      <td>26775</td>\n",
              "    </tr>\n",
              "    <tr>\n",
              "      <th>1</th>\n",
              "      <td>Phoenix</td>\n",
              "      <td>17213</td>\n",
              "    </tr>\n",
              "    <tr>\n",
              "      <th>2</th>\n",
              "      <td>Toronto</td>\n",
              "      <td>17206</td>\n",
              "    </tr>\n",
              "    <tr>\n",
              "      <th>3</th>\n",
              "      <td>Charlotte</td>\n",
              "      <td>8553</td>\n",
              "    </tr>\n",
              "    <tr>\n",
              "      <th>4</th>\n",
              "      <td>Scottsdale</td>\n",
              "      <td>8228</td>\n",
              "    </tr>\n",
              "    <tr>\n",
              "      <th>5</th>\n",
              "      <td>Pittsburgh</td>\n",
              "      <td>6355</td>\n",
              "    </tr>\n",
              "    <tr>\n",
              "      <th>6</th>\n",
              "      <td>Mesa</td>\n",
              "      <td>5760</td>\n",
              "    </tr>\n",
              "    <tr>\n",
              "      <th>7</th>\n",
              "      <td>Montréal</td>\n",
              "      <td>5709</td>\n",
              "    </tr>\n",
              "    <tr>\n",
              "      <th>8</th>\n",
              "      <td>Henderson</td>\n",
              "      <td>4465</td>\n",
              "    </tr>\n",
              "    <tr>\n",
              "      <th>9</th>\n",
              "      <td>Tempe</td>\n",
              "      <td>4263</td>\n",
              "    </tr>\n",
              "  </tbody>\n",
              "</table>\n",
              "</div>\n",
              "      <button class=\"colab-df-convert\" onclick=\"convertToInteractive('df-cbc02630-20cc-4ad3-896b-1ecc84815559')\"\n",
              "              title=\"Convert this dataframe to an interactive table.\"\n",
              "              style=\"display:none;\">\n",
              "        \n",
              "  <svg xmlns=\"http://www.w3.org/2000/svg\" height=\"24px\"viewBox=\"0 0 24 24\"\n",
              "       width=\"24px\">\n",
              "    <path d=\"M0 0h24v24H0V0z\" fill=\"none\"/>\n",
              "    <path d=\"M18.56 5.44l.94 2.06.94-2.06 2.06-.94-2.06-.94-.94-2.06-.94 2.06-2.06.94zm-11 1L8.5 8.5l.94-2.06 2.06-.94-2.06-.94L8.5 2.5l-.94 2.06-2.06.94zm10 10l.94 2.06.94-2.06 2.06-.94-2.06-.94-.94-2.06-.94 2.06-2.06.94z\"/><path d=\"M17.41 7.96l-1.37-1.37c-.4-.4-.92-.59-1.43-.59-.52 0-1.04.2-1.43.59L10.3 9.45l-7.72 7.72c-.78.78-.78 2.05 0 2.83L4 21.41c.39.39.9.59 1.41.59.51 0 1.02-.2 1.41-.59l7.78-7.78 2.81-2.81c.8-.78.8-2.07 0-2.86zM5.41 20L4 18.59l7.72-7.72 1.47 1.35L5.41 20z\"/>\n",
              "  </svg>\n",
              "      </button>\n",
              "      \n",
              "  <style>\n",
              "    .colab-df-container {\n",
              "      display:flex;\n",
              "      flex-wrap:wrap;\n",
              "      gap: 12px;\n",
              "    }\n",
              "\n",
              "    .colab-df-convert {\n",
              "      background-color: #E8F0FE;\n",
              "      border: none;\n",
              "      border-radius: 50%;\n",
              "      cursor: pointer;\n",
              "      display: none;\n",
              "      fill: #1967D2;\n",
              "      height: 32px;\n",
              "      padding: 0 0 0 0;\n",
              "      width: 32px;\n",
              "    }\n",
              "\n",
              "    .colab-df-convert:hover {\n",
              "      background-color: #E2EBFA;\n",
              "      box-shadow: 0px 1px 2px rgba(60, 64, 67, 0.3), 0px 1px 3px 1px rgba(60, 64, 67, 0.15);\n",
              "      fill: #174EA6;\n",
              "    }\n",
              "\n",
              "    [theme=dark] .colab-df-convert {\n",
              "      background-color: #3B4455;\n",
              "      fill: #D2E3FC;\n",
              "    }\n",
              "\n",
              "    [theme=dark] .colab-df-convert:hover {\n",
              "      background-color: #434B5C;\n",
              "      box-shadow: 0px 1px 3px 1px rgba(0, 0, 0, 0.15);\n",
              "      filter: drop-shadow(0px 1px 2px rgba(0, 0, 0, 0.3));\n",
              "      fill: #FFFFFF;\n",
              "    }\n",
              "  </style>\n",
              "\n",
              "      <script>\n",
              "        const buttonEl =\n",
              "          document.querySelector('#df-cbc02630-20cc-4ad3-896b-1ecc84815559 button.colab-df-convert');\n",
              "        buttonEl.style.display =\n",
              "          google.colab.kernel.accessAllowed ? 'block' : 'none';\n",
              "\n",
              "        async function convertToInteractive(key) {\n",
              "          const element = document.querySelector('#df-cbc02630-20cc-4ad3-896b-1ecc84815559');\n",
              "          const dataTable =\n",
              "            await google.colab.kernel.invokeFunction('convertToInteractive',\n",
              "                                                     [key], {});\n",
              "          if (!dataTable) return;\n",
              "\n",
              "          const docLinkHtml = 'Like what you see? Visit the ' +\n",
              "            '<a target=\"_blank\" href=https://colab.research.google.com/notebooks/data_table.ipynb>data table notebook</a>'\n",
              "            + ' to learn more about interactive tables.';\n",
              "          element.innerHTML = '';\n",
              "          dataTable['output_type'] = 'display_data';\n",
              "          await google.colab.output.renderOutput(dataTable, element);\n",
              "          const docLink = document.createElement('div');\n",
              "          docLink.innerHTML = docLinkHtml;\n",
              "          element.appendChild(docLink);\n",
              "        }\n",
              "      </script>\n",
              "    </div>\n",
              "  </div>\n",
              "  "
            ],
            "text/plain": [
              "         city  count\n",
              "0   Las Vegas  26775\n",
              "1     Phoenix  17213\n",
              "2     Toronto  17206\n",
              "3   Charlotte   8553\n",
              "4  Scottsdale   8228\n",
              "5  Pittsburgh   6355\n",
              "6        Mesa   5760\n",
              "7    Montréal   5709\n",
              "8   Henderson   4465\n",
              "9       Tempe   4263"
            ]
          },
          "execution_count": 20,
          "metadata": {},
          "output_type": "execute_result"
        }
      ],
      "source": [
        "pdf_top10"
      ]
    },
    {
      "cell_type": "markdown",
      "metadata": {
        "id": "5GwvepvRsbga"
      },
      "source": [
        "## Exploratory Data Analysis"
      ]
    },
    {
      "cell_type": "code",
      "execution_count": null,
      "metadata": {
        "colab": {
          "base_uri": "https://localhost:8080/",
          "height": 451
        },
        "id": "QeyZQhI5mTVc",
        "outputId": "88ea5aa2-8a72-4635-e518-9d93354fa377"
      },
      "outputs": [
        {
          "data": {
            "image/png": "[encoded data removed]",
            "text/plain": [
              "<Figure size 720x432 with 1 Axes>"
            ]
          },
          "metadata": {},
          "output_type": "display_data"
        }
      ],
      "source": [
        "city = pdf_top10['city']\n",
        "counts = pdf_top10['count']\n",
        "fig = plt.figure(figsize=(10,6))\n",
        "plt.bar(city, counts, color ='orange',\n",
        "        width = 0.4)\n",
        "plt.xlabel('City', fontsize=15)\n",
        "plt.xticks(rotation=45,fontsize=11)\n",
        "plt.ylabel('No. of Businesses', fontsize=15)\n",
        "plt.title('Top 10 Cities with Maximum Businesses', fontsize=15);"
      ]
    },
    {
      "cell_type": "code",
      "execution_count": null,
      "metadata": {
        "id": "R8_RRyj8z0dh"
      },
      "outputs": [],
      "source": [
        "open = business.select('business_id','is_open')\n",
        "open = open.groupby('is_open').count()"
      ]
    },
    {
      "cell_type": "code",
      "execution_count": null,
      "metadata": {
        "id": "KuEbfMmXz0gO"
      },
      "outputs": [],
      "source": [
        "opendf = open.toPandas()"
      ]
    },
    {
      "cell_type": "code",
      "execution_count": null,
      "metadata": {
        "colab": {
          "base_uri": "https://localhost:8080/",
          "height": 112
        },
        "id": "GUNsCYZTz0ku",
        "outputId": "f046d0a3-d18d-46cd-f75a-40cd551b967e"
      },
      "outputs": [
        {
          "data": {
            "text/html": [
              "\n",
              "  <div id=\"df-910337a1-eff6-4d34-981e-6f1a6d72106e\">\n",
              "    <div class=\"colab-df-container\">\n",
              "      <div>\n",
              "<style scoped>\n",
              "    .dataframe tbody tr th:only-of-type {\n",
              "        vertical-align: middle;\n",
              "    }\n",
              "\n",
              "    .dataframe tbody tr th {\n",
              "        vertical-align: top;\n",
              "    }\n",
              "\n",
              "    .dataframe thead th {\n",
              "        text-align: right;\n",
              "    }\n",
              "</style>\n",
              "<table border=\"1\" class=\"dataframe\">\n",
              "  <thead>\n",
              "    <tr style=\"text-align: right;\">\n",
              "      <th></th>\n",
              "      <th>is_open</th>\n",
              "      <th>count</th>\n",
              "    </tr>\n",
              "  </thead>\n",
              "  <tbody>\n",
              "    <tr>\n",
              "      <th>0</th>\n",
              "      <td>0</td>\n",
              "      <td>27865</td>\n",
              "    </tr>\n",
              "    <tr>\n",
              "      <th>1</th>\n",
              "      <td>1</td>\n",
              "      <td>146702</td>\n",
              "    </tr>\n",
              "  </tbody>\n",
              "</table>\n",
              "</div>\n",
              "      <button class=\"colab-df-convert\" onclick=\"convertToInteractive('df-910337a1-eff6-4d34-981e-6f1a6d72106e')\"\n",
              "              title=\"Convert this dataframe to an interactive table.\"\n",
              "              style=\"display:none;\">\n",
              "        \n",
              "  <svg xmlns=\"http://www.w3.org/2000/svg\" height=\"24px\"viewBox=\"0 0 24 24\"\n",
              "       width=\"24px\">\n",
              "    <path d=\"M0 0h24v24H0V0z\" fill=\"none\"/>\n",
              "    <path d=\"M18.56 5.44l.94 2.06.94-2.06 2.06-.94-2.06-.94-.94-2.06-.94 2.06-2.06.94zm-11 1L8.5 8.5l.94-2.06 2.06-.94-2.06-.94L8.5 2.5l-.94 2.06-2.06.94zm10 10l.94 2.06.94-2.06 2.06-.94-2.06-.94-.94-2.06-.94 2.06-2.06.94z\"/><path d=\"M17.41 7.96l-1.37-1.37c-.4-.4-.92-.59-1.43-.59-.52 0-1.04.2-1.43.59L10.3 9.45l-7.72 7.72c-.78.78-.78 2.05 0 2.83L4 21.41c.39.39.9.59 1.41.59.51 0 1.02-.2 1.41-.59l7.78-7.78 2.81-2.81c.8-.78.8-2.07 0-2.86zM5.41 20L4 18.59l7.72-7.72 1.47 1.35L5.41 20z\"/>\n",
              "  </svg>\n",
              "      </button>\n",
              "      \n",
              "  <style>\n",
              "    .colab-df-container {\n",
              "      display:flex;\n",
              "      flex-wrap:wrap;\n",
              "      gap: 12px;\n",
              "    }\n",
              "\n",
              "    .colab-df-convert {\n",
              "      background-color: #E8F0FE;\n",
              "      border: none;\n",
              "      border-radius: 50%;\n",
              "      cursor: pointer;\n",
              "      display: none;\n",
              "      fill: #1967D2;\n",
              "      height: 32px;\n",
              "      padding: 0 0 0 0;\n",
              "      width: 32px;\n",
              "    }\n",
              "\n",
              "    .colab-df-convert:hover {\n",
              "      background-color: #E2EBFA;\n",
              "      box-shadow: 0px 1px 2px rgba(60, 64, 67, 0.3), 0px 1px 3px 1px rgba(60, 64, 67, 0.15);\n",
              "      fill: #174EA6;\n",
              "    }\n",
              "\n",
              "    [theme=dark] .colab-df-convert {\n",
              "      background-color: #3B4455;\n",
              "      fill: #D2E3FC;\n",
              "    }\n",
              "\n",
              "    [theme=dark] .colab-df-convert:hover {\n",
              "      background-color: #434B5C;\n",
              "      box-shadow: 0px 1px 3px 1px rgba(0, 0, 0, 0.15);\n",
              "      filter: drop-shadow(0px 1px 2px rgba(0, 0, 0, 0.3));\n",
              "      fill: #FFFFFF;\n",
              "    }\n",
              "  </style>\n",
              "\n",
              "      <script>\n",
              "        const buttonEl =\n",
              "          document.querySelector('#df-910337a1-eff6-4d34-981e-6f1a6d72106e button.colab-df-convert');\n",
              "        buttonEl.style.display =\n",
              "          google.colab.kernel.accessAllowed ? 'block' : 'none';\n",
              "\n",
              "        async function convertToInteractive(key) {\n",
              "          const element = document.querySelector('#df-910337a1-eff6-4d34-981e-6f1a6d72106e');\n",
              "          const dataTable =\n",
              "            await google.colab.kernel.invokeFunction('convertToInteractive',\n",
              "                                                     [key], {});\n",
              "          if (!dataTable) return;\n",
              "\n",
              "          const docLinkHtml = 'Like what you see? Visit the ' +\n",
              "            '<a target=\"_blank\" href=https://colab.research.google.com/notebooks/data_table.ipynb>data table notebook</a>'\n",
              "            + ' to learn more about interactive tables.';\n",
              "          element.innerHTML = '';\n",
              "          dataTable['output_type'] = 'display_data';\n",
              "          await google.colab.output.renderOutput(dataTable, element);\n",
              "          const docLink = document.createElement('div');\n",
              "          docLink.innerHTML = docLinkHtml;\n",
              "          element.appendChild(docLink);\n",
              "        }\n",
              "      </script>\n",
              "    </div>\n",
              "  </div>\n",
              "  "
            ],
            "text/plain": [
              "  is_open   count\n",
              "0       0   27865\n",
              "1       1  146702"
            ]
          },
          "execution_count": 24,
          "metadata": {},
          "output_type": "execute_result"
        }
      ],
      "source": [
        "opendf"
      ]
    },
    {
      "cell_type": "code",
      "execution_count": null,
      "metadata": {
        "colab": {
          "base_uri": "https://localhost:8080/",
          "height": 375
        },
        "id": "99wJ7y8-z0mJ",
        "outputId": "ec422427-230b-4cae-9611-b17aef95e925"
      },
      "outputs": [
        {
          "data": {
            "image/png": "[encoded data removed]",
            "text/plain": [
              "<Figure size 720x432 with 1 Axes>"
            ]
          },
          "metadata": {},
          "output_type": "display_data"
        }
      ],
      "source": [
        "is_open = opendf['is_open']\n",
        "counts = opendf['count']\n",
        "fig = plt.figure(figsize=(10,6))\n",
        "plt.pie(counts,labels=is_open,autopct='%1.1f%%')\n",
        "plt.legend()\n",
        "plt.title('Share of Open vs Closed Restaurants', fontsize=15);"
      ]
    },
    {
      "cell_type": "code",
      "execution_count": null,
      "metadata": {
        "colab": {
          "base_uri": "https://localhost:8080/"
        },
        "id": "Q-A-gEZdYaO7",
        "outputId": "78156044-456c-48fc-d4a5-fd4f71c0de67"
      },
      "outputs": [
        {
          "name": "stdout",
          "output_type": "stream",
          "text": [
            "+--------------------+--------------------+------------+--------------------+-----------+-----+-----------+-------------+-------------+-----+------------+-------+--------------------+\n",
            "|         business_id|                name|neighborhood|             address|       city|state|postal_code|     latitude|    longitude|stars|review_count|is_open|          categories|\n",
            "+--------------------+--------------------+------------+--------------------+-----------+-----+-----------+-------------+-------------+-----+------------+-------+--------------------+\n",
            "|qzA-93v2lwf9qnCOP...|\"Scarborough Deaf...|        null|       \"Vernon Road\"|Scarborough|  NYK|       YO11|   54.2799201|   -0.4000427|  4.0|           4|      1|Public Services &...|\n",
            "|PjzIBRm4pxV_mivCZ...|\"Duke Of Wellington\"|        null|       \"2 West Lane\"|     Whitby|  NYK|   YO21 2LY|   54.4686545|   -0.9092471|  5.0|           3|      1|Hotels & Travel;E...|\n",
            "|PX9ceQzCEX5AEn73_...|   \"the coffee bean\"|        null|   \"columbus ravine\"|Scarborough|  NYK|   YO12 7QU|   54.2873803|   -0.4089952|  4.0|           5|      1|   Food;Coffee & Tea|\n",
            "|Rv7TH2KWTUXpjFPwT...|     \"Bonnet & Sons\"|        null|\"38-40 Huntriss Row\"|Scarborough|  NYK|   YO11 2EF|   54.2814763|   -0.3999851|  3.5|           3|      1|Coffee & Tea;Food...|\n",
            "|zIYzpJ70IEgQI_kAZ...|       \"Nippy Taxis\"|        null|       \"Albion Road\"|Scarborough|  NYK|   YO11 2BT|      54.2753|    -0.401067|  2.5|           3|      1|Hotels & Travel;T...|\n",
            "|qFBEXTIBrAsTsAGaM...| \"Mainline Menswear\"|        null|  \"10a Huntriss Row\"|Scarborough|  NYK|   YO11 2EF|   54.2814763|   -0.3999851|  3.5|           3|      1|Shopping;Men's Cl...|\n",
            "|Wijq97TO27mhi_OG-...|\"Golden Grid Rest...|        null|        \"4 Sandside\"|Scarborough|  NYK|   YO11 1PE|   54.2840732|   -0.3912098|  3.5|           3|      1| Seafood;Restaurants|\n",
            "|zadkJh0PvDYhP8sw0...|\"Scarborough Rail...|        null|       \"Westborough\"|Scarborough|  NYK|   YO11 1JW| 54.279960391|-0.4053468461|  3.0|           3|      1|Train Stations;Ho...|\n",
            "|2LdSbmZnJJS5Diwva...|\"Saba Thai Restau...|        null|                  \"\"|Scarborough|  NYK|       null|    54.283113|    -0.399752|  3.5|           6|      1|            Shopping|\n",
            "|xcPmvEfUMlgUFfLmr...|         \"Pattisons\"|        null|\"72-74 Falsgrave ...|Scarborough|  NYK|   YO12 5AZ|   54.2765502|   -0.4137744|  3.5|           3|      1|Shopping;Flowers ...|\n",
            "|-wx3Z8TQAB8gQKhDP...|         \"Itis Itis\"|        null|    \"77 Castle Road\"|Scarborough|  NYK|   YO11 1BH|   54.2850158|   -0.4018757|  2.0|           3|      1| Pubs;Bars;Nightlife|\n",
            "|qsmphm6eyhGon4pHO...|   \"RockStar Tattoo\"|        null|         \"3 Dean Rd\"|Scarborough|  NYK|   YO12 7SN|54.2847175598|-0.4044390023|  5.0|           7|      1|Beauty & Spas;Pie...|\n",
            "|R9q2ddnzAvzK4RTBv...|\"robin hoods bay ...|        null|                  \"\"|     Whitby|  NYK|       null|    54.486335|    -0.613347|  4.0|           4|      1|         Active Life|\n",
            "|fOKFU8c2DVuKSCQOx...|\"Robert's Garden ...|        null|     \"23 Newborough\"|Scarborough|  NYK|   YO11 1BA|      54.2818|    -0.401802|  4.5|           3|      1|Gift Shops;Shoppi...|\n",
            "|l2M67j_7O0fOJiE28...| \"Station Tea Rooms\"|        null|\"Station Lane, St...|Scarborough|  NYK|   YO13 0AD|   54.3326087|    -0.446601|  4.5|           3|      1|Restaurants;Coffe...|\n",
            "|4o0uJ9iuh2D3qiw07...|        \"New Tavern\"|        null|\"131 Falsgrave Road\"|Scarborough|  NYK|   YO12 5EY|    54.276787|   -0.4165243|  3.0|           5|      1| Nightlife;Pubs;Bars|\n",
            "|3y5kPTXhLlyG8ZDZy...|\"Beckett's Coffee...|        null|  \"9 Skinner Street\"|     Whitby|  NYK|   YO21 3AD|   54.4869774|   -0.6172311|  5.0|           5|      1|Food;Restaurants;...|\n",
            "|mOgLOq01wZ8MVAGjY...|    \"The Green Room\"|        null| \"138 Victoria Road\"|Scarborough|  NYK|   YO11 1SL|   54.2802156|   -0.4078675|  4.5|           3|      1|         Restaurants|\n",
            "|fspp2HRzbg268BYhb...|\"McDonald's Resta...|        null|\"11-17 Huntriss Row\"|Scarborough|  NYK|   YO11 2ED|   54.2814563|   -0.4005081|  2.5|           3|      1|Restaurants;Ameri...|\n",
            "|TwbTw37N1NluGNthA...|\"Crown Spa Health...|        null|\"Crown Spa Hotel ...|Scarborough|  NYK|       YO11|    54.283113|    -0.399752|  4.5|           3|      1|Massage;Beauty & ...|\n",
            "+--------------------+--------------------+------------+--------------------+-----------+-----+-----------+-------------+-------------+-----+------------+-------+--------------------+\n",
            "only showing top 20 rows\n",
            "\n"
          ]
        }
      ],
      "source": [
        "business.filter(business.state.isin('NYK')).show()"
      ]
    },
    {
      "cell_type": "code",
      "execution_count": null,
      "metadata": {
        "colab": {
          "base_uri": "https://localhost:8080/"
        },
        "id": "HVkI-8sDxgPQ",
        "outputId": "4c14207a-8387-419e-cece-b4bf699245f8"
      },
      "outputs": [
        {
          "name": "stdout",
          "output_type": "stream",
          "text": [
            "+----------------+-----+\n",
            "|category        |count|\n",
            "+----------------+-----+\n",
            "|Restaurants     |54618|\n",
            "|Shopping        |27971|\n",
            "|Food            |24777|\n",
            "|Beauty & Spas   |17014|\n",
            "|Home Services   |16205|\n",
            "|Health & Medical|14230|\n",
            "|Nightlife       |12154|\n",
            "|Local Services  |11232|\n",
            "|Automotive      |11052|\n",
            "|Bars            |10563|\n",
            "+----------------+-----+\n",
            "only showing top 10 rows\n",
            "\n"
          ]
        }
      ],
      "source": [
        "from pyspark.sql.functions import split,explode\n",
        "category = business.select('categories')\n",
        "individual_category = category.select(explode(split('categories', ';')).alias('category'))\n",
        "grouped_category = individual_category.groupby('category').count()\n",
        "top_category = grouped_category.sort('count',ascending=False)\n",
        "top_category.show(10,truncate=False)"
      ]
    },
    {
      "cell_type": "code",
      "execution_count": null,
      "metadata": {
        "id": "CuKW2A62xgST"
      },
      "outputs": [],
      "source": [
        "categorydf = top_category.toPandas()"
      ]
    },
    {
      "cell_type": "code",
      "execution_count": null,
      "metadata": {
        "id": "xgs7R2eUxgVZ"
      },
      "outputs": [],
      "source": [
        "categorydf_top10 = categorydf.head(10)"
      ]
    },
    {
      "cell_type": "code",
      "execution_count": null,
      "metadata": {
        "colab": {
          "base_uri": "https://localhost:8080/",
          "height": 363
        },
        "id": "JKYrlr-rxgYl",
        "outputId": "40be4b6a-6192-4e85-e2d3-aa3abbb2226e"
      },
      "outputs": [
        {
          "data": {
            "text/html": [
              "\n",
              "  <div id=\"df-ca22e053-96e8-4827-a98d-90135587215b\">\n",
              "    <div class=\"colab-df-container\">\n",
              "      <div>\n",
              "<style scoped>\n",
              "    .dataframe tbody tr th:only-of-type {\n",
              "        vertical-align: middle;\n",
              "    }\n",
              "\n",
              "    .dataframe tbody tr th {\n",
              "        vertical-align: top;\n",
              "    }\n",
              "\n",
              "    .dataframe thead th {\n",
              "        text-align: right;\n",
              "    }\n",
              "</style>\n",
              "<table border=\"1\" class=\"dataframe\">\n",
              "  <thead>\n",
              "    <tr style=\"text-align: right;\">\n",
              "      <th></th>\n",
              "      <th>category</th>\n",
              "      <th>count</th>\n",
              "    </tr>\n",
              "  </thead>\n",
              "  <tbody>\n",
              "    <tr>\n",
              "      <th>0</th>\n",
              "      <td>Restaurants</td>\n",
              "      <td>54618</td>\n",
              "    </tr>\n",
              "    <tr>\n",
              "      <th>1</th>\n",
              "      <td>Shopping</td>\n",
              "      <td>27971</td>\n",
              "    </tr>\n",
              "    <tr>\n",
              "      <th>2</th>\n",
              "      <td>Food</td>\n",
              "      <td>24777</td>\n",
              "    </tr>\n",
              "    <tr>\n",
              "      <th>3</th>\n",
              "      <td>Beauty &amp; Spas</td>\n",
              "      <td>17014</td>\n",
              "    </tr>\n",
              "    <tr>\n",
              "      <th>4</th>\n",
              "      <td>Home Services</td>\n",
              "      <td>16205</td>\n",
              "    </tr>\n",
              "    <tr>\n",
              "      <th>5</th>\n",
              "      <td>Health &amp; Medical</td>\n",
              "      <td>14230</td>\n",
              "    </tr>\n",
              "    <tr>\n",
              "      <th>6</th>\n",
              "      <td>Nightlife</td>\n",
              "      <td>12154</td>\n",
              "    </tr>\n",
              "    <tr>\n",
              "      <th>7</th>\n",
              "      <td>Local Services</td>\n",
              "      <td>11232</td>\n",
              "    </tr>\n",
              "    <tr>\n",
              "      <th>8</th>\n",
              "      <td>Automotive</td>\n",
              "      <td>11052</td>\n",
              "    </tr>\n",
              "    <tr>\n",
              "      <th>9</th>\n",
              "      <td>Bars</td>\n",
              "      <td>10563</td>\n",
              "    </tr>\n",
              "  </tbody>\n",
              "</table>\n",
              "</div>\n",
              "      <button class=\"colab-df-convert\" onclick=\"convertToInteractive('df-ca22e053-96e8-4827-a98d-90135587215b')\"\n",
              "              title=\"Convert this dataframe to an interactive table.\"\n",
              "              style=\"display:none;\">\n",
              "        \n",
              "  <svg xmlns=\"http://www.w3.org/2000/svg\" height=\"24px\"viewBox=\"0 0 24 24\"\n",
              "       width=\"24px\">\n",
              "    <path d=\"M0 0h24v24H0V0z\" fill=\"none\"/>\n",
              "    <path d=\"M18.56 5.44l.94 2.06.94-2.06 2.06-.94-2.06-.94-.94-2.06-.94 2.06-2.06.94zm-11 1L8.5 8.5l.94-2.06 2.06-.94-2.06-.94L8.5 2.5l-.94 2.06-2.06.94zm10 10l.94 2.06.94-2.06 2.06-.94-2.06-.94-.94-2.06-.94 2.06-2.06.94z\"/><path d=\"M17.41 7.96l-1.37-1.37c-.4-.4-.92-.59-1.43-.59-.52 0-1.04.2-1.43.59L10.3 9.45l-7.72 7.72c-.78.78-.78 2.05 0 2.83L4 21.41c.39.39.9.59 1.41.59.51 0 1.02-.2 1.41-.59l7.78-7.78 2.81-2.81c.8-.78.8-2.07 0-2.86zM5.41 20L4 18.59l7.72-7.72 1.47 1.35L5.41 20z\"/>\n",
              "  </svg>\n",
              "      </button>\n",
              "      \n",
              "  <style>\n",
              "    .colab-df-container {\n",
              "      display:flex;\n",
              "      flex-wrap:wrap;\n",
              "      gap: 12px;\n",
              "    }\n",
              "\n",
              "    .colab-df-convert {\n",
              "      background-color: #E8F0FE;\n",
              "      border: none;\n",
              "      border-radius: 50%;\n",
              "      cursor: pointer;\n",
              "      display: none;\n",
              "      fill: #1967D2;\n",
              "      height: 32px;\n",
              "      padding: 0 0 0 0;\n",
              "      width: 32px;\n",
              "    }\n",
              "\n",
              "    .colab-df-convert:hover {\n",
              "      background-color: #E2EBFA;\n",
              "      box-shadow: 0px 1px 2px rgba(60, 64, 67, 0.3), 0px 1px 3px 1px rgba(60, 64, 67, 0.15);\n",
              "      fill: #174EA6;\n",
              "    }\n",
              "\n",
              "    [theme=dark] .colab-df-convert {\n",
              "      background-color: #3B4455;\n",
              "      fill: #D2E3FC;\n",
              "    }\n",
              "\n",
              "    [theme=dark] .colab-df-convert:hover {\n",
              "      background-color: #434B5C;\n",
              "      box-shadow: 0px 1px 3px 1px rgba(0, 0, 0, 0.15);\n",
              "      filter: drop-shadow(0px 1px 2px rgba(0, 0, 0, 0.3));\n",
              "      fill: #FFFFFF;\n",
              "    }\n",
              "  </style>\n",
              "\n",
              "      <script>\n",
              "        const buttonEl =\n",
              "          document.querySelector('#df-ca22e053-96e8-4827-a98d-90135587215b button.colab-df-convert');\n",
              "        buttonEl.style.display =\n",
              "          google.colab.kernel.accessAllowed ? 'block' : 'none';\n",
              "\n",
              "        async function convertToInteractive(key) {\n",
              "          const element = document.querySelector('#df-ca22e053-96e8-4827-a98d-90135587215b');\n",
              "          const dataTable =\n",
              "            await google.colab.kernel.invokeFunction('convertToInteractive',\n",
              "                                                     [key], {});\n",
              "          if (!dataTable) return;\n",
              "\n",
              "          const docLinkHtml = 'Like what you see? Visit the ' +\n",
              "            '<a target=\"_blank\" href=https://colab.research.google.com/notebooks/data_table.ipynb>data table notebook</a>'\n",
              "            + ' to learn more about interactive tables.';\n",
              "          element.innerHTML = '';\n",
              "          dataTable['output_type'] = 'display_data';\n",
              "          await google.colab.output.renderOutput(dataTable, element);\n",
              "          const docLink = document.createElement('div');\n",
              "          docLink.innerHTML = docLinkHtml;\n",
              "          element.appendChild(docLink);\n",
              "        }\n",
              "      </script>\n",
              "    </div>\n",
              "  </div>\n",
              "  "
            ],
            "text/plain": [
              "           category  count\n",
              "0       Restaurants  54618\n",
              "1          Shopping  27971\n",
              "2              Food  24777\n",
              "3     Beauty & Spas  17014\n",
              "4     Home Services  16205\n",
              "5  Health & Medical  14230\n",
              "6         Nightlife  12154\n",
              "7    Local Services  11232\n",
              "8        Automotive  11052\n",
              "9              Bars  10563"
            ]
          },
          "execution_count": 30,
          "metadata": {},
          "output_type": "execute_result"
        }
      ],
      "source": [
        "categorydf_top10"
      ]
    },
    {
      "cell_type": "code",
      "execution_count": null,
      "metadata": {
        "colab": {
          "base_uri": "https://localhost:8080/",
          "height": 475
        },
        "id": "CGC4Bdloxga8",
        "outputId": "e6331ba5-9a0b-44be-8eb1-a22018002323"
      },
      "outputs": [
        {
          "data": {
            "image/png": "[encoded data removed]",
            "text/plain": [
              "<Figure size 720x432 with 1 Axes>"
            ]
          },
          "metadata": {},
          "output_type": "display_data"
        }
      ],
      "source": [
        "category = categorydf_top10['category']\n",
        "counts = categorydf_top10['count']\n",
        "fig = plt.figure(figsize=(10,6))\n",
        "plt.bar(category, counts, color ='red')\n",
        "plt.xlabel('Category', fontsize=15)\n",
        "plt.xticks(rotation = 45,fontsize=11)\n",
        "plt.ylabel('Number of Businesses Listing This Category', fontsize=15)\n",
        "plt.title('Most Famous Categories from Yelp', fontsize=15);"
      ]
    },
    {
      "cell_type": "code",
      "execution_count": null,
      "metadata": {
        "id": "wZrrhrCTxgdb"
      },
      "outputs": [],
      "source": [
        "stars = business.select('stars','business_id')\n",
        "stars_group = stars.groupby('stars').count()\n",
        "stars_sorted = stars_group.sort('stars',ascending=True)"
      ]
    },
    {
      "cell_type": "code",
      "execution_count": null,
      "metadata": {
        "id": "RWKZImCqxgig"
      },
      "outputs": [],
      "source": [
        "starsdf = stars_sorted.toPandas()"
      ]
    },
    {
      "cell_type": "code",
      "execution_count": null,
      "metadata": {
        "colab": {
          "base_uri": "https://localhost:8080/",
          "height": 411
        },
        "id": "mwi4mqYG7SAH",
        "outputId": "7c38136a-e01e-4765-d4fa-3d0d80f85f23"
      },
      "outputs": [
        {
          "data": {
            "image/png": "[encoded data removed]",
            "text/plain": [
              "<Figure size 720x432 with 1 Axes>"
            ]
          },
          "metadata": {},
          "output_type": "display_data"
        }
      ],
      "source": [
        "stars = starsdf['stars']\n",
        "counts = starsdf['count']\n",
        "fig = plt.figure(figsize=(10,6))\n",
        "plt.bar(stars, counts, color=['C0', 'C1', 'C2', 'C3', 'C4','C5','C6','C7','C8'])\n",
        "plt.xlabel('Stars', fontsize=15)\n",
        "plt.xticks(fontsize=11)\n",
        "plt.ylabel('No. of Businesses', fontsize=15)\n",
        "plt.title('Rating Distribution of Businesses', fontsize=15);"
      ]
    },
    {
      "cell_type": "code",
      "execution_count": null,
      "metadata": {
        "id": "8V4jaU4T905T"
      },
      "outputs": [],
      "source": [
        "business_pop = business.select('business_id','name','review_count','stars')"
      ]
    },
    {
      "cell_type": "code",
      "execution_count": null,
      "metadata": {
        "id": "1xvyeuCk-VUm"
      },
      "outputs": [],
      "source": [
        "import pyspark.sql.functions as F\n",
        "business_popular = business_pop.withColumn(\"Stars_Rating\", F.col(\"stars\")*F.col(\"review_count\"))"
      ]
    },
    {
      "cell_type": "code",
      "execution_count": null,
      "metadata": {
        "id": "8YZvDZPSAIf2"
      },
      "outputs": [],
      "source": [
        "most_popular = business_popular.sort('Stars_Rating',ascending=False)"
      ]
    },
    {
      "cell_type": "code",
      "execution_count": null,
      "metadata": {
        "id": "DGfu1HvQAeoL"
      },
      "outputs": [],
      "source": [
        "top_10_pop = most_popular.limit(10)"
      ]
    },
    {
      "cell_type": "code",
      "execution_count": null,
      "metadata": {
        "id": "V1KYq6iSA-0H"
      },
      "outputs": [],
      "source": [
        "top10df = top_10_pop.toPandas()"
      ]
    },
    {
      "cell_type": "code",
      "execution_count": null,
      "metadata": {
        "colab": {
          "base_uri": "https://localhost:8080/",
          "height": 584
        },
        "id": "q_ci9rLxBGmj",
        "outputId": "e3834f3d-30cf-4bca-fb06-cd1a0e76d3f1"
      },
      "outputs": [
        {
          "data": {
            "image/png": "[encoded data removed]",
            "text/plain": [
              "<Figure size 720x432 with 1 Axes>"
            ]
          },
          "metadata": {},
          "output_type": "display_data"
        }
      ],
      "source": [
        "name = top10df['name']\n",
        "popularity = top10df['Stars_Rating']\n",
        "fig = plt.figure(figsize=(10,6))\n",
        "plt.bar(name, popularity, color ='indigo')\n",
        "plt.xlabel('Business Name', fontsize=15)\n",
        "plt.xticks(rotation = 90,fontsize=11)\n",
        "plt.ylabel('Popularity', fontsize=15)\n",
        "plt.title('Most Popular Businesses', fontsize=15);"
      ]
    },
    {
      "cell_type": "markdown",
      "metadata": {
        "id": "Lx2QB557sVIh"
      },
      "source": [
        "## Review Data Set"
      ]
    },
    {
      "cell_type": "code",
      "execution_count": null,
      "metadata": {
        "id": "Q9Sq067csQBw"
      },
      "outputs": [],
      "source": [
        "review = spark.read.format(\"csv\").option(\"header\",\"true\").option(\"delimiter\",\",\").option(\"quote\", \"\\\"\").option(\"escape\", \"\\\"\").load(\"/content/gdrive/MyDrive/Scalable/yelp-dataset/yelp_review.csv\")"
      ]
    },
    {
      "cell_type": "code",
      "execution_count": null,
      "metadata": {
        "colab": {
          "base_uri": "https://localhost:8080/"
        },
        "id": "fyCvS6QXle9c",
        "outputId": "f6280d76-3dbf-4e48-d017-a2e0fd871a4c"
      },
      "outputs": [
        {
          "name": "stdout",
          "output_type": "stream",
          "text": [
            "root\n",
            " |-- review_id: string (nullable = true)\n",
            " |-- user_id: string (nullable = true)\n",
            " |-- business_id: string (nullable = true)\n",
            " |-- stars: string (nullable = true)\n",
            " |-- date: string (nullable = true)\n",
            " |-- text: string (nullable = true)\n",
            " |-- useful: string (nullable = true)\n",
            " |-- funny: string (nullable = true)\n",
            " |-- cool: string (nullable = true)\n",
            "\n"
          ]
        }
      ],
      "source": [
        "review.printSchema()"
      ]
    },
    {
      "cell_type": "code",
      "execution_count": null,
      "metadata": {
        "colab": {
          "base_uri": "https://localhost:8080/"
        },
        "id": "seq6bBLjlkJ9",
        "outputId": "0cff80d7-ead8-4045-e83a-80ccc8b679b2"
      },
      "outputs": [
        {
          "name": "stdout",
          "output_type": "stream",
          "text": [
            "+--------------------+--------------------+--------------------+-----+----------+--------------------+------+-----+----+\n",
            "|           review_id|             user_id|         business_id|stars|      date|                text|useful|funny|cool|\n",
            "+--------------------+--------------------+--------------------+-----+----------+--------------------+------+-----+----+\n",
            "|vkVSCC7xljjrAI4UG...|bv2nCi5Qv5vroFiqK...|AEx2SYEUJmTxVVB18...|    5|2016-05-28|Super simple plac...|  null| null|null|\n",
            "|n6QzIUObkYshz4dz2...|bv2nCi5Qv5vroFiqK...|VR6GpWIda3SfvPC-l...|    5|2016-05-28|Small unassuming ...|  null| null|null|\n",
            "|MV3CcKScW05u5LVfF...|bv2nCi5Qv5vroFiqK...|CKC0-MOWMqoeWf6s-...|    5|2016-05-28|Lester's is locat...|  null| null|null|\n",
            "|IXvOzsEMYtiJI0CAR...|bv2nCi5Qv5vroFiqK...|ACFtxLv8pGrrxMm6E...|    4|2016-05-28|Love coming here....|  null| null|null|\n",
            "|L_9BTb55X0GDtThi6...|bv2nCi5Qv5vroFiqK...|s2I_Ni76bjJNK9yG6...|    4|2016-05-28|Had their chocola...|  null| null|null|\n",
            "|HRPm3vEZ_F-33TYVT...|_4iMDXbXZ1p1ONG29...|8QWPlVQ6D-OExqXoa...|    5|2014-09-24|Cycle Pub Las Veg...|     1|    0|   0|\n",
            "|ymAUG8DZfQcFTBSOi...|u0LXt3Uea_GidxRW1...|9_CGhHMz8698M9-Pk...|    4|2012-05-11|Who would have gu...|  null| null|null|\n",
            "|8UIishPUD92hXtScS...|u0LXt3Uea_GidxRW1...|gkCorLgPyQLsptTHa...|    4|2015-10-27|Always drove past...|  null| null|null|\n",
            "|w41ZS9shepfO3uEyh...|u0LXt3Uea_GidxRW1...|5r6-G9C4YLbC7Ziz5...|    3|2013-02-09|Not bad!! Love th...|  null| null|null|\n",
            "|WF_QTN3p-thD74hqp...|u0LXt3Uea_GidxRW1...|fDF_o2JPU8BR1Gya-...|    5|2016-04-06|    Love this place!|  null| null|null|\n",
            "|PIsUSmvaUWB00qv5K...|u0LXt3Uea_GidxRW1...|z8oIoCT1cXz7gZP5G...|    4|2013-05-01|This is currently...|  null| null|null|\n",
            "|PdZ_uFjbbkjtm3SCY...|u0LXt3Uea_GidxRW1...|XWTPNfskXoUL-Lf32...|    3|2011-09-28|Server was a litt...|  null| null|null|\n",
            "|x5oV6wm9_Pb1QQ6jk...|u0LXt3Uea_GidxRW1...|13nKUHH-uEUXVZylg...|    1|2011-02-16|I thought Tidy's ...|  null| null|null|\n",
            "|lsoSqIrrDbQvWpMvs...|u0LXt3Uea_GidxRW1...|RtUvSWO_UZ8V3Wpj0...|    3|2012-12-03|Wanted to check o...|  null| null|null|\n",
            "|23eqwlZzCWZkADWfd...|u0LXt3Uea_GidxRW1...|Aov96CM4FZAXeZvKt...|    5|2010-07-16|This place is awe...|  null| null|null|\n",
            "|FunI9om-aK5oMIIJm...|u0LXt3Uea_GidxRW1...|0W4lkclzZThpx3V65...|    4|2011-09-28|a must stop when ...|  null| null|null|\n",
            "|FKu4iU62EmWT6GZXP...|u0LXt3Uea_GidxRW1...|fdnNZMk1NP7ZhL-YM...|    1|2012-10-23|I too have been t...|  null| null|null|\n",
            "|xdu8nXrbNKeaywCX7...|u0LXt3Uea_GidxRW1...|PFPUMF38-lraKzLcT...|    3|2010-09-15|Came here with my...|  null| null|null|\n",
            "|K7o5jDInfmX3cY5oH...|u0LXt3Uea_GidxRW1...|oWTn2IzrprsRkPfUL...|    3|2012-09-23|Came here for a b...|  null| null|null|\n",
            "|WYDFJOBOl7cycd7gN...|u0LXt3Uea_GidxRW1...|zgQHtqX0gqMw1nlBZ...|    1|2012-10-30|really excited to...|  null| null|null|\n",
            "+--------------------+--------------------+--------------------+-----+----------+--------------------+------+-----+----+\n",
            "only showing top 20 rows\n",
            "\n"
          ]
        }
      ],
      "source": [
        "review = review.filter(review.stars.isin('5', '4', '3', '2', '1'))\n",
        "review = review.filter(\"text is not null\")\n",
        "review = review.filter(\"date is not null\")\n",
        "review = review.withColumn(\"stars\", review['stars'].cast(\"int\"))\n",
        "review = review.filter(\"stars is not null\")\n",
        "review.show()"
      ]
    },
    {
      "cell_type": "code",
      "execution_count": null,
      "metadata": {
        "id": "B-I048p-wcbw"
      },
      "outputs": [],
      "source": [
        "review_filtered = review.select('text', 'stars')"
      ]
    },
    {
      "cell_type": "markdown",
      "metadata": {
        "id": "oikJYbYk5Q-z"
      },
      "source": [
        "## Ranking of Words in Reviews:"
      ]
    },
    {
      "cell_type": "code",
      "execution_count": null,
      "metadata": {
        "id": "Oze5at0LoEwV"
      },
      "outputs": [],
      "source": [
        "lines = review_filtered.rdd.map(tuple)"
      ]
    },
    {
      "cell_type": "code",
      "execution_count": null,
      "metadata": {
        "colab": {
          "base_uri": "https://localhost:8080/"
        },
        "id": "AAlJxxB4qPGy",
        "outputId": "0c8c97f4-293f-4cc8-fa3d-46ed98150e03"
      },
      "outputs": [
        {
          "data": {
            "text/plain": [
              "PythonRDD[99] at RDD at PythonRDD.scala:53"
            ]
          },
          "execution_count": 46,
          "metadata": {},
          "output_type": "execute_result"
        }
      ],
      "source": [
        "lines.persist()"
      ]
    },
    {
      "cell_type": "code",
      "execution_count": null,
      "metadata": {
        "id": "z2bbGr5Rm2oj"
      },
      "outputs": [],
      "source": [
        "stopword_list = set(stopwords.words(\"english\"))\n",
        "def ProcessedText(text):\n",
        "\ttokens = nltk.word_tokenize(text)\n",
        "\tpunct_rem = [word for word in tokens if word.isalpha()]\n",
        "\tremove_stopwords = [word for word in punct_rem if not word in stopword_list]\n",
        "\treturn remove_stopwords"
      ]
    },
    {
      "cell_type": "code",
      "execution_count": null,
      "metadata": {
        "id": "Z88dYnbQodZE"
      },
      "outputs": [],
      "source": [
        "line_5star = lines.filter(lambda x: x[1] == 5)\n",
        "line_4star = lines.filter(lambda x: x[1] == 4)\n",
        "line_3star = lines.filter(lambda x: x[1] == 3)\n",
        "line_2star = lines.filter(lambda x: x[1] == 2)\n",
        "line_1star = lines.filter(lambda x: x[1] == 1)"
      ]
    },
    {
      "cell_type": "code",
      "execution_count": null,
      "metadata": {
        "id": "49pbx8iXodVt"
      },
      "outputs": [],
      "source": [
        "words_5star = line_5star.flatMap(lambda x: ProcessedText(str(x).lower()))\n",
        "words_4star = line_4star.flatMap(lambda x: ProcessedText(str(x).lower()))\n",
        "words_3star = line_3star.flatMap(lambda x: ProcessedText(str(x).lower()))\n",
        "words_2star = line_2star.flatMap(lambda x: ProcessedText(str(x).lower()))\n",
        "words_1star = line_1star.flatMap(lambda x: ProcessedText(str(x).lower()))"
      ]
    },
    {
      "cell_type": "code",
      "execution_count": null,
      "metadata": {
        "id": "QV08ks-kodSW"
      },
      "outputs": [],
      "source": [
        "words_5_freq = words_5star.map(lambda x:(x,1))\n",
        "words_4_freq = words_4star.map(lambda x:(x,1))\n",
        "words_3_freq = words_3star.map(lambda x:(x,1))\n",
        "words_2_freq = words_2star.map(lambda x:(x,1))\n",
        "words_1_freq = words_1star.map(lambda x:(x,1))"
      ]
    },
    {
      "cell_type": "code",
      "execution_count": null,
      "metadata": {
        "id": "cihPSOMUodPe"
      },
      "outputs": [],
      "source": [
        "res_5 = words_5_freq.reduceByKey(lambda x,y:x+y)\n",
        "res_4 = words_4_freq.reduceByKey(lambda x,y:x+y)\n",
        "res_3 = words_3_freq.reduceByKey(lambda x,y:x+y)\n",
        "res_2 = words_2_freq.reduceByKey(lambda x,y:x+y)\n",
        "res_1 = words_1_freq.reduceByKey(lambda x,y:x+y)"
      ]
    },
    {
      "cell_type": "code",
      "execution_count": null,
      "metadata": {
        "colab": {
          "base_uri": "https://localhost:8080/",
          "height": 537
        },
        "id": "DJpP-Vq2odM0",
        "outputId": "92218d19-0915-4f4e-ad6a-e2d18245ff01"
      },
      "outputs": [
        {
          "name": "stderr",
          "output_type": "stream",
          "text": [
            "ERROR:root:KeyboardInterrupt while sending command.\n",
            "Traceback (most recent call last):\n",
            "  File \"/usr/local/lib/python3.7/dist-packages/py4j/java_gateway.py\", line 1038, in send_command\n",
            "    response = connection.send_command(command)\n",
            "  File \"/usr/local/lib/python3.7/dist-packages/py4j/clientserver.py\", line 475, in send_command\n",
            "    answer = smart_decode(self.stream.readline()[:-1])\n",
            "  File \"/usr/lib/python3.7/socket.py\", line 589, in readinto\n",
            "    return self._sock.recv_into(b)\n",
            "KeyboardInterrupt\n"
          ]
        },
        {
          "ename": "KeyboardInterrupt",
          "evalue": "ignored",
          "output_type": "error",
          "traceback": [
            "\u001b[0;31m---------------------------------------------------------------------------\u001b[0m",
            "\u001b[0;31mKeyboardInterrupt\u001b[0m                         Traceback (most recent call last)",
            "\u001b[0;32m<ipython-input-53-fb941a48aea9>\u001b[0m in \u001b[0;36m<module>\u001b[0;34m()\u001b[0m\n\u001b[0;32m----> 1\u001b[0;31m \u001b[0msort_5\u001b[0m \u001b[0;34m=\u001b[0m \u001b[0;34m(\u001b[0m\u001b[0msorted\u001b[0m\u001b[0;34m(\u001b[0m\u001b[0mres_5\u001b[0m\u001b[0;34m.\u001b[0m\u001b[0mcollect\u001b[0m\u001b[0;34m(\u001b[0m\u001b[0;34m)\u001b[0m\u001b[0;34m,\u001b[0m\u001b[0mkey\u001b[0m \u001b[0;34m=\u001b[0m \u001b[0;32mlambda\u001b[0m \u001b[0mx\u001b[0m\u001b[0;34m:\u001b[0m\u001b[0mx\u001b[0m\u001b[0;34m[\u001b[0m\u001b[0;36m1\u001b[0m\u001b[0;34m]\u001b[0m\u001b[0;34m,\u001b[0m\u001b[0mreverse\u001b[0m\u001b[0;34m=\u001b[0m\u001b[0;32mTrue\u001b[0m\u001b[0;34m)\u001b[0m\u001b[0;34m[\u001b[0m\u001b[0;34m:\u001b[0m\u001b[0;36m10\u001b[0m\u001b[0;34m]\u001b[0m\u001b[0;34m)\u001b[0m\u001b[0;34m\u001b[0m\u001b[0;34m\u001b[0m\u001b[0m\n\u001b[0m\u001b[1;32m      2\u001b[0m \u001b[0msort_4\u001b[0m \u001b[0;34m=\u001b[0m \u001b[0;34m(\u001b[0m\u001b[0msorted\u001b[0m\u001b[0;34m(\u001b[0m\u001b[0mres_4\u001b[0m\u001b[0;34m.\u001b[0m\u001b[0mcollect\u001b[0m\u001b[0;34m(\u001b[0m\u001b[0;34m)\u001b[0m\u001b[0;34m,\u001b[0m\u001b[0mkey\u001b[0m \u001b[0;34m=\u001b[0m \u001b[0;32mlambda\u001b[0m \u001b[0mx\u001b[0m\u001b[0;34m:\u001b[0m\u001b[0mx\u001b[0m\u001b[0;34m[\u001b[0m\u001b[0;36m1\u001b[0m\u001b[0;34m]\u001b[0m\u001b[0;34m,\u001b[0m\u001b[0mreverse\u001b[0m\u001b[0;34m=\u001b[0m\u001b[0;32mTrue\u001b[0m\u001b[0;34m)\u001b[0m\u001b[0;34m[\u001b[0m\u001b[0;34m:\u001b[0m\u001b[0;36m10\u001b[0m\u001b[0;34m]\u001b[0m\u001b[0;34m)\u001b[0m\u001b[0;34m\u001b[0m\u001b[0;34m\u001b[0m\u001b[0m\n\u001b[1;32m      3\u001b[0m \u001b[0msort_3\u001b[0m \u001b[0;34m=\u001b[0m \u001b[0;34m(\u001b[0m\u001b[0msorted\u001b[0m\u001b[0;34m(\u001b[0m\u001b[0mres_3\u001b[0m\u001b[0;34m.\u001b[0m\u001b[0mcollect\u001b[0m\u001b[0;34m(\u001b[0m\u001b[0;34m)\u001b[0m\u001b[0;34m,\u001b[0m\u001b[0mkey\u001b[0m \u001b[0;34m=\u001b[0m \u001b[0;32mlambda\u001b[0m \u001b[0mx\u001b[0m\u001b[0;34m:\u001b[0m\u001b[0mx\u001b[0m\u001b[0;34m[\u001b[0m\u001b[0;36m1\u001b[0m\u001b[0;34m]\u001b[0m\u001b[0;34m,\u001b[0m\u001b[0mreverse\u001b[0m\u001b[0;34m=\u001b[0m\u001b[0;32mTrue\u001b[0m\u001b[0;34m)\u001b[0m\u001b[0;34m[\u001b[0m\u001b[0;34m:\u001b[0m\u001b[0;36m10\u001b[0m\u001b[0;34m]\u001b[0m\u001b[0;34m)\u001b[0m\u001b[0;34m\u001b[0m\u001b[0;34m\u001b[0m\u001b[0m\n\u001b[1;32m      4\u001b[0m \u001b[0msort_2\u001b[0m \u001b[0;34m=\u001b[0m \u001b[0;34m(\u001b[0m\u001b[0msorted\u001b[0m\u001b[0;34m(\u001b[0m\u001b[0mres_2\u001b[0m\u001b[0;34m.\u001b[0m\u001b[0mcollect\u001b[0m\u001b[0;34m(\u001b[0m\u001b[0;34m)\u001b[0m\u001b[0;34m,\u001b[0m\u001b[0mkey\u001b[0m \u001b[0;34m=\u001b[0m \u001b[0;32mlambda\u001b[0m \u001b[0mx\u001b[0m\u001b[0;34m:\u001b[0m\u001b[0mx\u001b[0m\u001b[0;34m[\u001b[0m\u001b[0;36m1\u001b[0m\u001b[0;34m]\u001b[0m\u001b[0;34m,\u001b[0m\u001b[0mreverse\u001b[0m\u001b[0;34m=\u001b[0m\u001b[0;32mTrue\u001b[0m\u001b[0;34m)\u001b[0m\u001b[0;34m[\u001b[0m\u001b[0;34m:\u001b[0m\u001b[0;36m10\u001b[0m\u001b[0;34m]\u001b[0m\u001b[0;34m)\u001b[0m\u001b[0;34m\u001b[0m\u001b[0;34m\u001b[0m\u001b[0m\n\u001b[1;32m      5\u001b[0m \u001b[0msort_1\u001b[0m \u001b[0;34m=\u001b[0m \u001b[0;34m(\u001b[0m\u001b[0msorted\u001b[0m\u001b[0;34m(\u001b[0m\u001b[0mres_1\u001b[0m\u001b[0;34m.\u001b[0m\u001b[0mcollect\u001b[0m\u001b[0;34m(\u001b[0m\u001b[0;34m)\u001b[0m\u001b[0;34m,\u001b[0m\u001b[0mkey\u001b[0m \u001b[0;34m=\u001b[0m \u001b[0;32mlambda\u001b[0m \u001b[0mx\u001b[0m\u001b[0;34m:\u001b[0m\u001b[0mx\u001b[0m\u001b[0;34m[\u001b[0m\u001b[0;36m1\u001b[0m\u001b[0;34m]\u001b[0m\u001b[0;34m,\u001b[0m\u001b[0mreverse\u001b[0m\u001b[0;34m=\u001b[0m\u001b[0;32mTrue\u001b[0m\u001b[0;34m)\u001b[0m\u001b[0;34m[\u001b[0m\u001b[0;34m:\u001b[0m\u001b[0;36m10\u001b[0m\u001b[0;34m]\u001b[0m\u001b[0;34m)\u001b[0m\u001b[0;34m\u001b[0m\u001b[0;34m\u001b[0m\u001b[0m\n",
            "\u001b[0;32m/usr/local/lib/python3.7/dist-packages/pyspark/rdd.py\u001b[0m in \u001b[0;36mcollect\u001b[0;34m(self)\u001b[0m\n\u001b[1;32m    948\u001b[0m         \"\"\"\n\u001b[1;32m    949\u001b[0m         \u001b[0;32mwith\u001b[0m \u001b[0mSCCallSiteSync\u001b[0m\u001b[0;34m(\u001b[0m\u001b[0mself\u001b[0m\u001b[0;34m.\u001b[0m\u001b[0mcontext\u001b[0m\u001b[0;34m)\u001b[0m \u001b[0;32mas\u001b[0m \u001b[0mcss\u001b[0m\u001b[0;34m:\u001b[0m\u001b[0;34m\u001b[0m\u001b[0;34m\u001b[0m\u001b[0m\n\u001b[0;32m--> 950\u001b[0;31m             \u001b[0msock_info\u001b[0m \u001b[0;34m=\u001b[0m \u001b[0mself\u001b[0m\u001b[0;34m.\u001b[0m\u001b[0mctx\u001b[0m\u001b[0;34m.\u001b[0m\u001b[0m_jvm\u001b[0m\u001b[0;34m.\u001b[0m\u001b[0mPythonRDD\u001b[0m\u001b[0;34m.\u001b[0m\u001b[0mcollectAndServe\u001b[0m\u001b[0;34m(\u001b[0m\u001b[0mself\u001b[0m\u001b[0;34m.\u001b[0m\u001b[0m_jrdd\u001b[0m\u001b[0;34m.\u001b[0m\u001b[0mrdd\u001b[0m\u001b[0;34m(\u001b[0m\u001b[0;34m)\u001b[0m\u001b[0;34m)\u001b[0m\u001b[0;34m\u001b[0m\u001b[0;34m\u001b[0m\u001b[0m\n\u001b[0m\u001b[1;32m    951\u001b[0m         \u001b[0;32mreturn\u001b[0m \u001b[0mlist\u001b[0m\u001b[0;34m(\u001b[0m\u001b[0m_load_from_socket\u001b[0m\u001b[0;34m(\u001b[0m\u001b[0msock_info\u001b[0m\u001b[0;34m,\u001b[0m \u001b[0mself\u001b[0m\u001b[0;34m.\u001b[0m\u001b[0m_jrdd_deserializer\u001b[0m\u001b[0;34m)\u001b[0m\u001b[0;34m)\u001b[0m\u001b[0;34m\u001b[0m\u001b[0;34m\u001b[0m\u001b[0m\n\u001b[1;32m    952\u001b[0m \u001b[0;34m\u001b[0m\u001b[0m\n",
            "\u001b[0;32m/usr/local/lib/python3.7/dist-packages/py4j/java_gateway.py\u001b[0m in \u001b[0;36m__call__\u001b[0;34m(self, *args)\u001b[0m\n\u001b[1;32m   1318\u001b[0m             \u001b[0mproto\u001b[0m\u001b[0;34m.\u001b[0m\u001b[0mEND_COMMAND_PART\u001b[0m\u001b[0;34m\u001b[0m\u001b[0;34m\u001b[0m\u001b[0m\n\u001b[1;32m   1319\u001b[0m \u001b[0;34m\u001b[0m\u001b[0m\n\u001b[0;32m-> 1320\u001b[0;31m         \u001b[0manswer\u001b[0m \u001b[0;34m=\u001b[0m \u001b[0mself\u001b[0m\u001b[0;34m.\u001b[0m\u001b[0mgateway_client\u001b[0m\u001b[0;34m.\u001b[0m\u001b[0msend_command\u001b[0m\u001b[0;34m(\u001b[0m\u001b[0mcommand\u001b[0m\u001b[0;34m)\u001b[0m\u001b[0;34m\u001b[0m\u001b[0;34m\u001b[0m\u001b[0m\n\u001b[0m\u001b[1;32m   1321\u001b[0m         return_value = get_return_value(\n\u001b[1;32m   1322\u001b[0m             answer, self.gateway_client, self.target_id, self.name)\n",
            "\u001b[0;32m/usr/local/lib/python3.7/dist-packages/py4j/java_gateway.py\u001b[0m in \u001b[0;36msend_command\u001b[0;34m(self, command, retry, binary)\u001b[0m\n\u001b[1;32m   1036\u001b[0m         \u001b[0mconnection\u001b[0m \u001b[0;34m=\u001b[0m \u001b[0mself\u001b[0m\u001b[0;34m.\u001b[0m\u001b[0m_get_connection\u001b[0m\u001b[0;34m(\u001b[0m\u001b[0;34m)\u001b[0m\u001b[0;34m\u001b[0m\u001b[0;34m\u001b[0m\u001b[0m\n\u001b[1;32m   1037\u001b[0m         \u001b[0;32mtry\u001b[0m\u001b[0;34m:\u001b[0m\u001b[0;34m\u001b[0m\u001b[0;34m\u001b[0m\u001b[0m\n\u001b[0;32m-> 1038\u001b[0;31m             \u001b[0mresponse\u001b[0m \u001b[0;34m=\u001b[0m \u001b[0mconnection\u001b[0m\u001b[0;34m.\u001b[0m\u001b[0msend_command\u001b[0m\u001b[0;34m(\u001b[0m\u001b[0mcommand\u001b[0m\u001b[0;34m)\u001b[0m\u001b[0;34m\u001b[0m\u001b[0;34m\u001b[0m\u001b[0m\n\u001b[0m\u001b[1;32m   1039\u001b[0m             \u001b[0;32mif\u001b[0m \u001b[0mbinary\u001b[0m\u001b[0;34m:\u001b[0m\u001b[0;34m\u001b[0m\u001b[0;34m\u001b[0m\u001b[0m\n\u001b[1;32m   1040\u001b[0m                 \u001b[0;32mreturn\u001b[0m \u001b[0mresponse\u001b[0m\u001b[0;34m,\u001b[0m \u001b[0mself\u001b[0m\u001b[0;34m.\u001b[0m\u001b[0m_create_connection_guard\u001b[0m\u001b[0;34m(\u001b[0m\u001b[0mconnection\u001b[0m\u001b[0;34m)\u001b[0m\u001b[0;34m\u001b[0m\u001b[0;34m\u001b[0m\u001b[0m\n",
            "\u001b[0;32m/usr/local/lib/python3.7/dist-packages/py4j/clientserver.py\u001b[0m in \u001b[0;36msend_command\u001b[0;34m(self, command)\u001b[0m\n\u001b[1;32m    473\u001b[0m         \u001b[0;32mtry\u001b[0m\u001b[0;34m:\u001b[0m\u001b[0;34m\u001b[0m\u001b[0;34m\u001b[0m\u001b[0m\n\u001b[1;32m    474\u001b[0m             \u001b[0;32mwhile\u001b[0m \u001b[0;32mTrue\u001b[0m\u001b[0;34m:\u001b[0m\u001b[0;34m\u001b[0m\u001b[0;34m\u001b[0m\u001b[0m\n\u001b[0;32m--> 475\u001b[0;31m                 \u001b[0manswer\u001b[0m \u001b[0;34m=\u001b[0m \u001b[0msmart_decode\u001b[0m\u001b[0;34m(\u001b[0m\u001b[0mself\u001b[0m\u001b[0;34m.\u001b[0m\u001b[0mstream\u001b[0m\u001b[0;34m.\u001b[0m\u001b[0mreadline\u001b[0m\u001b[0;34m(\u001b[0m\u001b[0;34m)\u001b[0m\u001b[0;34m[\u001b[0m\u001b[0;34m:\u001b[0m\u001b[0;34m-\u001b[0m\u001b[0;36m1\u001b[0m\u001b[0;34m]\u001b[0m\u001b[0;34m)\u001b[0m\u001b[0;34m\u001b[0m\u001b[0;34m\u001b[0m\u001b[0m\n\u001b[0m\u001b[1;32m    476\u001b[0m                 \u001b[0mlogger\u001b[0m\u001b[0;34m.\u001b[0m\u001b[0mdebug\u001b[0m\u001b[0;34m(\u001b[0m\u001b[0;34m\"Answer received: {0}\"\u001b[0m\u001b[0;34m.\u001b[0m\u001b[0mformat\u001b[0m\u001b[0;34m(\u001b[0m\u001b[0manswer\u001b[0m\u001b[0;34m)\u001b[0m\u001b[0;34m)\u001b[0m\u001b[0;34m\u001b[0m\u001b[0;34m\u001b[0m\u001b[0m\n\u001b[1;32m    477\u001b[0m                 \u001b[0;31m# Happens when a the other end is dead. There might be an empty\u001b[0m\u001b[0;34m\u001b[0m\u001b[0;34m\u001b[0m\u001b[0;34m\u001b[0m\u001b[0m\n",
            "\u001b[0;32m/usr/lib/python3.7/socket.py\u001b[0m in \u001b[0;36mreadinto\u001b[0;34m(self, b)\u001b[0m\n\u001b[1;32m    587\u001b[0m         \u001b[0;32mwhile\u001b[0m \u001b[0;32mTrue\u001b[0m\u001b[0;34m:\u001b[0m\u001b[0;34m\u001b[0m\u001b[0;34m\u001b[0m\u001b[0m\n\u001b[1;32m    588\u001b[0m             \u001b[0;32mtry\u001b[0m\u001b[0;34m:\u001b[0m\u001b[0;34m\u001b[0m\u001b[0;34m\u001b[0m\u001b[0m\n\u001b[0;32m--> 589\u001b[0;31m                 \u001b[0;32mreturn\u001b[0m \u001b[0mself\u001b[0m\u001b[0;34m.\u001b[0m\u001b[0m_sock\u001b[0m\u001b[0;34m.\u001b[0m\u001b[0mrecv_into\u001b[0m\u001b[0;34m(\u001b[0m\u001b[0mb\u001b[0m\u001b[0;34m)\u001b[0m\u001b[0;34m\u001b[0m\u001b[0;34m\u001b[0m\u001b[0m\n\u001b[0m\u001b[1;32m    590\u001b[0m             \u001b[0;32mexcept\u001b[0m \u001b[0mtimeout\u001b[0m\u001b[0;34m:\u001b[0m\u001b[0;34m\u001b[0m\u001b[0;34m\u001b[0m\u001b[0m\n\u001b[1;32m    591\u001b[0m                 \u001b[0mself\u001b[0m\u001b[0;34m.\u001b[0m\u001b[0m_timeout_occurred\u001b[0m \u001b[0;34m=\u001b[0m \u001b[0;32mTrue\u001b[0m\u001b[0;34m\u001b[0m\u001b[0;34m\u001b[0m\u001b[0m\n",
            "\u001b[0;31mKeyboardInterrupt\u001b[0m: "
          ]
        }
      ],
      "source": [
        "sort_5 = (sorted(res_5.collect(),key = lambda x:x[1],reverse=True)[:10])\n",
        "sort_4 = (sorted(res_4.collect(),key = lambda x:x[1],reverse=True)[:10])\n",
        "sort_3 = (sorted(res_3.collect(),key = lambda x:x[1],reverse=True)[:10])\n",
        "sort_2 = (sorted(res_2.collect(),key = lambda x:x[1],reverse=True)[:10])\n",
        "sort_1 = (sorted(res_1.collect(),key = lambda x:x[1],reverse=True)[:10])"
      ]
    },
    {
      "cell_type": "code",
      "execution_count": null,
      "metadata": {
        "id": "L6U8HDpPm2ck"
      },
      "outputs": [],
      "source": [
        "sort_5_b = sc.parallelize(sort_5)\n",
        "sort_5_words = sort_5_b.map(lambda x: x[0])\n",
        "sort_4_b = sc.parallelize(sort_4)\n",
        "sort_4_words = sort_4_b.map(lambda x: x[0])\n",
        "sort_3_b = sc.parallelize(sort_3)\n",
        "sort_3_words = sort_3_b.map(lambda x: x[0])\n",
        "sort_2_b = sc.parallelize(sort_2)\n",
        "sort_2_words = sort_2_b.map(lambda x: x[0])\n",
        "sort_1_b = sc.parallelize(sort_1)\n",
        "sort_1_words = sort_1_b.map(lambda x: x[0])"
      ]
    },
    {
      "cell_type": "code",
      "execution_count": null,
      "metadata": {
        "id": "j1G3DScJm2Ze"
      },
      "outputs": [],
      "source": [
        "print(\"1 star rating: \",sort_1_words.collect())\n",
        "print(\"2 star rating: \",sort_2_words.collect())\n",
        "print(\"3 star rating: \",sort_3_words.collect())\n",
        "print(\"4 star rating: \",sort_4_words.collect())\n",
        "print(\"5 star rating: \",sort_5_words.collect())"
      ]
    },
    {
      "cell_type": "markdown",
      "metadata": {
        "id": "vblyTiqF5HdL"
      },
      "source": [
        "## Calculate Average Length of Reviews"
      ]
    },
    {
      "cell_type": "code",
      "execution_count": null,
      "metadata": {
        "id": "qEOV4KRaYiZq"
      },
      "outputs": [],
      "source": [
        "lines = review_filtered.rdd.map(tuple)"
      ]
    },
    {
      "cell_type": "code",
      "execution_count": null,
      "metadata": {
        "id": "oLas6cpxYiZr"
      },
      "outputs": [],
      "source": [
        "lines.persist()"
      ]
    },
    {
      "cell_type": "code",
      "execution_count": null,
      "metadata": {
        "id": "C5swNpuXYiZr"
      },
      "outputs": [],
      "source": [
        "def ProcessedText(text):\n",
        "    return re.sub('\\W+', ' ', str(text))"
      ]
    },
    {
      "cell_type": "code",
      "execution_count": null,
      "metadata": {
        "id": "E2poMakbYiZr"
      },
      "outputs": [],
      "source": [
        "line_5star = lines.filter(lambda x: x[1] == 5)\n",
        "line_4star = lines.filter(lambda x: x[1] == 4)\n",
        "line_3star = lines.filter(lambda x: x[1] == 3)\n",
        "line_2star = lines.filter(lambda x: x[1] == 2)\n",
        "line_1star = lines.filter(lambda x: x[1] == 1)"
      ]
    },
    {
      "cell_type": "code",
      "execution_count": null,
      "metadata": {
        "id": "Tv7PXYHLm2Wa"
      },
      "outputs": [],
      "source": [
        "count_5 = line_5star.count()\n",
        "count_4 = line_4star.count()\n",
        "count_3 = line_3star.count()\n",
        "count_2 = line_2star.count()\n",
        "count_1 = line_1star.count()"
      ]
    },
    {
      "cell_type": "code",
      "execution_count": null,
      "metadata": {
        "id": "BjqWkyfA45MI"
      },
      "outputs": [],
      "source": [
        "line_5_punct_rem = line_5star.map(lambda x:ProcessedText(x))\n",
        "line_4_punct_rem = line_4star.map(lambda x:ProcessedText(x))\n",
        "line_3_punct_rem = line_3star.map(lambda x:ProcessedText(x))\n",
        "line_2_punct_rem = line_2star.map(lambda x:ProcessedText(x))\n",
        "line_1_punct_rem = line_1star.map(lambda x:ProcessedText(x))"
      ]
    },
    {
      "cell_type": "code",
      "execution_count": null,
      "metadata": {
        "id": "TGQC6Zha45Ix"
      },
      "outputs": [],
      "source": [
        "words_5 = line_5_punct_rem.flatMap(lambda x:x.lower().split(\" \"))\n",
        "words_4 = line_4_punct_rem.flatMap(lambda x:x.lower().split(\" \"))\n",
        "words_3 = line_3_punct_rem.flatMap(lambda x:x.lower().split(\" \"))\n",
        "words_2 = line_2_punct_rem.flatMap(lambda x:x.lower().split(\" \"))\n",
        "words_1 = line_1_punct_rem.flatMap(lambda x:x.lower().split(\" \"))"
      ]
    },
    {
      "cell_type": "code",
      "execution_count": null,
      "metadata": {
        "id": "-crx4cdKguIT"
      },
      "outputs": [],
      "source": [
        "words_5.take(10)"
      ]
    },
    {
      "cell_type": "code",
      "execution_count": null,
      "metadata": {
        "id": "SEc6DC8p45F_"
      },
      "outputs": [],
      "source": [
        "total_length_5_star = words_5.count()\n",
        "total_length_4_star = words_4.count()\n",
        "total_length_3_star = words_3.count()\n",
        "total_length_2_star = words_2.count()\n",
        "total_length_1_star = words_1.count()"
      ]
    },
    {
      "cell_type": "code",
      "execution_count": null,
      "metadata": {
        "id": "bqYgoLyE45Dv"
      },
      "outputs": [],
      "source": [
        "avg_count_5 = total_length_5_star/count_5\n",
        "avg_count_4 = total_length_4_star/count_4\n",
        "avg_count_3 = total_length_3_star/count_3\n",
        "avg_count_2 = total_length_2_star/count_2\n",
        "avg_count_1 = total_length_1_star/count_1"
      ]
    },
    {
      "cell_type": "code",
      "execution_count": null,
      "metadata": {
        "id": "W5fHRkr7lMis"
      },
      "outputs": [],
      "source": [
        "avg_count_1"
      ]
    },
    {
      "cell_type": "code",
      "execution_count": null,
      "metadata": {
        "id": "-eHezG0J45BZ"
      },
      "outputs": [],
      "source": [
        "print(\"5 star rating: average length of comments \", avg_count_5)\n",
        "print(\"4 star rating: average length of comments \", avg_count_4)\n",
        "print(\"3 star rating: average length of comments \", avg_count_3)\n",
        "print(\"2 star rating: average length of comments \", avg_count_2)\n",
        "print(\"1 star rating: average length of comments \", avg_count_1)"
      ]
    },
    {
      "cell_type": "markdown",
      "metadata": {
        "id": "9jn0-2iV5D8D"
      },
      "source": [
        "## Review Visualization:"
      ]
    },
    {
      "cell_type": "code",
      "execution_count": null,
      "metadata": {
        "id": "PFKvNvFelkGq"
      },
      "outputs": [],
      "source": [
        "review_per_star = review.select('review_id', 'stars')\n",
        "count_per_star = review_per_star.groupby('stars').count()\n",
        "cnt_str = count_per_star.sort('count', ascending = False)\n",
        "pdf_stars = cnt_str.toPandas()\n",
        "pdf_stars"
      ]
    },
    {
      "cell_type": "code",
      "execution_count": null,
      "metadata": {
        "id": "NvCZMxZQlkEd"
      },
      "outputs": [],
      "source": [
        "plt.figure(figsize=(10,6))\n",
        "pdf_stars.plot(kind='bar',x='stars',y='count', figsize=(8,6),color='orange')\n",
        "plt.xlabel('Ratings', fontsize=15)\n",
        "plt.xticks(rotation = 0, fontsize = 11)\n",
        "plt.ylabel('No. of Reviews', fontsize=15)\n",
        "plt.title('Distribution is Comments per Rating', fontsize=15);"
      ]
    },
    {
      "cell_type": "code",
      "execution_count": null,
      "metadata": {
        "id": "ns8UMc56lkDJ"
      },
      "outputs": [],
      "source": [
        "word_count = review.select( \\\n",
        "    col(\"stars\"), \\\n",
        "    trim(col(\"text\")).alias(\"text\"), \\\n",
        "    )\n",
        "review.select('stars', 'text')\n",
        "word_count = word_count.withColumn('length', f.size(f.split(f.col('text'), ' ')))\n",
        "word_count.show()"
      ]
    },
    {
      "cell_type": "code",
      "execution_count": null,
      "metadata": {
        "id": "18okvcDWlkAV"
      },
      "outputs": [],
      "source": [
        "avg_word_cnt = word_count.groupBy(\"stars\").avg(\"length\")\n",
        "avg_word_cnt = avg_word_cnt.withColumnRenamed(\"avg(length)\",\"Avg_Comment_Length\")\n",
        "avg_word_cnt = avg_word_cnt.withColumn(\"Avg_Comment_Length\", round(col(\"Avg_Comment_Length\"), 2))\n",
        "cnt_wrds = avg_word_cnt.sort('Avg_Comment_Length', ascending = False)\n",
        "pdf = cnt_wrds.toPandas()\n",
        "pdf.head()"
      ]
    },
    {
      "cell_type": "code",
      "execution_count": null,
      "metadata": {
        "id": "obPvYCYklj-J"
      },
      "outputs": [],
      "source": [
        "plt.figure(figsize=(10,6))\n",
        "pdf.plot(kind='bar',x='stars',y='Avg_Comment_Length', figsize=(8,6), color='purple')\n",
        "plt.xlabel('Ratings', fontsize=15)\n",
        "plt.xticks(rotation = 0, fontsize=11)\n",
        "plt.ylabel('Average Length of Reviews', fontsize=15)\n",
        "plt.title('Average Length of Reviews per Rating', fontsize=15);"
      ]
    },
    {
      "cell_type": "code",
      "execution_count": null,
      "metadata": {
        "id": "0oYFl7QBpFtO"
      },
      "outputs": [],
      "source": [
        "from pyspark.sql.functions import *\n",
        "\n",
        "month_comment = review.select(col(\"text\"), col(\"date\"), to_date(col(\"date\"),\"yyyy-MM-dd\"))\n",
        "month_comment = month_comment.drop(col(\"date\"))\n",
        "month_comment = month_comment.withColumnRenamed(\"to_date(date, yyyy-MM-dd)\",\"date\")\n",
        "month_comment = month_comment.filter(\"text is not null\")\n",
        "month_comment = month_comment.filter(\"date is not null\")\n",
        "month_comment = month_comment.select(col(\"text\"), date_format(col(\"date\"), \"MMMM\").alias(\"month\"))\n",
        "month_comment.show()"
      ]
    },
    {
      "cell_type": "code",
      "execution_count": null,
      "metadata": {
        "id": "FNNOy_mWpFp0"
      },
      "outputs": [],
      "source": [
        "month_comment.printSchema()"
      ]
    },
    {
      "cell_type": "code",
      "execution_count": null,
      "metadata": {
        "id": "_yy6RxmksN5X"
      },
      "outputs": [],
      "source": [
        "mnth_com = month_comment.groupby('month').count()\n",
        "pdf_mon = mnth_com.toPandas()\n",
        "pdf_mon"
      ]
    },
    {
      "cell_type": "code",
      "execution_count": null,
      "metadata": {
        "id": "YxyWqwtLsN5X"
      },
      "outputs": [],
      "source": [
        "month = pdf_mon['month']\n",
        "rev_mon_cnt = pdf_mon['count']\n",
        "fig = plt.figure(figsize=(10,6))\n",
        "plt.bar(month, rev_mon_cnt, color ='blue', width = 0.4)\n",
        "plt.xlabel('Monthly Distribution of Comments', fontsize=15)\n",
        "plt.xticks(rotation = 45, fontsize=11)\n",
        "plt.ylabel('No. of Reviews', fontsize=15)\n",
        "plt.title('Monthly Count of Comments over the Years', fontsize=15);"
      ]
    },
    {
      "cell_type": "code",
      "execution_count": null,
      "metadata": {
        "id": "aI62BT6EcgX5"
      },
      "outputs": [],
      "source": [
        ""
      ]
    },
    {
      "cell_type": "code",
      "execution_count": null,
      "metadata": {
        "id": "w_jq83JVcgUC"
      },
      "outputs": [],
      "source": [
        ""
      ]
    },
    {
      "cell_type": "code",
      "execution_count": null,
      "metadata": {
        "colab": {
          "background_save": true
        },
        "id": "XjTRMY9gV_MV"
      },
      "outputs": [],
      "source": [
        "user = spark.read.option(\"delimiter\",\",\").option(\"header\",\"true\").csv('/content/gdrive/MyDrive/Scalable/yelp-dataset/yelp_user.csv')"
      ]
    },
    {
      "cell_type": "code",
      "execution_count": null,
      "metadata": {
        "colab": {
          "background_save": true
        },
        "id": "qEGRA0l7Wts6",
        "outputId": "98de9d5e-ea07-489a-959a-9082b01a222a"
      },
      "outputs": [
        {
          "name": "stdout",
          "output_type": "stream",
          "text": [
            "root\n",
            " |-- user_id: string (nullable = true)\n",
            " |-- name: string (nullable = true)\n",
            " |-- review_count: string (nullable = true)\n",
            " |-- yelping_since: string (nullable = true)\n",
            " |-- friends: string (nullable = true)\n",
            " |-- useful: string (nullable = true)\n",
            " |-- funny: string (nullable = true)\n",
            " |-- cool: string (nullable = true)\n",
            " |-- fans: string (nullable = true)\n",
            " |-- elite: string (nullable = true)\n",
            " |-- average_stars: string (nullable = true)\n",
            " |-- compliment_hot: string (nullable = true)\n",
            " |-- compliment_more: string (nullable = true)\n",
            " |-- compliment_profile: string (nullable = true)\n",
            " |-- compliment_cute: string (nullable = true)\n",
            " |-- compliment_list: string (nullable = true)\n",
            " |-- compliment_note: string (nullable = true)\n",
            " |-- compliment_plain: string (nullable = true)\n",
            " |-- compliment_cool: string (nullable = true)\n",
            " |-- compliment_funny: string (nullable = true)\n",
            " |-- compliment_writer: string (nullable = true)\n",
            " |-- compliment_photos: string (nullable = true)\n",
            "\n"
          ]
        }
      ],
      "source": [
        "user.printSchema()"
      ]
    },
    {
      "cell_type": "code",
      "execution_count": null,
      "metadata": {
        "colab": {
          "background_save": true
        },
        "id": "u82cZauoWtpb"
      },
      "outputs": [],
      "source": [
        "user_filtered = user.select('user_id','name','review_count','yelping_since','friends','useful','funny','cool','elite','average_stars')\n"
      ]
    },
    {
      "cell_type": "code",
      "execution_count": null,
      "metadata": {
        "colab": {
          "background_save": true
        },
        "id": "fr3c-g4QrT6L"
      },
      "outputs": [],
      "source": [
        "user_filtered = user_filtered.withColumn(\"average_stars\",user_filtered['average_stars'].cast(\"double\"))"
      ]
    },
    {
      "cell_type": "markdown",
      "metadata": {
        "id": "Vl7uk0l1yh6I"
      },
      "source": [
        "**Rounding off the values for \"Average_Stars\" column**"
      ]
    },
    {
      "cell_type": "code",
      "execution_count": null,
      "metadata": {
        "colab": {
          "background_save": true
        },
        "id": "3Mr4yvSXrt8D"
      },
      "outputs": [],
      "source": [
        "user_filtered = user_filtered.withColumn(\"average_stars\",func.round(user_filtered['average_stars']))"
      ]
    },
    {
      "cell_type": "markdown",
      "metadata": {
        "id": "i9pMb5dhz3DH"
      },
      "source": [
        "**Checking for null records in the Dataframe**\n",
        "\n"
      ]
    },
    {
      "cell_type": "code",
      "execution_count": null,
      "metadata": {
        "colab": {
          "background_save": true
        },
        "id": "y6-551DRIGnk",
        "outputId": "743dc137-2069-4a5b-e1f8-81ddc4820751"
      },
      "outputs": [
        {
          "name": "stdout",
          "output_type": "stream",
          "text": [
            "+-------+----+------------+-------------+-------+------+-----+----+-----+-------------+\n",
            "|user_id|name|review_count|yelping_since|friends|useful|funny|cool|elite|average_stars|\n",
            "+-------+----+------------+-------------+-------+------+-----+----+-----+-------------+\n",
            "|      0| 495|           0|            0|      0|     0|    0|   0|    0|            0|\n",
            "+-------+----+------------+-------------+-------+------+-----+----+-----+-------------+\n",
            "\n"
          ]
        }
      ],
      "source": [
        "user_filtered.select([func.count(func.when(func.isnull(c), c)).alias(c) for c in user_filtered.columns]).show()"
      ]
    },
    {
      "cell_type": "markdown",
      "metadata": {
        "id": "a2oJeypn0E3K"
      },
      "source": [
        "**Dropping null records**"
      ]
    },
    {
      "cell_type": "code",
      "execution_count": null,
      "metadata": {
        "colab": {
          "background_save": true
        },
        "id": "2jPqQU9BMU7j"
      },
      "outputs": [],
      "source": [
        "user_filtered_nna = user_filtered.dropna()"
      ]
    },
    {
      "cell_type": "code",
      "execution_count": null,
      "metadata": {
        "colab": {
          "background_save": true
        },
        "id": "KcDUA8dvgiba",
        "outputId": "8397ee14-ab70-406c-88d6-64dbd921f91e"
      },
      "outputs": [
        {
          "name": "stdout",
          "output_type": "stream",
          "text": [
            "+-------+----+------------+-------------+-------+------+-----+----+-----+-------------+\n",
            "|user_id|name|review_count|yelping_since|friends|useful|funny|cool|elite|average_stars|\n",
            "+-------+----+------------+-------------+-------+------+-----+----+-----+-------------+\n",
            "|      0|   0|           0|            0|      0|     0|    0|   0|    0|            0|\n",
            "+-------+----+------------+-------------+-------+------+-----+----+-----+-------------+\n",
            "\n"
          ]
        }
      ],
      "source": [
        "user_filtered_nna.select([func.count(func.when(func.isnull(c), c)).alias(c) for c in user_filtered.columns]).show()\n"
      ]
    },
    {
      "cell_type": "code",
      "execution_count": null,
      "metadata": {
        "id": "ntH_y0fZMcge"
      },
      "outputs": [],
      "source": [
        "user_filtered_nna.count()"
      ]
    },
    {
      "cell_type": "code",
      "execution_count": null,
      "metadata": {
        "id": "vlzJGoZvYP9V"
      },
      "outputs": [],
      "source": [
        "user_filtered_nna.show()"
      ]
    },
    {
      "cell_type": "code",
      "execution_count": null,
      "metadata": {
        "id": "gvBZEastM_Qp"
      },
      "outputs": [],
      "source": [
        "reviews = spark.read.format(\"csv\").option(\"header\",\"true\").option(\"delimiter\",\",\").option(\"quote\", \"\\\"\").option(\"escape\", \"\\\"\").load(\"/content/gdrive/MyDrive/Scalable/yelp-dataset/yelp_review.csv\")"
      ]
    },
    {
      "cell_type": "code",
      "execution_count": null,
      "metadata": {
        "id": "pzUDoqxeM_Gi"
      },
      "outputs": [],
      "source": [
        "reviews = reviews.filter(\"review_id is not null\")\n",
        "reviews = reviews.filter(\"user_id is not null\")\n",
        "reviews = reviews.filter(\"business_id is not null\")\n",
        "reviews = reviews.filter(\"date is not null\")\n",
        "reviews = reviews.filter(\"text is not null\")\n"
      ]
    },
    {
      "cell_type": "code",
      "execution_count": null,
      "metadata": {
        "id": "eqsbtKOqmWOS"
      },
      "outputs": [],
      "source": [
        "reviews = reviews.filter(reviews.stars.isin('5', '4', '3', '2', '1'))"
      ]
    },
    {
      "cell_type": "code",
      "execution_count": null,
      "metadata": {
        "id": "K2YoM9YSOdHl"
      },
      "outputs": [],
      "source": [
        "reviews.count()"
      ]
    },
    {
      "cell_type": "code",
      "execution_count": null,
      "metadata": {
        "id": "CN0iCKhSTLWa"
      },
      "outputs": [],
      "source": [
        "all_users = user_filtered_nna.select('user_id','elite')\n",
        "ref_rev = reviews.select('user_id','text','business_id','stars')\n",
        "all_user_reviews = all_users.join(ref_rev,'user_id','inner')"
      ]
    },
    {
      "cell_type": "code",
      "execution_count": null,
      "metadata": {
        "id": "uhqPtcTgTLTT"
      },
      "outputs": [],
      "source": [
        "all_user_reviews.show()"
      ]
    },
    {
      "cell_type": "code",
      "execution_count": null,
      "metadata": {
        "id": "JJJUXO2eTLNh"
      },
      "outputs": [],
      "source": [
        "from pyspark.sql.functions import when, col\n"
      ]
    },
    {
      "cell_type": "code",
      "execution_count": null,
      "metadata": {
        "id": "ss-UNExxq04u"
      },
      "outputs": [],
      "source": [
        "conditions = when(col(\"elite\").isin('None'), 0).otherwise(1)\n",
        "all_user_reviews = all_user_reviews.withColumn(\"Is_Elite\", conditions)"
      ]
    },
    {
      "cell_type": "code",
      "execution_count": null,
      "metadata": {
        "id": "QSp_070MrcEc"
      },
      "outputs": [],
      "source": [
        "all_user_reviews.show()"
      ]
    },
    {
      "cell_type": "code",
      "execution_count": null,
      "metadata": {
        "id": "orKfnE4HuclL"
      },
      "outputs": [],
      "source": [
        "business = spark.read.format(\"csv\").option(\"header\",\"true\").option(\"delimiter\",\",\").option(\"quote\", \"\\\"\").option(\"escape\", \"\\\"\").load(\"/content/gdrive/MyDrive/Scalable/yelp-dataset/yelp_business.csv\")"
      ]
    },
    {
      "cell_type": "code",
      "execution_count": null,
      "metadata": {
        "id": "XcLtil_Ju4Qe"
      },
      "outputs": [],
      "source": [
        "business.show()"
      ]
    },
    {
      "cell_type": "code",
      "execution_count": null,
      "metadata": {
        "id": "lDfXyp_Mu8iC"
      },
      "outputs": [],
      "source": [
        "ref_bussiness = business.select('business_id','name','state','categories')\n",
        "buss_usr_rev = all_user_reviews.join(ref_bussiness, 'business_id','inner')"
      ]
    },
    {
      "cell_type": "code",
      "execution_count": null,
      "metadata": {
        "id": "WCtYGXpkucbh"
      },
      "outputs": [],
      "source": [
        "buss_usr_rev.show()"
      ]
    },
    {
      "cell_type": "markdown",
      "metadata": {
        "id": "hKbx8pMdyM8v"
      },
      "source": [
        "**Elite users tend to review which kind of businesses the most**"
      ]
    },
    {
      "cell_type": "code",
      "execution_count": null,
      "metadata": {
        "id": "Rv3ClK-susOZ"
      },
      "outputs": [],
      "source": [
        "from pyspark.sql.functions import split,explode\n",
        "eli_buss = buss_usr_rev.filter(buss_usr_rev.Is_Elite.isin(1))\n",
        "category = eli_buss.select('categories')\n",
        "individual_category = category.select(explode(split('categories', ';')).alias('category'))\n",
        "grouped_category = individual_category.groupby('category').count()\n",
        "top_category = grouped_category.sort('count',ascending=False)\n",
        "top_category.show(10,truncate=False)"
      ]
    },
    {
      "cell_type": "code",
      "execution_count": null,
      "metadata": {
        "id": "ugPCf7bBNSvN"
      },
      "outputs": [],
      "source": [
        "df_5 = top_category.toPandas()"
      ]
    },
    {
      "cell_type": "code",
      "execution_count": null,
      "metadata": {
        "id": "HKJybif_NSvZ"
      },
      "outputs": [],
      "source": [
        "df_5 = df_5.head(10)"
      ]
    },
    {
      "cell_type": "code",
      "execution_count": null,
      "metadata": {
        "id": "-iq5jUAhNSvZ"
      },
      "outputs": [],
      "source": [
        "df_5"
      ]
    },
    {
      "cell_type": "code",
      "execution_count": null,
      "metadata": {
        "id": "vQapAWeCm2HH"
      },
      "outputs": [],
      "source": [
        "!pip install plotly"
      ]
    },
    {
      "cell_type": "code",
      "execution_count": null,
      "metadata": {
        "id": "zKmNPfySNSvZ"
      },
      "outputs": [],
      "source": [
        "import plotly.express as px\n",
        "fig = px.pie(df_5, values='count', names='category', title='Businesses popular among Elite Users',\\\n",
        "             color_discrete_sequence=px.colors.sequential.matter)\n",
        "fig.show()"
      ]
    },
    {
      "cell_type": "markdown",
      "metadata": {
        "id": "Yw2ZOQv9zCWG"
      },
      "source": [
        "**Non-Elite users tend to review which kind of businesses the most**"
      ]
    },
    {
      "cell_type": "code",
      "execution_count": null,
      "metadata": {
        "colab": {
          "base_uri": "https://localhost:8080/",
          "height": 235
        },
        "id": "pQmFNIM6zBvZ",
        "outputId": "e8cbc720-ec11-4b65-8539-38b29eaf8203"
      },
      "outputs": [
        {
          "ename": "NameError",
          "evalue": "ignored",
          "output_type": "error",
          "traceback": [
            "\u001b[0;31m---------------------------------------------------------------------------\u001b[0m",
            "\u001b[0;31mNameError\u001b[0m                                 Traceback (most recent call last)",
            "\u001b[0;32m<ipython-input-54-fe6edcec12d9>\u001b[0m in \u001b[0;36m<module>\u001b[0;34m()\u001b[0m\n\u001b[1;32m      1\u001b[0m \u001b[0;32mfrom\u001b[0m \u001b[0mpyspark\u001b[0m\u001b[0;34m.\u001b[0m\u001b[0msql\u001b[0m\u001b[0;34m.\u001b[0m\u001b[0mfunctions\u001b[0m \u001b[0;32mimport\u001b[0m \u001b[0msplit\u001b[0m\u001b[0;34m,\u001b[0m\u001b[0mexplode\u001b[0m\u001b[0;34m\u001b[0m\u001b[0;34m\u001b[0m\u001b[0m\n\u001b[0;32m----> 2\u001b[0;31m \u001b[0mno_eli_buss\u001b[0m \u001b[0;34m=\u001b[0m \u001b[0mbuss_usr_rev\u001b[0m\u001b[0;34m.\u001b[0m\u001b[0mfilter\u001b[0m\u001b[0;34m(\u001b[0m\u001b[0mbuss_usr_rev\u001b[0m\u001b[0;34m.\u001b[0m\u001b[0mIs_Elite\u001b[0m\u001b[0;34m.\u001b[0m\u001b[0misin\u001b[0m\u001b[0;34m(\u001b[0m\u001b[0;36m0\u001b[0m\u001b[0;34m)\u001b[0m\u001b[0;34m)\u001b[0m\u001b[0;34m\u001b[0m\u001b[0;34m\u001b[0m\u001b[0m\n\u001b[0m\u001b[1;32m      3\u001b[0m \u001b[0mcategory2\u001b[0m \u001b[0;34m=\u001b[0m \u001b[0mno_eli_buss\u001b[0m\u001b[0;34m.\u001b[0m\u001b[0mselect\u001b[0m\u001b[0;34m(\u001b[0m\u001b[0;34m'categories'\u001b[0m\u001b[0;34m)\u001b[0m\u001b[0;34m\u001b[0m\u001b[0;34m\u001b[0m\u001b[0m\n\u001b[1;32m      4\u001b[0m \u001b[0mindividual_category2\u001b[0m \u001b[0;34m=\u001b[0m \u001b[0mcategory2\u001b[0m\u001b[0;34m.\u001b[0m\u001b[0mselect\u001b[0m\u001b[0;34m(\u001b[0m\u001b[0mexplode\u001b[0m\u001b[0;34m(\u001b[0m\u001b[0msplit\u001b[0m\u001b[0;34m(\u001b[0m\u001b[0;34m'categories'\u001b[0m\u001b[0;34m,\u001b[0m \u001b[0;34m';'\u001b[0m\u001b[0;34m)\u001b[0m\u001b[0;34m)\u001b[0m\u001b[0;34m.\u001b[0m\u001b[0malias\u001b[0m\u001b[0;34m(\u001b[0m\u001b[0;34m'category'\u001b[0m\u001b[0;34m)\u001b[0m\u001b[0;34m)\u001b[0m\u001b[0;34m\u001b[0m\u001b[0;34m\u001b[0m\u001b[0m\n\u001b[1;32m      5\u001b[0m \u001b[0mgrouped_category2\u001b[0m \u001b[0;34m=\u001b[0m \u001b[0mindividual_category2\u001b[0m\u001b[0;34m.\u001b[0m\u001b[0mgroupby\u001b[0m\u001b[0;34m(\u001b[0m\u001b[0;34m'category'\u001b[0m\u001b[0;34m)\u001b[0m\u001b[0;34m.\u001b[0m\u001b[0mcount\u001b[0m\u001b[0;34m(\u001b[0m\u001b[0;34m)\u001b[0m\u001b[0;34m\u001b[0m\u001b[0;34m\u001b[0m\u001b[0m\n",
            "\u001b[0;31mNameError\u001b[0m: name 'buss_usr_rev' is not defined"
          ]
        }
      ],
      "source": [
        "from pyspark.sql.functions import split,explode\n",
        "no_eli_buss = buss_usr_rev.filter(buss_usr_rev.Is_Elite.isin(0))\n",
        "category2 = no_eli_buss.select('categories')\n",
        "individual_category2 = category2.select(explode(split('categories', ';')).alias('category'))\n",
        "grouped_category2 = individual_category2.groupby('category').count()\n",
        "top_category2 = grouped_category2.sort('count',ascending=False)\n",
        "top_category2.show(10,truncate=False)"
      ]
    },
    {
      "cell_type": "code",
      "execution_count": null,
      "metadata": {
        "id": "7y2wbnj2GKGI"
      },
      "outputs": [],
      "source": [
        "df_4 = top_category2.toPandas()"
      ]
    },
    {
      "cell_type": "code",
      "execution_count": null,
      "metadata": {
        "id": "M8Z6KbxRJUB6"
      },
      "outputs": [],
      "source": [
        "df_4 = df_4.head(10)"
      ]
    },
    {
      "cell_type": "code",
      "execution_count": null,
      "metadata": {
        "id": "vwj7_eLuJT4u"
      },
      "outputs": [],
      "source": [
        "df_4"
      ]
    },
    {
      "cell_type": "code",
      "execution_count": null,
      "metadata": {
        "id": "rwYJ1qPSKKyk"
      },
      "outputs": [],
      "source": [
        "fig = px.pie(df_4, values='count', names='category', title='Businesses popular among Non-Elite Users',\\\n",
        "             color_discrete_sequence=px.colors.sequential.haline)\n",
        "fig.show()"
      ]
    },
    {
      "cell_type": "code",
      "execution_count": null,
      "metadata": {
        "id": "TJh5-p7BGSTM"
      },
      "outputs": [],
      "source": [
        "top_category2"
      ]
    },
    {
      "cell_type": "markdown",
      "metadata": {
        "id": "jlfmFOI90D3L"
      },
      "source": [
        "**Top Businesses Reviewed by Elite Users**"
      ]
    },
    {
      "cell_type": "code",
      "execution_count": null,
      "metadata": {
        "id": "j8ccQVwMzp-m"
      },
      "outputs": [],
      "source": [
        "from pyspark.sql.functions import split,explode\n",
        "eli_name = buss_usr_rev.filter(buss_usr_rev.Is_Elite.isin(1))\n",
        "name_buss = eli_name.select('name')\n",
        "grouped_category3 = name_buss.groupby('name').count()\n",
        "top_buss = grouped_category3.sort('count',ascending=False)\n",
        "top_buss.show(10,truncate=False)"
      ]
    },
    {
      "cell_type": "code",
      "execution_count": null,
      "metadata": {
        "id": "j8M_fDeEOYL3"
      },
      "outputs": [],
      "source": [
        "df_6 = top_buss.toPandas()"
      ]
    },
    {
      "cell_type": "code",
      "execution_count": null,
      "metadata": {
        "id": "NARtQEalOX-y"
      },
      "outputs": [],
      "source": [
        "df_6 = df_6.head(10)"
      ]
    },
    {
      "cell_type": "code",
      "execution_count": null,
      "metadata": {
        "id": "XXiIAmfZWS6L"
      },
      "outputs": [],
      "source": [
        "df_6['count'] = df_6['count'].astype('float')"
      ]
    },
    {
      "cell_type": "code",
      "execution_count": null,
      "metadata": {
        "id": "L646D4AeZWl6"
      },
      "outputs": [],
      "source": [
        "df_6.info()"
      ]
    },
    {
      "cell_type": "code",
      "execution_count": null,
      "metadata": {
        "id": "Kmk9vRNxPnP0"
      },
      "outputs": [],
      "source": [
        "df_6.plot(kind='barh',x='name',y='count', figsize=(8,6),color='navy')\n",
        "plt.title(\"Business outlets popular among Elite Users\",fontsize=18)\n",
        "plt.xlabel('Number of Reviews')\n",
        "plt.ylabel('Name of the Business')\n",
        "for index,row in df_6.iterrows():\n",
        "  row = (row['count'])\n",
        "  label = format(int(row),',')\n",
        "  plt.annotate(label,xy=(row - 600,index - 0.1),color='white',fontweight='bold')"
      ]
    },
    {
      "cell_type": "markdown",
      "metadata": {
        "id": "TakqV2wn1Gm5"
      },
      "source": [
        "**Top Businesses Reviewed by Non-Elite Users**"
      ]
    },
    {
      "cell_type": "code",
      "execution_count": null,
      "metadata": {
        "id": "ssPsSut60O6D"
      },
      "outputs": [],
      "source": [
        "from pyspark.sql.functions import split,explode\n",
        "no_eli_name = buss_usr_rev.filter(buss_usr_rev.Is_Elite.isin(0))\n",
        "no_name_buss = no_eli_name.select('name')\n",
        "grouped_category4 = no_name_buss.groupby('name').count()\n",
        "top_buss2 = grouped_category4.sort('count',ascending=False)\n",
        "top_buss2.show(10,truncate=False)"
      ]
    },
    {
      "cell_type": "code",
      "execution_count": null,
      "metadata": {
        "id": "tzz3tLPBanC3"
      },
      "outputs": [],
      "source": [
        "df_7 = top_buss2.toPandas()"
      ]
    },
    {
      "cell_type": "code",
      "execution_count": null,
      "metadata": {
        "id": "XR59iTEjanC3"
      },
      "outputs": [],
      "source": [
        "df_7 = df_7.head(10)"
      ]
    },
    {
      "cell_type": "code",
      "execution_count": null,
      "metadata": {
        "id": "LNoQuASbanC4"
      },
      "outputs": [],
      "source": [
        "df_7['count'] = df_7['count'].astype('float')"
      ]
    },
    {
      "cell_type": "code",
      "execution_count": null,
      "metadata": {
        "id": "NJluLTLKanC4"
      },
      "outputs": [],
      "source": [
        "df_7.plot(kind='barh',x='name',y='count', figsize=(8,6),color='teal')\n",
        "plt.title(\"Business outlets popular among Non-Elite Users\",fontsize=18)\n",
        "plt.xlabel('Number of Reviews')\n",
        "plt.ylabel('Name of the Business')\n",
        "for index,row in df_7.iterrows():\n",
        "  row = (row['count'])\n",
        "  label = format(int(row),',')\n",
        "  plt.annotate(label,xy=(row - 1200,index - 0.1),color='white',fontweight='bold')"
      ]
    },
    {
      "cell_type": "markdown",
      "metadata": {
        "id": "yXJGQ54EfSUA"
      },
      "source": [
        "## Classification Model "
      ]
    },
    {
      "cell_type": "code",
      "execution_count": null,
      "metadata": {
        "id": "_4nV2KSofews"
      },
      "outputs": [],
      "source": [
        "all_user_reviews.show()"
      ]
    },
    {
      "cell_type": "code",
      "execution_count": null,
      "metadata": {
        "id": "mqmtqQCKpX-P"
      },
      "outputs": [],
      "source": [
        "all_user_text = all_user_reviews.select('text','Is_Elite')"
      ]
    },
    {
      "cell_type": "code",
      "execution_count": null,
      "metadata": {
        "id": "1Nx3ycqJqbEE"
      },
      "outputs": [],
      "source": [
        "all_user_text.count()"
      ]
    },
    {
      "cell_type": "code",
      "execution_count": null,
      "metadata": {
        "id": "e5seFNtnph8H"
      },
      "outputs": [],
      "source": [
        "from pyspark.ml.feature import Tokenizer, HashingTF, IDF \n",
        "from pyspark.ml.classification import LogisticRegression\n",
        "from pyspark.ml import Pipeline\n",
        "from pyspark.sql.functions import col"
      ]
    },
    {
      "cell_type": "code",
      "execution_count": null,
      "metadata": {
        "id": "fQHFe3-oB6vm"
      },
      "outputs": [],
      "source": [
        "import nltk\n",
        "import re "
      ]
    },
    {
      "cell_type": "code",
      "execution_count": null,
      "metadata": {
        "id": "Gsf0m3YMCHhT"
      },
      "outputs": [],
      "source": [
        "nltk.download('stopwords')"
      ]
    },
    {
      "cell_type": "code",
      "execution_count": null,
      "metadata": {
        "id": "uFkQszmvB9Yp"
      },
      "outputs": [],
      "source": [
        "from nltk.corpus import stopwords\n",
        "stopwords_nltk = set(nltk.corpus.stopwords.words('english'))"
      ]
    },
    {
      "cell_type": "code",
      "execution_count": null,
      "metadata": {
        "id": "olUbslQ5D8aO"
      },
      "outputs": [],
      "source": [
        "nltk.download('punkt')"
      ]
    },
    {
      "cell_type": "code",
      "execution_count": null,
      "metadata": {
        "id": "zTctGfDvEDsG"
      },
      "outputs": [],
      "source": [
        "all_user_text.printSchema()"
      ]
    },
    {
      "cell_type": "code",
      "execution_count": null,
      "metadata": {
        "id": "o3nSv-GREazk"
      },
      "outputs": [],
      "source": [
        "all_user_text.show(2)"
      ]
    },
    {
      "cell_type": "code",
      "execution_count": null,
      "metadata": {
        "id": "FtHTXjEWpk3k"
      },
      "outputs": [],
      "source": [
        "#2 ML pipeline\n",
        "\n",
        "from pyspark.ml.feature import StopWordsRemover\n",
        "\n",
        "\n",
        "\n",
        "tokenizer = Tokenizer(inputCol = \"text\", outputCol = \"words\") \n",
        "remover = StopWordsRemover(inputCol=\"words\", outputCol=\"filtered\")\n",
        "TF = HashingTF(inputCol = tokenizer.getOutputCol(), outputCol = \"tfFeatures\")\n",
        "idf = IDF(inputCol = \"tfFeatures\",outputCol = \"features\")\n",
        "lr = LogisticRegression(maxIter = 10, regParam = 0.001)\n",
        "pipeline = Pipeline(stages = [tokenizer,remover,TF,idf,lr])"
      ]
    },
    {
      "cell_type": "code",
      "execution_count": null,
      "metadata": {
        "id": "JRMXLJUt4pzW"
      },
      "outputs": [],
      "source": [
        "all_user_text = all_user_text.withColumnRenamed(\"Is_Elite\",\"label\")"
      ]
    },
    {
      "cell_type": "code",
      "execution_count": null,
      "metadata": {
        "id": "LDH_GRkd5Shv"
      },
      "outputs": [],
      "source": [
        "all_user_text.show()"
      ]
    },
    {
      "cell_type": "code",
      "execution_count": null,
      "metadata": {
        "id": "xjYJqnyGp-BK"
      },
      "outputs": [],
      "source": [
        "train = all_user_text.sampleBy(\"label\", fractions={0: 0.9, 1: 0.9}, seed=10)"
      ]
    },
    {
      "cell_type": "code",
      "execution_count": null,
      "metadata": {
        "id": "sVM7ilRUp-Ey"
      },
      "outputs": [],
      "source": [
        "test = all_user_text.subtract(train)"
      ]
    },
    {
      "cell_type": "code",
      "execution_count": null,
      "metadata": {
        "id": "WdqG5_bd5-9m"
      },
      "outputs": [],
      "source": [
        "train.show()"
      ]
    },
    {
      "cell_type": "code",
      "execution_count": null,
      "metadata": {
        "id": "oy3suDvw6Zir"
      },
      "outputs": [],
      "source": [
        "train.groupBy('label').count().show()"
      ]
    },
    {
      "cell_type": "code",
      "execution_count": null,
      "metadata": {
        "id": "uYlwl37up-IT"
      },
      "outputs": [],
      "source": [
        "model = pipeline.fit(train)"
      ]
    },
    {
      "cell_type": "code",
      "execution_count": null,
      "metadata": {
        "id": "GCaFv9dw86_0"
      },
      "outputs": [],
      "source": [
        "prediction = model.transform(test)"
      ]
    },
    {
      "cell_type": "code",
      "execution_count": null,
      "metadata": {
        "id": "IPSZi58P9BU2"
      },
      "outputs": [],
      "source": [
        "prediction.show()"
      ]
    },
    {
      "cell_type": "code",
      "execution_count": null,
      "metadata": {
        "id": "p3i_p9o0KfZZ"
      },
      "outputs": [],
      "source": [
        "from sklearn import metrics\n",
        "\n",
        "actual = prediction.select('label').toPandas()\n",
        "predicted = prediction.select('prediction').toPandas()"
      ]
    },
    {
      "cell_type": "code",
      "execution_count": null,
      "metadata": {
        "id": "Rh6oOvzwWaiG"
      },
      "outputs": [],
      "source": [
        "predicted['prediction'] = predicted['prediction'].astype(int)\n",
        "predicted_arr = predicted['prediction'].to_numpy()\n",
        "actual_arr = actual['label'].to_numpy()"
      ]
    },
    {
      "cell_type": "code",
      "execution_count": null,
      "metadata": {
        "id": "qqNUrvs2XDJ8"
      },
      "outputs": [],
      "source": [
        "predicted_arr"
      ]
    },
    {
      "cell_type": "code",
      "execution_count": null,
      "metadata": {
        "id": "F9laYV70Kfel"
      },
      "outputs": [],
      "source": [
        "print('accuracy score: {}%'.format(round(metrics.accuracy_score(actual_arr, predicted_arr),3)*100))"
      ]
    },
    {
      "cell_type": "code",
      "execution_count": null,
      "metadata": {
        "id": "RV4999FZKfgb"
      },
      "outputs": [],
      "source": [
        "model.save(\"/content/gdrive/MyDrive/Scalable/elite_model.model\")"
      ]
    },
    {
      "cell_type": "code",
      "execution_count": null,
      "metadata": {
        "id": "8hFKR80JKfiJ"
      },
      "outputs": [],
      "source": [
        ""
      ]
    },
    {
      "cell_type": "code",
      "execution_count": null,
      "metadata": {
        "id": "WukSSm_tKfm8"
      },
      "outputs": [],
      "source": [
        ""
      ]
    },
    {
      "cell_type": "code",
      "execution_count": null,
      "metadata": {
        "id": "L2oGld0P9L_v"
      },
      "outputs": [],
      "source": [
        "selected = prediction.select(\"text\",\"probability\",\"prediction\")\n",
        "for row in selected.collect():\n",
        "\ttext, prob, prediction = row\n",
        "\tprint(\"%s --> prediction = %f\" %(text, prediction))"
      ]
    },
    {
      "cell_type": "code",
      "execution_count": null,
      "metadata": {
        "id": "AMLbRMzI-8j4"
      },
      "outputs": [],
      "source": [
        "acc = prediction.select(\"label\",\"prediction\")"
      ]
    },
    {
      "cell_type": "code",
      "execution_count": null,
      "metadata": {
        "id": "SS6kh8QU_jGw"
      },
      "outputs": [],
      "source": [
        "acc.show()"
      ]
    },
    {
      "cell_type": "code",
      "execution_count": null,
      "metadata": {
        "id": "v50bo4Tg_9q9"
      },
      "outputs": [],
      "source": [
        "acc2 = acc.withColumn(\"Valid\", )"
      ]
    },
    {
      "cell_type": "code",
      "execution_count": null,
      "metadata": {
        "id": "5I6p0umeARxX"
      },
      "outputs": [],
      "source": [
        "conditions = when(col(\"label\")==col(\"prediction\"), 1).otherwise(0)\n",
        "acc2 = acc.withColumn(\"Valid\", conditions)"
      ]
    },
    {
      "cell_type": "code",
      "execution_count": null,
      "metadata": {
        "id": "KKIDQUajAiZ3"
      },
      "outputs": [],
      "source": [
        "acc2.groupBy(\"Valid\").count().show()"
      ]
    }
  ],
  "metadata": {
    "colab": {
      "collapsed_sections": [],
      "machine_shape": "hm",
      "name": "Scalable Data",
      "provenance": []
    },
    "kernelspec": {
      "display_name": "Python 3",
      "name": "python3"
    },
    "language_info": {
      "name": "python"
    }
  },
  "nbformat": 4,
  "nbformat_minor": 0
}